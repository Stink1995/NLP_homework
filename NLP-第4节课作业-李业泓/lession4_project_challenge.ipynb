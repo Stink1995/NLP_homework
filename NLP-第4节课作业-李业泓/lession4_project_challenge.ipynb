{
 "cells": [
  {
   "cell_type": "code",
   "execution_count": 494,
   "metadata": {},
   "outputs": [],
   "source": [
    "from sklearn import datasets\n",
    "import numpy as np\n",
    "import matplotlib.pyplot as plt\n",
    "from sklearn.model_selection import train_test_split"
   ]
  },
  {
   "cell_type": "code",
   "execution_count": 495,
   "metadata": {},
   "outputs": [],
   "source": [
    "digits_data = datasets.load_digits()"
   ]
  },
  {
   "cell_type": "code",
   "execution_count": 496,
   "metadata": {},
   "outputs": [],
   "source": [
    "X_ , Y_ = digits_data['data'],digits_data['target']"
   ]
  },
  {
   "cell_type": "code",
   "execution_count": 497,
   "metadata": {},
   "outputs": [
    {
     "data": {
      "text/plain": [
       "array([[ 0.,  0.,  5., 13.,  9.,  1.,  0.,  0.],\n",
       "       [ 0.,  0., 13., 15., 10., 15.,  5.,  0.],\n",
       "       [ 0.,  3., 15.,  2.,  0., 11.,  8.,  0.],\n",
       "       [ 0.,  4., 12.,  0.,  0.,  8.,  8.,  0.],\n",
       "       [ 0.,  5.,  8.,  0.,  0.,  9.,  8.,  0.],\n",
       "       [ 0.,  4., 11.,  0.,  1., 12.,  7.,  0.],\n",
       "       [ 0.,  2., 14.,  5., 10., 12.,  0.,  0.],\n",
       "       [ 0.,  0.,  6., 13., 10.,  0.,  0.,  0.]])"
      ]
     },
     "execution_count": 497,
     "metadata": {},
     "output_type": "execute_result"
    }
   ],
   "source": [
    "digits_data.data[0].reshape([8,8])"
   ]
  },
  {
   "cell_type": "code",
   "execution_count": 498,
   "metadata": {},
   "outputs": [
    {
     "data": {
      "image/png": "[encoded data removed]",
      "text/plain": [
       "<Figure size 432x288 with 10 Axes>"
      ]
     },
     "metadata": {},
     "output_type": "display_data"
    }
   ],
   "source": [
    "for i in range(1,11):\n",
    "    # plt.subplot(nrows,ncols,index)\n",
    "    plt.subplot(2,5,i)\n",
    "    plt.imshow(digits_data.data[i-1].reshape([8,8]),cmap=plt.cm.gray_r)\n",
    "    plt.text(3,10,str(digits_data.target[i-1]))\n",
    "    plt.xticks([])\n",
    "    plt.yticks([])\n",
    "plt.show()"
   ]
  },
  {
   "cell_type": "code",
   "execution_count": 499,
   "metadata": {},
   "outputs": [],
   "source": [
    "# 将数据集划分成训练集和测试集 为了进行交叉验证\n",
    "X_train,X_test,y_train,y_test = train_test_split(digits_data.data,digits_data.target,test_size=0.25)"
   ]
  },
  {
   "cell_type": "code",
   "execution_count": 500,
   "metadata": {},
   "outputs": [],
   "source": [
    "from collections import Counter"
   ]
  },
  {
   "cell_type": "code",
   "execution_count": 501,
   "metadata": {},
   "outputs": [
    {
     "data": {
      "text/plain": [
       "Counter({0: 178,\n",
       "         1: 182,\n",
       "         2: 177,\n",
       "         3: 183,\n",
       "         4: 181,\n",
       "         5: 182,\n",
       "         6: 181,\n",
       "         7: 179,\n",
       "         8: 174,\n",
       "         9: 180})"
      ]
     },
     "execution_count": 501,
     "metadata": {},
     "output_type": "execute_result"
    }
   ],
   "source": [
    "# 查看Y_样本的分类情况 \n",
    "Counter(Y_)"
   ]
  },
  {
   "cell_type": "code",
   "execution_count": 502,
   "metadata": {},
   "outputs": [],
   "source": [
    "# 将标签Y 转化成one-hot格式\n",
    "def convert_to_onehot(Y, C):\n",
    "    \n",
    "    Y = np.eye(C)[Y.reshape(-1)]\n",
    "    return Y"
   ]
  },
  {
   "cell_type": "code",
   "execution_count": 503,
   "metadata": {},
   "outputs": [],
   "source": [
    "y_train_onehot = convert_to_onehot(y_train,10)\n",
    "y_test_onehot = convert_to_onehot(y_test,10)"
   ]
  },
  {
   "cell_type": "markdown",
   "metadata": {},
   "source": [
    "### 1.定义激活函数"
   ]
  },
  {
   "cell_type": "code",
   "execution_count": 504,
   "metadata": {},
   "outputs": [],
   "source": [
    "def softmax(Z):\n",
    "\n",
    "    Z_shift = Z - np.max(Z, axis = 1).reshape(-1,1)\n",
    "    A = np.exp(Z_shift)/ np.sum(np.exp(Z_shift), axis=1).reshape(-1,1)\n",
    "    \n",
    "    cache = Z_shift\n",
    "    \n",
    "    return A, cache"
   ]
  },
  {
   "cell_type": "code",
   "execution_count": 505,
   "metadata": {},
   "outputs": [],
   "source": [
    "def relu(Z):\n",
    "\n",
    "    A = np.maximum(0,Z)\n",
    "    \n",
    "    assert(A.shape == Z.shape)\n",
    "    \n",
    "    cache = Z \n",
    "    return A, cache"
   ]
  },
  {
   "cell_type": "markdown",
   "metadata": {},
   "source": [
    "### 2.初始化参数"
   ]
  },
  {
   "cell_type": "code",
   "execution_count": 506,
   "metadata": {},
   "outputs": [],
   "source": [
    "# Random innitialize the parameters\n",
    "\n",
    "def initialize_parameters(n_x,n_h,n_y):\n",
    "    \n",
    "    W1 = np.random.randn(n_x,n_h)*0.01\n",
    "    b1 = np.zeros((1,n_h))\n",
    "    W2 = np.random.randn(n_h,n_y)*0.01\n",
    "    b2 = np.zeros((1,n_y))\n",
    "    \n",
    "    parameter = {\n",
    "        'W1': W1,\n",
    "        'b1': b1,\n",
    "        'W2': W2,\n",
    "        'b2': b2\n",
    "    }\n",
    "    \n",
    "    return parameter "
   ]
  },
  {
   "cell_type": "code",
   "execution_count": 507,
   "metadata": {},
   "outputs": [],
   "source": [
    "parameter = initialize_parameters(64,32,10)"
   ]
  },
  {
   "cell_type": "code",
   "execution_count": 508,
   "metadata": {},
   "outputs": [],
   "source": [
    "W1 = parameter['W1']\n",
    "b1 = parameter['b1']\n",
    "W2 = parameter['W2']\n",
    "b2 = parameter['b2']"
   ]
  },
  {
   "cell_type": "code",
   "execution_count": 509,
   "metadata": {},
   "outputs": [
    {
     "name": "stdout",
     "output_type": "stream",
     "text": [
      "(64, 32)\n",
      "(1, 32)\n",
      "(32, 10)\n",
      "(1, 10)\n"
     ]
    }
   ],
   "source": [
    "print(W1.shape)\n",
    "print(b1.shape)\n",
    "print(W2.shape)\n",
    "print(b2.shape)"
   ]
  },
  {
   "cell_type": "markdown",
   "metadata": {},
   "source": [
    "### 3.向前传播"
   ]
  },
  {
   "cell_type": "code",
   "execution_count": 512,
   "metadata": {},
   "outputs": [],
   "source": [
    "def linear_forward(A, W, b):\n",
    "    \n",
    "    Z = np.dot(A,W) + b\n",
    "    \n",
    "    cache = (A, W, b)\n",
    "    \n",
    "    return Z, cache"
   ]
  },
  {
   "cell_type": "markdown",
   "metadata": {},
   "source": [
    "### 4.cost function"
   ]
  },
  {
   "cell_type": "code",
   "execution_count": 513,
   "metadata": {},
   "outputs": [],
   "source": [
    "def compute_cost(AL, Y):\n",
    "    m = Y.shape[0]\n",
    "    cost = -(np.sum(Y * np.log(AL))) / float(m)\n",
    "    #cost = np.squeeze(cost)\n",
    "    assert(cost.shape == ())\n",
    "    \n",
    "    return cost"
   ]
  },
  {
   "cell_type": "markdown",
   "metadata": {},
   "source": [
    "### 5.向后传播"
   ]
  },
  {
   "cell_type": "code",
   "execution_count": 514,
   "metadata": {},
   "outputs": [],
   "source": [
    "def softmax_backward(Y, cache):\n",
    "    Z = cache  #注意cache中的Z实际是Z_shift\n",
    "    \n",
    "    s = np.exp(Z)/ np.sum(np.exp(Z), axis=1).reshape(-1,1)\n",
    "    dZ = s - Y\n",
    "    \n",
    "    assert (dZ.shape == Z.shape)\n",
    "    \n",
    "    return dZ"
   ]
  },
  {
   "cell_type": "code",
   "execution_count": 515,
   "metadata": {},
   "outputs": [],
   "source": [
    "def linear_backward(dZ, inputs):\n",
    "    A_prev, W, b = inputs\n",
    "    m = A_prev.shape[0]\n",
    "\n",
    "    dW = np.dot(A_prev.T,dZ) / float(m)\n",
    "    db = np.sum(dZ, axis=0, keepdims=True) / float(m)\n",
    "    dA_prev = np.dot(dZ,W.T)\n",
    "    \n",
    "    assert (dA_prev.shape == A_prev.shape)\n",
    "    assert (dW.shape == W.shape)\n",
    "    assert (db.shape == b.shape)\n",
    "    \n",
    "    return dA_prev, dW, db"
   ]
  },
  {
   "cell_type": "code",
   "execution_count": 516,
   "metadata": {},
   "outputs": [],
   "source": [
    "def relu_backward(dA, cache):\n",
    "    Z = cache\n",
    "    dZ = np.array(dA, copy=True)  # just converting dz to a correct object.\n",
    "    \n",
    "    # When z <= 0, you should set dz to 0 as well. \n",
    "    dZ[Z <= 0] = 0\n",
    "    \n",
    "    assert (dZ.shape == Z.shape)\n",
    "    \n",
    "    return dZ"
   ]
  },
  {
   "cell_type": "markdown",
   "metadata": {},
   "source": [
    "### 6.梯度下降算法"
   ]
  },
  {
   "cell_type": "code",
   "execution_count": 520,
   "metadata": {},
   "outputs": [],
   "source": [
    "def get_parameter_gradient(X,Y,W1,b1,W2,b2):\n",
    "    \n",
    "    m = X.shape[0]\n",
    "    # 隐藏层第一层线性组合\n",
    "    l1 , cache_l1 = linear_forward(X,W1,b1)\n",
    "    # 隐藏层第一层激活函数 relu\n",
    "    r1 , cache_r1 = relu(l1)\n",
    "    # 隐藏层第二层线性组合\n",
    "    l2 , cache_l2 = linear_forward(r1,W2,b2)\n",
    "    # 隐藏层第二层激活函数 softmax\n",
    "    s1 , cache_s1 = softmax(l2)\n",
    "    # 计算交叉熵损失函数\n",
    "    cost = compute_cost(s1,Y)\n",
    "    \n",
    "    # 然后反向传播 得到dW1,db1,dW2,db2\n",
    "    ds = softmax_backward(Y , cache_s1)\n",
    "    dl2 , dW2 , db2 = linear_backward(ds , cache_l2)\n",
    "    dr = relu_backward(dl2 , cache_r1)\n",
    "    dx , dW1 , db1 = linear_backward(dr , cache_l1)\n",
    "    \n",
    "    result = {\n",
    "        \"dW1\": dW1,\n",
    "        \"db1\": db1,\n",
    "        \"dW2\": dW2,\n",
    "        \"db2\": db2\n",
    "    }\n",
    "    \n",
    "    return result,cost"
   ]
  },
  {
   "cell_type": "code",
   "execution_count": 521,
   "metadata": {
    "collapsed": true
   },
   "outputs": [
    {
     "data": {
      "text/plain": [
       "({'dW1': array([[ 0.00000000e+00,  0.00000000e+00,  0.00000000e+00, ...,\n",
       "           0.00000000e+00,  0.00000000e+00,  0.00000000e+00],\n",
       "         [ 8.01548932e-04, -9.36525733e-04, -1.35541975e-04, ...,\n",
       "          -7.12316821e-04, -2.15438004e-03, -1.08788202e-03],\n",
       "         [ 7.69013446e-03, -7.82981375e-03, -6.58178117e-03, ...,\n",
       "          -4.00205566e-03, -2.06484491e-02, -7.94011150e-03],\n",
       "         ...,\n",
       "         [ 6.63766297e-03, -9.47113595e-03,  9.29994200e-04, ...,\n",
       "          -2.19511749e-03,  3.92967616e-03, -7.08106752e-03],\n",
       "         [ 5.58611469e-03, -3.02959594e-03,  4.48089077e-04, ...,\n",
       "          -9.19401099e-04,  3.13294794e-03, -4.39599984e-03],\n",
       "         [ 6.33395659e-04,  3.46722509e-04,  1.18818476e-03, ...,\n",
       "          -2.28603033e-05,  1.15023303e-04, -1.08497964e-03]]),\n",
       "  'db1': array([[-2.19466268e-05, -5.21478182e-04, -7.91986365e-04,\n",
       "          -3.26780221e-04,  2.64173129e-05, -1.25624178e-04,\n",
       "          -3.04409947e-04, -6.41384996e-04,  1.42399750e-04,\n",
       "          -1.92285168e-03,  6.06309003e-04,  2.41537329e-04,\n",
       "          -1.26687881e-04, -1.33780728e-04, -3.61282735e-04,\n",
       "           5.97766872e-04,  4.19425317e-04, -5.09525130e-04,\n",
       "           2.33026838e-04,  3.15754339e-04, -7.15412225e-05,\n",
       "           4.99858365e-04, -7.56640138e-04, -1.50611805e-04,\n",
       "          -6.93326743e-04, -9.07062349e-06,  2.40184841e-06,\n",
       "          -1.27443603e-03,  2.47484758e-04, -3.55844924e-04,\n",
       "           5.77457454e-05, -7.36767552e-04]]),\n",
       "  'dW2': array([[-7.52548304e-03,  1.81941823e-02,  2.44219351e-02,\n",
       "          -3.67140472e-02, -9.12468613e-03,  5.24066443e-03,\n",
       "           1.21295089e-02, -4.26705081e-04, -1.29335980e-03,\n",
       "          -4.90200947e-03],\n",
       "         [ 1.27593369e-02, -1.95022562e-02,  1.12540345e-02,\n",
       "          -4.95116109e-03, -2.31455870e-02,  1.15138486e-02,\n",
       "          -1.89922077e-03,  4.98595864e-03,  4.71915671e-03,\n",
       "           4.26588986e-03],\n",
       "         [ 1.45082395e-02, -4.80979767e-03, -7.81480237e-03,\n",
       "           4.72995551e-03,  5.39804381e-03,  1.28153737e-02,\n",
       "           1.29243909e-02, -3.56366057e-02, -3.38564221e-03,\n",
       "           1.27084449e-03],\n",
       "         [-3.57219179e-02,  2.47359110e-02, -9.69801539e-04,\n",
       "           2.62051336e-02,  2.07325790e-02, -4.05433216e-03,\n",
       "          -1.29284385e-02, -2.35616962e-02, -4.00483847e-03,\n",
       "           9.56740109e-03],\n",
       "         [-1.39422941e-02,  8.82830259e-03, -1.00049533e-02,\n",
       "           1.24758153e-03,  3.17413063e-03,  1.96197329e-02,\n",
       "           1.95650475e-02, -1.34894850e-02, -1.47127407e-02,\n",
       "          -2.85322021e-04],\n",
       "         [ 3.89541716e-02, -2.53308237e-02,  3.21938041e-03,\n",
       "          -1.57727287e-02,  1.82174662e-02, -1.04256925e-02,\n",
       "          -7.39360264e-03,  1.20961554e-03,  4.46228130e-03,\n",
       "          -7.14006754e-03],\n",
       "         [ 1.23836020e-02,  1.69857014e-02,  3.13354189e-03,\n",
       "          -3.54673109e-02,  1.71721241e-02, -4.48899272e-03,\n",
       "           1.18142622e-02, -1.55630211e-02,  5.17172758e-03,\n",
       "          -1.11416343e-02],\n",
       "         [ 4.95961107e-03,  3.14021639e-04, -3.07907699e-03,\n",
       "           3.34397234e-03,  2.60870930e-03, -8.35303022e-03,\n",
       "           7.62432979e-04, -7.04693161e-03,  1.62173174e-03,\n",
       "           4.86855975e-03],\n",
       "         [ 4.10077603e-02, -8.11362318e-03, -3.43797055e-03,\n",
       "          -5.85945676e-04,  2.18932194e-02, -1.58942753e-02,\n",
       "           1.13290973e-02, -1.47979044e-02, -1.65604389e-02,\n",
       "          -1.48399190e-02],\n",
       "         [ 8.79678097e-03,  6.96600094e-03, -8.93402303e-03,\n",
       "          -3.21859722e-02,  3.32704500e-02,  1.09791583e-02,\n",
       "           3.45683959e-02, -2.86218362e-02, -2.38131300e-03,\n",
       "          -2.24576417e-02],\n",
       "         [-2.91398695e-02,  8.78017531e-03,  7.05277588e-03,\n",
       "           4.03448763e-03,  8.47494721e-03, -1.36916276e-02,\n",
       "           8.51440464e-03,  8.56554219e-03,  5.39861080e-03,\n",
       "          -7.98944652e-03],\n",
       "         [-1.53017243e-02, -9.40012929e-03,  2.13433797e-03,\n",
       "          -1.85324140e-02,  2.40093217e-02,  2.85798760e-02,\n",
       "           2.97936107e-02, -9.56121555e-03, -1.95427975e-02,\n",
       "          -1.21788656e-02],\n",
       "         [ 1.98193163e-02, -3.95124773e-02, -2.52913520e-02,\n",
       "          -2.08877997e-02,  1.15103932e-02,  2.93386307e-02,\n",
       "           2.03934667e-02,  1.08541114e-02, -5.07085468e-04,\n",
       "          -5.71720365e-03],\n",
       "         [ 1.12317696e-02,  1.38079010e-04, -1.41280887e-02,\n",
       "          -2.80808454e-02,  1.29575564e-02,  4.40130705e-03,\n",
       "           7.13349976e-03,  1.28895525e-02,  9.26283976e-03,\n",
       "          -1.58056700e-02],\n",
       "         [ 2.71075102e-03, -7.40816888e-03, -3.19537779e-03,\n",
       "          -2.25905658e-03,  1.71025163e-03,  2.56905507e-03,\n",
       "           1.14323435e-03,  1.39712311e-03,  1.50582994e-03,\n",
       "           1.82635814e-03],\n",
       "         [-4.84983549e-03,  3.58068512e-03, -7.23034387e-03,\n",
       "           5.98628349e-03, -6.01121478e-03,  5.55292073e-03,\n",
       "          -8.70223665e-03,  3.80052825e-03,  4.56354871e-03,\n",
       "           3.30966450e-03],\n",
       "         [ 9.78718966e-04,  2.23616948e-03,  2.61931844e-03,\n",
       "           3.10246503e-03, -2.62090953e-03, -1.29302117e-03,\n",
       "          -3.02835250e-03, -5.79634491e-04,  1.29088022e-03,\n",
       "          -2.70563445e-03],\n",
       "         [ 6.03658030e-03,  3.13303672e-03,  4.97428760e-03,\n",
       "           5.71129294e-03, -8.77336528e-03, -1.32035385e-02,\n",
       "          -3.00173726e-03, -3.69962927e-03,  4.37955980e-03,\n",
       "           4.44351297e-03],\n",
       "         [-9.57914789e-03,  1.14219715e-03,  1.24094435e-02,\n",
       "           1.43581482e-02, -3.18938093e-02,  9.72870157e-03,\n",
       "          -1.36813648e-02,  1.23319908e-03,  6.43033191e-03,\n",
       "           9.85230064e-03],\n",
       "         [ 1.83720967e-03, -1.32746123e-02, -3.87713063e-03,\n",
       "           2.01796473e-02, -1.76054156e-02,  1.86001241e-02,\n",
       "           3.01142737e-02, -3.64698327e-02, -5.09217561e-04,\n",
       "           1.00495403e-03],\n",
       "         [ 6.86071773e-03,  1.39601621e-03,  1.65103425e-02,\n",
       "           2.05612974e-02, -3.57945256e-02,  4.54395707e-03,\n",
       "           1.46458168e-02, -4.25444493e-02, -5.15103441e-03,\n",
       "           1.89718616e-02],\n",
       "         [ 3.74424986e-02, -2.28714263e-02, -5.15704470e-02,\n",
       "          -3.42650370e-03,  2.39020922e-02, -1.14504368e-02,\n",
       "           1.13607881e-02, -1.95736719e-02,  9.63010219e-03,\n",
       "           2.65570046e-02],\n",
       "         [ 3.36308913e-02, -4.58245975e-02,  2.99102889e-02,\n",
       "          -6.08310348e-03, -5.12352076e-03,  1.84009373e-02,\n",
       "           3.39885176e-02, -4.16844803e-02, -2.13897476e-02,\n",
       "           4.17481458e-03],\n",
       "         [-7.09065963e-03,  3.73647243e-03,  4.21220850e-03,\n",
       "           9.74443291e-03,  6.89778608e-03, -3.03882940e-02,\n",
       "          -1.65468185e-02,  1.02920753e-02,  9.34344482e-03,\n",
       "           9.79935204e-03],\n",
       "         [ 3.68082718e-03,  1.92007125e-03,  4.21364719e-03,\n",
       "          -5.49868672e-03, -1.44026822e-05,  7.97462479e-04,\n",
       "           4.45274380e-03, -8.22002200e-04,  2.20832756e-03,\n",
       "          -1.09379879e-02],\n",
       "         [-3.41598224e-05,  1.13259718e-04, -6.49885019e-04,\n",
       "           1.34734455e-04,  1.27350732e-04,  1.32531615e-04,\n",
       "           1.25481669e-04,  1.28798170e-04, -1.20667342e-04,\n",
       "           4.25558241e-05],\n",
       "         [ 3.54103179e-02, -2.11011912e-02, -5.24568582e-02,\n",
       "          -2.38711085e-02,  3.19554584e-02, -2.47200616e-02,\n",
       "           2.74795052e-02,  5.38160400e-03, -5.42594760e-03,\n",
       "           2.73482816e-02],\n",
       "         [ 2.81005927e-04,  9.79350895e-03,  7.06419288e-03,\n",
       "           1.09588047e-02, -4.94202135e-03, -1.74501757e-02,\n",
       "          -2.92765129e-02,  1.39822648e-02,  5.35947848e-03,\n",
       "           4.22945416e-03],\n",
       "         [ 1.18116196e-02, -1.27466378e-02, -1.14002308e-02,\n",
       "          -6.76525097e-03, -2.32182182e-03,  4.43893670e-03,\n",
       "          -1.72877740e-02,  2.20954059e-02,  1.08328405e-02,\n",
       "           1.34291271e-03],\n",
       "         [ 1.92194720e-03,  1.58822107e-03,  8.10197665e-05,\n",
       "           1.09747422e-03,  1.77958860e-03, -5.14692592e-03,\n",
       "           1.79265676e-03, -4.94712053e-03,  3.03294205e-05,\n",
       "           1.80280941e-03],\n",
       "         [-1.44507431e-02,  1.47308362e-02, -1.26775679e-02,\n",
       "          -1.00708407e-02,  5.32838595e-02, -2.64683964e-02,\n",
       "           4.50583712e-02, -3.57349718e-02, -2.49297899e-03,\n",
       "          -1.11775680e-02],\n",
       "         [ 3.56005595e-03,  3.73775344e-03,  1.45260463e-03,\n",
       "          -8.37729051e-04,  3.60079162e-03, -1.43488517e-02,\n",
       "           3.74691430e-03, -2.37565824e-03,  2.63740624e-03,\n",
       "          -1.17328716e-03]]),\n",
       "  'db2': array([[ 0.0001762 ,  0.00468427,  0.00549517,  0.00341343,  0.00169114,\n",
       "          -0.00625905, -0.0020654 , -0.0104142 ,  0.00275454,  0.00052389]])},\n",
       " 2.2970599641663703)"
      ]
     },
     "execution_count": 521,
     "metadata": {},
     "output_type": "execute_result"
    }
   ],
   "source": [
    "get_parameter_gradient(X_train,y_train_onehot,W1,b1,W2,b2)"
   ]
  },
  {
   "cell_type": "code",
   "execution_count": 522,
   "metadata": {},
   "outputs": [],
   "source": [
    "def gradient_descent(X,Y,W1=W1,b1=b1,W2=W2,b2=b2,num_iterations=10000,learning_rate=0.01,print_cost=False):\n",
    "    \n",
    "    costs = []\n",
    "    \n",
    "    for i in range(num_iterations):\n",
    "        \n",
    "        result,cost = get_parameter_gradient(X,Y,W1,b1,W2,b2)\n",
    "        \n",
    "        dW1 = result['dW1']\n",
    "        db1 = result['db1']\n",
    "        dW2 = result['dW2']\n",
    "        db2 = result['db2']\n",
    "        \n",
    "        W1 = W1 - learning_rate * dW1\n",
    "        b1 = b1 - learning_rate * db1\n",
    "        W2 = W2 - learning_rate * dW2\n",
    "        b2 = b2 - learning_rate * db2\n",
    "        \n",
    "        if i % 100 == 0:\n",
    "            costs.append(cost)\n",
    "        if print_cost and i % 100 == 0:\n",
    "            print (\"Cost after iteration %i: %f\" %(i, cost))\n",
    "            \n",
    "    params = {\n",
    "        \"W1\" : W1,\n",
    "        \"b1\" : b1,\n",
    "        \"W2\" : W2,\n",
    "        \"b2\" : b2\n",
    "    }\n",
    "    \n",
    "    return params,costs"
   ]
  },
  {
   "cell_type": "code",
   "execution_count": 523,
   "metadata": {
    "collapsed": true
   },
   "outputs": [
    {
     "name": "stdout",
     "output_type": "stream",
     "text": [
      "Cost after iteration 0: 2.297060\n",
      "Cost after iteration 100: 1.026689\n",
      "Cost after iteration 200: 0.365782\n",
      "Cost after iteration 300: 0.227608\n",
      "Cost after iteration 400: 0.167878\n",
      "Cost after iteration 500: 0.134355\n",
      "Cost after iteration 600: 0.112720\n",
      "Cost after iteration 700: 0.097477\n",
      "Cost after iteration 800: 0.086120\n",
      "Cost after iteration 900: 0.077179\n",
      "Cost after iteration 1000: 0.069894\n",
      "Cost after iteration 1100: 0.063801\n",
      "Cost after iteration 1200: 0.058626\n",
      "Cost after iteration 1300: 0.054152\n",
      "Cost after iteration 1400: 0.050260\n",
      "Cost after iteration 1500: 0.046824\n",
      "Cost after iteration 1600: 0.043780\n",
      "Cost after iteration 1700: 0.041065\n",
      "Cost after iteration 1800: 0.038632\n",
      "Cost after iteration 1900: 0.036438\n",
      "Cost after iteration 2000: 0.034449\n",
      "Cost after iteration 2100: 0.032646\n",
      "Cost after iteration 2200: 0.031001\n",
      "Cost after iteration 2300: 0.029492\n",
      "Cost after iteration 2400: 0.028103\n",
      "Cost after iteration 2500: 0.026820\n",
      "Cost after iteration 2600: 0.025631\n",
      "Cost after iteration 2700: 0.024526\n",
      "Cost after iteration 2800: 0.023497\n",
      "Cost after iteration 2900: 0.022536\n",
      "Cost after iteration 3000: 0.021637\n",
      "Cost after iteration 3100: 0.020795\n",
      "Cost after iteration 3200: 0.020003\n",
      "Cost after iteration 3300: 0.019254\n",
      "Cost after iteration 3400: 0.018549\n",
      "Cost after iteration 3500: 0.017885\n",
      "Cost after iteration 3600: 0.017258\n",
      "Cost after iteration 3700: 0.016665\n",
      "Cost after iteration 3800: 0.016104\n",
      "Cost after iteration 3900: 0.015573\n",
      "Cost after iteration 4000: 0.015069\n",
      "Cost after iteration 4100: 0.014592\n",
      "Cost after iteration 4200: 0.014138\n",
      "Cost after iteration 4300: 0.013707\n",
      "Cost after iteration 4400: 0.013297\n",
      "Cost after iteration 4500: 0.012906\n",
      "Cost after iteration 4600: 0.012533\n",
      "Cost after iteration 4700: 0.012177\n",
      "Cost after iteration 4800: 0.011838\n",
      "Cost after iteration 4900: 0.011513\n",
      "Cost after iteration 5000: 0.011203\n",
      "Cost after iteration 5100: 0.010905\n",
      "Cost after iteration 5200: 0.010621\n",
      "Cost after iteration 5300: 0.010348\n",
      "Cost after iteration 5400: 0.010087\n",
      "Cost after iteration 5500: 0.009837\n",
      "Cost after iteration 5600: 0.009596\n",
      "Cost after iteration 5700: 0.009365\n",
      "Cost after iteration 5800: 0.009144\n",
      "Cost after iteration 5900: 0.008930\n",
      "Cost after iteration 6000: 0.008725\n",
      "Cost after iteration 6100: 0.008528\n",
      "Cost after iteration 6200: 0.008338\n",
      "Cost after iteration 6300: 0.008155\n",
      "Cost after iteration 6400: 0.007979\n",
      "Cost after iteration 6500: 0.007810\n",
      "Cost after iteration 6600: 0.007646\n",
      "Cost after iteration 6700: 0.007489\n",
      "Cost after iteration 6800: 0.007336\n",
      "Cost after iteration 6900: 0.007189\n",
      "Cost after iteration 7000: 0.007047\n",
      "Cost after iteration 7100: 0.006910\n",
      "Cost after iteration 7200: 0.006777\n",
      "Cost after iteration 7300: 0.006648\n",
      "Cost after iteration 7400: 0.006524\n",
      "Cost after iteration 7500: 0.006403\n",
      "Cost after iteration 7600: 0.006287\n",
      "Cost after iteration 7700: 0.006173\n",
      "Cost after iteration 7800: 0.006064\n",
      "Cost after iteration 7900: 0.005957\n",
      "Cost after iteration 8000: 0.005854\n",
      "Cost after iteration 8100: 0.005754\n",
      "Cost after iteration 8200: 0.005656\n",
      "Cost after iteration 8300: 0.005562\n",
      "Cost after iteration 8400: 0.005470\n",
      "Cost after iteration 8500: 0.005381\n",
      "Cost after iteration 8600: 0.005294\n",
      "Cost after iteration 8700: 0.005210\n",
      "Cost after iteration 8800: 0.005128\n",
      "Cost after iteration 8900: 0.005048\n",
      "Cost after iteration 9000: 0.004970\n",
      "Cost after iteration 9100: 0.004894\n",
      "Cost after iteration 9200: 0.004820\n",
      "Cost after iteration 9300: 0.004748\n",
      "Cost after iteration 9400: 0.004678\n",
      "Cost after iteration 9500: 0.004610\n",
      "Cost after iteration 9600: 0.004543\n",
      "Cost after iteration 9700: 0.004478\n",
      "Cost after iteration 9800: 0.004415\n",
      "Cost after iteration 9900: 0.004353\n"
     ]
    }
   ],
   "source": [
    "params,costs = gradient_descent(X_train,y_train_onehot,print_cost=True)"
   ]
  },
  {
   "cell_type": "code",
   "execution_count": 524,
   "metadata": {},
   "outputs": [
    {
     "data": {
      "text/plain": [
       "[<matplotlib.lines.Line2D at 0x1a248d9358>]"
      ]
     },
     "execution_count": 524,
     "metadata": {},
     "output_type": "execute_result"
    },
    {
     "data": {
      "image/png": "[encoded data removed]",
      "text/plain": [
       "<Figure size 432x288 with 1 Axes>"
      ]
     },
     "metadata": {
      "needs_background": "light"
     },
     "output_type": "display_data"
    }
   ],
   "source": [
    "plt.plot(list(range(100)),costs)"
   ]
  },
  {
   "cell_type": "code",
   "execution_count": 525,
   "metadata": {},
   "outputs": [],
   "source": [
    "best_W1 = params['W1']\n",
    "best_b1 = params['b1']\n",
    "best_W2 = params['W2']\n",
    "best_b2 = params['b2']"
   ]
  },
  {
   "cell_type": "code",
   "execution_count": 526,
   "metadata": {},
   "outputs": [],
   "source": [
    "def predict(X,best_W1=best_W1,best_b1=best_b1,best_W2=best_W2,best_b2=best_b2):\n",
    "    \n",
    "    m = X.shape[0]\n",
    "    l1 , cache_l1 = linear_forward(X,best_W1,best_b1)\n",
    "    r1 , cache_r1 = relu(l1)\n",
    "    l2 , cache_l2 = linear_forward(r1,best_W2,best_b2)\n",
    "    s1 , cache_s1 = softmax(l2)\n",
    "    \n",
    "    predict_y_prob = s1\n",
    "    \n",
    "    y_predict = np.argmax(predict_y_prob,axis=1)\n",
    "    \n",
    "    return y_predict"
   ]
  },
  {
   "cell_type": "code",
   "execution_count": 527,
   "metadata": {},
   "outputs": [],
   "source": [
    "predict_y = predict(X_test)"
   ]
  },
  {
   "cell_type": "code",
   "execution_count": 528,
   "metadata": {},
   "outputs": [],
   "source": [
    "m = y_test.shape[0]"
   ]
  },
  {
   "cell_type": "code",
   "execution_count": 529,
   "metadata": {},
   "outputs": [
    {
     "name": "stdout",
     "output_type": "stream",
     "text": [
      "Accuracy: 0.9644444444444444\n"
     ]
    }
   ],
   "source": [
    "print(\"Accuracy: \"  + str(np.sum(predict_y == y_test) / float(m)))"
   ]
  },
  {
   "cell_type": "code",
   "execution_count": null,
   "metadata": {},
   "outputs": [],
   "source": []
  }
 ],
 "metadata": {
  "kernelspec": {
   "display_name": "Python 3",
   "language": "python",
   "name": "python3"
  },
  "language_info": {
   "codemirror_mode": {
    "name": "ipython",
    "version": 3
   },
   "file_extension": ".py",
   "mimetype": "text/x-python",
   "name": "python",
   "nbconvert_exporter": "python",
   "pygments_lexer": "ipython3",
   "version": "3.7.3"
  }
 },
 "nbformat": 4,
 "nbformat_minor": 2
}
