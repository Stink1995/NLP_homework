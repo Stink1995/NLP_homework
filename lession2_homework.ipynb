{
 "cells": [
  {
   "cell_type": "markdown",
   "metadata": {},
   "source": [
    "# Build Graph"
   ]
  },
  {
   "cell_type": "code",
   "execution_count": 64,
   "metadata": {},
   "outputs": [],
   "source": [
    "coordination_source = \"\"\"\n",
    "{name:'兰州', geoCoord:[103.73, 36.03]},\n",
    "{name:'嘉峪关', geoCoord:[98.17, 39.47]},\n",
    "{name:'西宁', geoCoord:[101.74, 36.56]},\n",
    "{name:'成都', geoCoord:[104.06, 30.67]},\n",
    "{name:'石家庄', geoCoord:[114.48, 38.03]},\n",
    "{name:'拉萨', geoCoord:[102.73, 25.04]},\n",
    "{name:'贵阳', geoCoord:[106.71, 26.57]},\n",
    "{name:'武汉', geoCoord:[114.31, 30.52]},\n",
    "{name:'郑州', geoCoord:[113.65, 34.76]},\n",
    "{name:'济南', geoCoord:[117, 36.65]},\n",
    "{name:'南京', geoCoord:[118.78, 32.04]},\n",
    "{name:'合肥', geoCoord:[117.27, 31.86]},\n",
    "{name:'杭州', geoCoord:[120.19, 30.26]},\n",
    "{name:'南昌', geoCoord:[115.89, 28.68]},\n",
    "{name:'福州', geoCoord:[119.3, 26.08]},\n",
    "{name:'广州', geoCoord:[113.23, 23.16]},\n",
    "{name:'长沙', geoCoord:[113, 28.21]},\n",
    "//{name:'海口', geoCoord:[110.35, 20.02]},\n",
    "{name:'沈阳', geoCoord:[123.38, 41.8]},\n",
    "{name:'长春', geoCoord:[125.35, 43.88]},\n",
    "{name:'哈尔滨', geoCoord:[126.63, 45.75]},\n",
    "{name:'太原', geoCoord:[112.53, 37.87]},\n",
    "{name:'西安', geoCoord:[108.95, 34.27]},\n",
    "//{name:'台湾', geoCoord:[121.30, 25.03]},\n",
    "{name:'北京', geoCoord:[116.46, 39.92]},\n",
    "{name:'上海', geoCoord:[121.48, 31.22]},\n",
    "{name:'重庆', geoCoord:[106.54, 29.59]},\n",
    "{name:'天津', geoCoord:[117.2, 39.13]},\n",
    "{name:'呼和浩特', geoCoord:[111.65, 40.82]},\n",
    "{name:'南宁', geoCoord:[108.33, 22.84]},\n",
    "//{name:'西藏', geoCoord:[91.11, 29.97]},\n",
    "{name:'银川', geoCoord:[106.27, 38.47]},\n",
    "{name:'乌鲁木齐', geoCoord:[87.68, 43.77]},\n",
    "{name:'香港', geoCoord:[114.17, 22.28]},\n",
    "{name:'澳门', geoCoord:[113.54, 22.19]}\n",
    "\"\"\""
   ]
  },
  {
   "cell_type": "code",
   "execution_count": 65,
   "metadata": {},
   "outputs": [],
   "source": [
    "import re"
   ]
  },
  {
   "cell_type": "code",
   "execution_count": 66,
   "metadata": {},
   "outputs": [],
   "source": [
    "city = dict()"
   ]
  },
  {
   "cell_type": "code",
   "execution_count": 67,
   "metadata": {},
   "outputs": [],
   "source": [
    "def get_city_coordinate(city_coordinate):\n",
    "    for index,line in enumerate(city_coordinate.split('\\n')):\n",
    "        if not line : continue\n",
    "\n",
    "        city_pattern = re.compile(r\"([\\u4e00-\\u9fa5]+)\")\n",
    "        city_name = city_pattern.findall(line)[0]\n",
    "        \n",
    "        coordinate_pattern = re.compile(r\"\\[(\\d+.\\d+),\\s(\\d+.\\d+)\\]\")\n",
    "        long,lat = coordinate_pattern.findall(line)[0]\n",
    "        \n",
    "        city[city_name] = (float(long),float(lat))\n",
    "        \n",
    "    return city"
   ]
  },
  {
   "cell_type": "code",
   "execution_count": 68,
   "metadata": {},
   "outputs": [],
   "source": [
    "city_location = get_city_coordinate(coordination_source)"
   ]
  },
  {
   "cell_type": "code",
   "execution_count": 69,
   "metadata": {
    "collapsed": true
   },
   "outputs": [
    {
     "data": {
      "text/plain": [
       "{'兰州': (103.73, 36.03),\n",
       " '嘉峪关': (98.17, 39.47),\n",
       " '西宁': (101.74, 36.56),\n",
       " '成都': (104.06, 30.67),\n",
       " '石家庄': (114.48, 38.03),\n",
       " '拉萨': (102.73, 25.04),\n",
       " '贵阳': (106.71, 26.57),\n",
       " '武汉': (114.31, 30.52),\n",
       " '郑州': (113.65, 34.76),\n",
       " '济南': (117.0, 36.65),\n",
       " '南京': (118.78, 32.04),\n",
       " '合肥': (117.27, 31.86),\n",
       " '杭州': (120.19, 30.26),\n",
       " '南昌': (115.89, 28.68),\n",
       " '福州': (119.3, 26.08),\n",
       " '广州': (113.23, 23.16),\n",
       " '长沙': (113.0, 28.21),\n",
       " '海口': (110.35, 20.02),\n",
       " '沈阳': (123.38, 41.8),\n",
       " '长春': (125.35, 43.88),\n",
       " '哈尔滨': (126.63, 45.75),\n",
       " '太原': (112.53, 37.87),\n",
       " '西安': (108.95, 34.27),\n",
       " '台湾': (121.3, 25.03),\n",
       " '北京': (116.46, 39.92),\n",
       " '上海': (121.48, 31.22),\n",
       " '重庆': (106.54, 29.59),\n",
       " '天津': (117.2, 39.13),\n",
       " '呼和浩特': (111.65, 40.82),\n",
       " '南宁': (108.33, 22.84),\n",
       " '西藏': (91.11, 29.97),\n",
       " '银川': (106.27, 38.47),\n",
       " '乌鲁木齐': (87.68, 43.77),\n",
       " '香港': (114.17, 22.28),\n",
       " '澳门': (113.54, 22.19)}"
      ]
     },
     "execution_count": 69,
     "metadata": {},
     "output_type": "execute_result"
    }
   ],
   "source": [
    "city_location"
   ]
  },
  {
   "cell_type": "code",
   "execution_count": 70,
   "metadata": {},
   "outputs": [],
   "source": [
    "import math"
   ]
  },
  {
   "cell_type": "code",
   "execution_count": 71,
   "metadata": {},
   "outputs": [],
   "source": [
    "def formula_distance(origin,destination):\n",
    "    ori_long,ori_lat = origin\n",
    "    des_long,des_lat = destination\n",
    "    \n",
    "    radius = 6371\n",
    "    \n",
    "#   已知经纬度可以运用haversine formula 求两点之间的球面距离\n",
    "#   math.radians 返回一个角度的弧度值  \n",
    "    dlon = math.radians(des_long - ori_long)\n",
    "    dlat = math.radians(des_lat - ori_lat)\n",
    "    \n",
    "    a = math.sin(dlat/2)**2+math.cos(math.radians(ori_lat))*math.cos(math.radians(des_lat)) * math.sin(dlon/2)**2\n",
    "    c = 2 * math.atan2(math.sqrt(a) , math.sqrt(1-a))\n",
    "    d = radius * c\n",
    "    \n",
    "    return d"
   ]
  },
  {
   "cell_type": "code",
   "execution_count": 72,
   "metadata": {},
   "outputs": [],
   "source": [
    "def get_city_distance(origin,destination):\n",
    "    return formula_distance(city_location[origin],city_location[destination])"
   ]
  },
  {
   "cell_type": "code",
   "execution_count": 73,
   "metadata": {},
   "outputs": [
    {
     "data": {
      "text/plain": [
       "163.0760821403945"
      ]
     },
     "execution_count": 73,
     "metadata": {},
     "output_type": "execute_result"
    }
   ],
   "source": [
    "get_city_distance('上海','杭州')"
   ]
  },
  {
   "cell_type": "code",
   "execution_count": 74,
   "metadata": {},
   "outputs": [
    {
     "data": {
      "text/plain": [
       "1108.4082507057942"
      ]
     },
     "execution_count": 74,
     "metadata": {},
     "output_type": "execute_result"
    }
   ],
   "source": [
    "get_city_distance('合肥','香港')"
   ]
  },
  {
   "cell_type": "code",
   "execution_count": 75,
   "metadata": {},
   "outputs": [],
   "source": [
    "import networkx as nx"
   ]
  },
  {
   "cell_type": "code",
   "execution_count": 76,
   "metadata": {},
   "outputs": [],
   "source": [
    "city_graph = nx.Graph()"
   ]
  },
  {
   "cell_type": "code",
   "execution_count": 77,
   "metadata": {},
   "outputs": [],
   "source": [
    "city_graph.add_nodes_from(list(city_location.keys()))"
   ]
  },
  {
   "cell_type": "code",
   "execution_count": 78,
   "metadata": {},
   "outputs": [],
   "source": [
    "%matplotlib inline"
   ]
  },
  {
   "cell_type": "code",
   "execution_count": 79,
   "metadata": {},
   "outputs": [],
   "source": [
    "import matplotlib.pyplot as plt"
   ]
  },
  {
   "cell_type": "code",
   "execution_count": 80,
   "metadata": {},
   "outputs": [
    {
     "data": {
      "image/png": "[encoded data removed]",
      "text/plain": [
       "<Figure size 432x288 with 1 Axes>"
      ]
     },
     "metadata": {},
     "output_type": "display_data"
    }
   ],
   "source": [
    "nx.draw(city_graph , city_location , with_labels=True , node_size=30)"
   ]
  },
  {
   "cell_type": "code",
   "execution_count": 81,
   "metadata": {},
   "outputs": [],
   "source": [
    "threshold = 700"
   ]
  },
  {
   "cell_type": "code",
   "execution_count": 82,
   "metadata": {},
   "outputs": [],
   "source": [
    "from collections import defaultdict"
   ]
  },
  {
   "cell_type": "code",
   "execution_count": 83,
   "metadata": {},
   "outputs": [],
   "source": [
    "city_connection = defaultdict(list)"
   ]
  },
  {
   "cell_type": "code",
   "execution_count": 84,
   "metadata": {},
   "outputs": [],
   "source": [
    "def get_city_connection(city_info):\n",
    "    for name in city_info:\n",
    "        for other_city in city_info:\n",
    "            if name == other_city:continue\n",
    "            city_distance = get_city_distance(name,other_city)\n",
    "            if city_distance < threshold:\n",
    "                city_connection[name].append(other_city)\n",
    "    return city_connection"
   ]
  },
  {
   "cell_type": "code",
   "execution_count": 85,
   "metadata": {
    "collapsed": true
   },
   "outputs": [
    {
     "data": {
      "text/plain": [
       "defaultdict(list,\n",
       "            {'兰州': ['嘉峪关', '西宁', '成都', '西安', '银川'],\n",
       "             '嘉峪关': ['兰州', '西宁'],\n",
       "             '西宁': ['兰州', '嘉峪关', '成都', '银川'],\n",
       "             '成都': ['兰州', '西宁', '拉萨', '贵阳', '西安', '重庆'],\n",
       "             '石家庄': ['郑州', '济南', '太原', '西安', '北京', '天津', '呼和浩特'],\n",
       "             '拉萨': ['成都', '贵阳', '重庆', '南宁'],\n",
       "             '贵阳': ['成都', '拉萨', '长沙', '重庆', '南宁'],\n",
       "             '武汉': ['郑州', '南京', '合肥', '杭州', '南昌', '福州', '长沙', '西安', '上海'],\n",
       "             '郑州': ['石家庄',\n",
       "              '武汉',\n",
       "              '济南',\n",
       "              '南京',\n",
       "              '合肥',\n",
       "              '太原',\n",
       "              '西安',\n",
       "              '北京',\n",
       "              '天津',\n",
       "              '呼和浩特'],\n",
       "             '济南': ['石家庄', '郑州', '南京', '合肥', '太原', '北京', '天津', '呼和浩特'],\n",
       "             '南京': ['武汉', '郑州', '济南', '合肥', '杭州', '南昌', '福州', '上海'],\n",
       "             '合肥': ['武汉', '郑州', '济南', '南京', '杭州', '南昌', '福州', '长沙', '上海'],\n",
       "             '杭州': ['武汉', '南京', '合肥', '南昌', '福州', '台湾', '上海'],\n",
       "             '南昌': ['武汉', '南京', '合肥', '杭州', '福州', '广州', '长沙', '台湾', '上海'],\n",
       "             '福州': ['武汉',\n",
       "              '南京',\n",
       "              '合肥',\n",
       "              '杭州',\n",
       "              '南昌',\n",
       "              '广州',\n",
       "              '长沙',\n",
       "              '台湾',\n",
       "              '上海',\n",
       "              '香港'],\n",
       "             '广州': ['南昌', '福州', '长沙', '海口', '南宁', '香港', '澳门'],\n",
       "             '长沙': ['贵阳', '武汉', '合肥', '南昌', '福州', '广州', '重庆', '香港', '澳门'],\n",
       "             '海口': ['广州', '南宁', '香港', '澳门'],\n",
       "             '沈阳': ['长春', '哈尔滨', '北京', '天津'],\n",
       "             '长春': ['沈阳', '哈尔滨'],\n",
       "             '哈尔滨': ['沈阳', '长春'],\n",
       "             '太原': ['石家庄', '郑州', '济南', '西安', '北京', '天津', '呼和浩特', '银川'],\n",
       "             '西安': ['兰州', '成都', '石家庄', '武汉', '郑州', '太原', '重庆', '银川'],\n",
       "             '台湾': ['杭州', '南昌', '福州', '上海'],\n",
       "             '北京': ['石家庄', '郑州', '济南', '沈阳', '太原', '天津', '呼和浩特'],\n",
       "             '上海': ['武汉', '南京', '合肥', '杭州', '南昌', '福州', '台湾'],\n",
       "             '重庆': ['成都', '拉萨', '贵阳', '长沙', '西安'],\n",
       "             '天津': ['石家庄', '郑州', '济南', '沈阳', '太原', '北京', '呼和浩特'],\n",
       "             '呼和浩特': ['石家庄', '郑州', '济南', '太原', '北京', '天津', '银川'],\n",
       "             '南宁': ['拉萨', '贵阳', '广州', '海口', '香港', '澳门'],\n",
       "             '银川': ['兰州', '西宁', '太原', '西安', '呼和浩特'],\n",
       "             '香港': ['福州', '广州', '长沙', '海口', '南宁', '澳门'],\n",
       "             '澳门': ['广州', '长沙', '海口', '南宁', '香港']})"
      ]
     },
     "execution_count": 85,
     "metadata": {},
     "output_type": "execute_result"
    }
   ],
   "source": [
    "get_city_connection(city_location)"
   ]
  },
  {
   "cell_type": "code",
   "execution_count": 86,
   "metadata": {
    "collapsed": true
   },
   "outputs": [
    {
     "data": {
      "text/plain": [
       "defaultdict(list,\n",
       "            {'兰州': ['嘉峪关', '西宁', '成都', '西安', '银川'],\n",
       "             '嘉峪关': ['兰州', '西宁'],\n",
       "             '西宁': ['兰州', '嘉峪关', '成都', '银川'],\n",
       "             '成都': ['兰州', '西宁', '拉萨', '贵阳', '西安', '重庆'],\n",
       "             '石家庄': ['郑州', '济南', '太原', '西安', '北京', '天津', '呼和浩特'],\n",
       "             '拉萨': ['成都', '贵阳', '重庆', '南宁'],\n",
       "             '贵阳': ['成都', '拉萨', '长沙', '重庆', '南宁'],\n",
       "             '武汉': ['郑州', '南京', '合肥', '杭州', '南昌', '福州', '长沙', '西安', '上海'],\n",
       "             '郑州': ['石家庄',\n",
       "              '武汉',\n",
       "              '济南',\n",
       "              '南京',\n",
       "              '合肥',\n",
       "              '太原',\n",
       "              '西安',\n",
       "              '北京',\n",
       "              '天津',\n",
       "              '呼和浩特'],\n",
       "             '济南': ['石家庄', '郑州', '南京', '合肥', '太原', '北京', '天津', '呼和浩特'],\n",
       "             '南京': ['武汉', '郑州', '济南', '合肥', '杭州', '南昌', '福州', '上海'],\n",
       "             '合肥': ['武汉', '郑州', '济南', '南京', '杭州', '南昌', '福州', '长沙', '上海'],\n",
       "             '杭州': ['武汉', '南京', '合肥', '南昌', '福州', '台湾', '上海'],\n",
       "             '南昌': ['武汉', '南京', '合肥', '杭州', '福州', '广州', '长沙', '台湾', '上海'],\n",
       "             '福州': ['武汉',\n",
       "              '南京',\n",
       "              '合肥',\n",
       "              '杭州',\n",
       "              '南昌',\n",
       "              '广州',\n",
       "              '长沙',\n",
       "              '台湾',\n",
       "              '上海',\n",
       "              '香港'],\n",
       "             '广州': ['南昌', '福州', '长沙', '海口', '南宁', '香港', '澳门'],\n",
       "             '长沙': ['贵阳', '武汉', '合肥', '南昌', '福州', '广州', '重庆', '香港', '澳门'],\n",
       "             '海口': ['广州', '南宁', '香港', '澳门'],\n",
       "             '沈阳': ['长春', '哈尔滨', '北京', '天津'],\n",
       "             '长春': ['沈阳', '哈尔滨'],\n",
       "             '哈尔滨': ['沈阳', '长春'],\n",
       "             '太原': ['石家庄', '郑州', '济南', '西安', '北京', '天津', '呼和浩特', '银川'],\n",
       "             '西安': ['兰州', '成都', '石家庄', '武汉', '郑州', '太原', '重庆', '银川'],\n",
       "             '台湾': ['杭州', '南昌', '福州', '上海'],\n",
       "             '北京': ['石家庄', '郑州', '济南', '沈阳', '太原', '天津', '呼和浩特'],\n",
       "             '上海': ['武汉', '南京', '合肥', '杭州', '南昌', '福州', '台湾'],\n",
       "             '重庆': ['成都', '拉萨', '贵阳', '长沙', '西安'],\n",
       "             '天津': ['石家庄', '郑州', '济南', '沈阳', '太原', '北京', '呼和浩特'],\n",
       "             '呼和浩特': ['石家庄', '郑州', '济南', '太原', '北京', '天津', '银川'],\n",
       "             '南宁': ['拉萨', '贵阳', '广州', '海口', '香港', '澳门'],\n",
       "             '银川': ['兰州', '西宁', '太原', '西安', '呼和浩特'],\n",
       "             '香港': ['福州', '广州', '长沙', '海口', '南宁', '澳门'],\n",
       "             '澳门': ['广州', '长沙', '海口', '南宁', '香港']})"
      ]
     },
     "execution_count": 86,
     "metadata": {},
     "output_type": "execute_result"
    }
   ],
   "source": [
    "city_connection"
   ]
  },
  {
   "cell_type": "code",
   "execution_count": 87,
   "metadata": {},
   "outputs": [],
   "source": [
    "city_with_road = nx.Graph(city_connection)"
   ]
  },
  {
   "cell_type": "code",
   "execution_count": 88,
   "metadata": {},
   "outputs": [
    {
     "data": {
      "image/png": "[encoded data removed]",
      "text/plain": [
       "<Figure size 432x288 with 1 Axes>"
      ]
     },
     "metadata": {},
     "output_type": "display_data"
    }
   ],
   "source": [
    "nx.draw(city_with_road,city_location,with_labels=True,node_size=30)"
   ]
  },
  {
   "cell_type": "markdown",
   "metadata": {},
   "source": [
    "# BFS"
   ]
  },
  {
   "cell_type": "code",
   "execution_count": 90,
   "metadata": {
    "collapsed": true
   },
   "outputs": [
    {
     "data": {
      "text/plain": [
       "defaultdict(list,\n",
       "            {'兰州': ['嘉峪关', '西宁', '成都', '西安', '银川'],\n",
       "             '嘉峪关': ['兰州', '西宁'],\n",
       "             '西宁': ['兰州', '嘉峪关', '成都', '银川'],\n",
       "             '成都': ['兰州', '西宁', '拉萨', '贵阳', '西安', '重庆'],\n",
       "             '石家庄': ['郑州', '济南', '太原', '西安', '北京', '天津', '呼和浩特'],\n",
       "             '拉萨': ['成都', '贵阳', '重庆', '南宁'],\n",
       "             '贵阳': ['成都', '拉萨', '长沙', '重庆', '南宁'],\n",
       "             '武汉': ['郑州', '南京', '合肥', '杭州', '南昌', '福州', '长沙', '西安', '上海'],\n",
       "             '郑州': ['石家庄',\n",
       "              '武汉',\n",
       "              '济南',\n",
       "              '南京',\n",
       "              '合肥',\n",
       "              '太原',\n",
       "              '西安',\n",
       "              '北京',\n",
       "              '天津',\n",
       "              '呼和浩特'],\n",
       "             '济南': ['石家庄', '郑州', '南京', '合肥', '太原', '北京', '天津', '呼和浩特'],\n",
       "             '南京': ['武汉', '郑州', '济南', '合肥', '杭州', '南昌', '福州', '上海'],\n",
       "             '合肥': ['武汉', '郑州', '济南', '南京', '杭州', '南昌', '福州', '长沙', '上海'],\n",
       "             '杭州': ['武汉', '南京', '合肥', '南昌', '福州', '台湾', '上海'],\n",
       "             '南昌': ['武汉', '南京', '合肥', '杭州', '福州', '广州', '长沙', '台湾', '上海'],\n",
       "             '福州': ['武汉',\n",
       "              '南京',\n",
       "              '合肥',\n",
       "              '杭州',\n",
       "              '南昌',\n",
       "              '广州',\n",
       "              '长沙',\n",
       "              '台湾',\n",
       "              '上海',\n",
       "              '香港'],\n",
       "             '广州': ['南昌', '福州', '长沙', '海口', '南宁', '香港', '澳门'],\n",
       "             '长沙': ['贵阳', '武汉', '合肥', '南昌', '福州', '广州', '重庆', '香港', '澳门'],\n",
       "             '海口': ['广州', '南宁', '香港', '澳门'],\n",
       "             '沈阳': ['长春', '哈尔滨', '北京', '天津'],\n",
       "             '长春': ['沈阳', '哈尔滨'],\n",
       "             '哈尔滨': ['沈阳', '长春'],\n",
       "             '太原': ['石家庄', '郑州', '济南', '西安', '北京', '天津', '呼和浩特', '银川'],\n",
       "             '西安': ['兰州', '成都', '石家庄', '武汉', '郑州', '太原', '重庆', '银川'],\n",
       "             '台湾': ['杭州', '南昌', '福州', '上海'],\n",
       "             '北京': ['石家庄', '郑州', '济南', '沈阳', '太原', '天津', '呼和浩特'],\n",
       "             '上海': ['武汉', '南京', '合肥', '杭州', '南昌', '福州', '台湾'],\n",
       "             '重庆': ['成都', '拉萨', '贵阳', '长沙', '西安'],\n",
       "             '天津': ['石家庄', '郑州', '济南', '沈阳', '太原', '北京', '呼和浩特'],\n",
       "             '呼和浩特': ['石家庄', '郑州', '济南', '太原', '北京', '天津', '银川'],\n",
       "             '南宁': ['拉萨', '贵阳', '广州', '海口', '香港', '澳门'],\n",
       "             '银川': ['兰州', '西宁', '太原', '西安', '呼和浩特'],\n",
       "             '香港': ['福州', '广州', '长沙', '海口', '南宁', '澳门'],\n",
       "             '澳门': ['广州', '长沙', '海口', '南宁', '香港']})"
      ]
     },
     "execution_count": 90,
     "metadata": {},
     "output_type": "execute_result"
    }
   ],
   "source": [
    "city_connection"
   ]
  },
  {
   "cell_type": "code",
   "execution_count": 91,
   "metadata": {},
   "outputs": [],
   "source": [
    "# 0 首先将start_city放入已访问的路径path_list中\n",
    "# 1 首先根据出发点从city_connection中挑选出与start_city相邻的城市next_city_list\n",
    "# 2 遍历next_city_list 得到next_city\n",
    "# 3 首先应该判断next_city是否在之前已经访问过 判断是否存在于tuple visited中\n",
    "# 4 若已经访问过则continue 继续判断next_city_list中的下一个元素\n",
    "# 5 若没有访问过 比较next_city 与目的地 end_city是否一致\n",
    "# 6 若next_city == end_city 则将[start_city]+[next_city] 直接返回([start_city]+[next_city])\n",
    "# 7 若next_city != end_city  将next_city放入元祖visited中 作为已经访问的路径储存 \n",
    "# 8 将[start_city]+[next_city]储存在路径列表path_list中 然后继续遍历next_city_list中下一个元素"
   ]
  },
  {
   "cell_type": "code",
   "execution_count": 92,
   "metadata": {},
   "outputs": [],
   "source": [
    "def bfs_city_to_city(start_city, end_city):\n",
    "    path_list = [[start_city]]\n",
    "    visited = [start_city]\n",
    "\n",
    "    while path_list:\n",
    "        path = path_list.pop(0)\n",
    "        city = path[-1]\n",
    "        next_city_list = city_connection[city]\n",
    "        for next_city in next_city_list:\n",
    "            if next_city in visited: continue\n",
    "            if next_city == end_city:\n",
    "                return tuple(path + [next_city])\n",
    "            visited.append(next_city)\n",
    "            path_list.append(path + [next_city])"
   ]
  },
  {
   "cell_type": "code",
   "execution_count": 93,
   "metadata": {},
   "outputs": [
    {
     "data": {
      "text/plain": [
       "('上海', '福州', '香港')"
      ]
     },
     "execution_count": 93,
     "metadata": {},
     "output_type": "execute_result"
    }
   ],
   "source": [
    "bfs_city_to_city(\"上海\",\"香港\")"
   ]
  },
  {
   "cell_type": "markdown",
   "metadata": {},
   "source": [
    "# Optimal search using variation of BFS\n",
    "## 按距离最短来输出路径"
   ]
  },
  {
   "cell_type": "code",
   "execution_count": 104,
   "metadata": {},
   "outputs": [],
   "source": [
    "# 1 首先根据出发点从city_connection中挑选出与start_city相邻的城市next_city_list\n",
    "# 2 遍历next_city_list 得到next_city \n",
    "# 3 比较next_city 与目的地 end_city是否一致\n",
    "# 4 若next_city == end_city 则将[start_city]+[next_city]储存在path_result list中\n",
    "# 5 若next_city != end_city [start_city]+[next_city]储存在路径列表path_list中 然后继续遍历next_city_list中下一个元素\n",
    "# 6 直到同一层中所有包含end_city的路径全部储存在path_result_list中\n",
    "# 7 然后定义一个新函数get_path_distance计算path_result_list中各个路径的总距离\n",
    "# 8 然后根据这个距离对path_result_list进行排序\n",
    "# 9 返回距离最短的一条路径作为输出结果 结果以tuple的形式返回"
   ]
  },
  {
   "cell_type": "code",
   "execution_count": 147,
   "metadata": {},
   "outputs": [],
   "source": [
    "def bfs_city_by_distance(start_city,end_city):\n",
    "    pathes = [[start_city]]\n",
    "    while pathes:\n",
    "        path = pathes.pop(0)\n",
    "        froniter = path[-1]\n",
    "        successsors = city_connection[froniter]\n",
    "\n",
    "        for city in successsors:\n",
    "            if city in path: continue  # check loop\n",
    "\n",
    "            new_path = path + [city]\n",
    "\n",
    "            pathes.append(new_path)  # bfs\n",
    "\n",
    "        pathes = path_sorted_by_distance(pathes)\n",
    "        if pathes and (end_city == pathes[0][-1]):\n",
    "            return pathes[0]"
   ]
  },
  {
   "cell_type": "code",
   "execution_count": 148,
   "metadata": {},
   "outputs": [],
   "source": [
    "def path_sorted_by_distance(paths):\n",
    "    def get_path_distance(path):\n",
    "        distance = 0\n",
    "        for index,city in enumerate(path[:-1]):\n",
    "            distance += get_city_distance(path[index],path[index+1])\n",
    "        return distance\n",
    "    return sorted(paths,key=get_path_distance)"
   ]
  },
  {
   "cell_type": "code",
   "execution_count": 149,
   "metadata": {},
   "outputs": [
    {
     "data": {
      "text/plain": [
       "[['拉萨', '重庆', '西安'], ['拉萨', '成都', '西安']]"
      ]
     },
     "execution_count": 149,
     "metadata": {},
     "output_type": "execute_result"
    }
   ],
   "source": [
    "path_sorted_by_distance([[\"拉萨\",\"成都\",\"西安\"],[\"拉萨\",\"重庆\",\"西安\"]])"
   ]
  },
  {
   "cell_type": "code",
   "execution_count": 150,
   "metadata": {},
   "outputs": [
    {
     "data": {
      "text/plain": [
       "['拉萨', '重庆', '西安']"
      ]
     },
     "execution_count": 150,
     "metadata": {},
     "output_type": "execute_result"
    }
   ],
   "source": [
    "bfs_city_by_distance(\"拉萨\",\"西安\")"
   ]
  },
  {
   "cell_type": "code",
   "execution_count": 151,
   "metadata": {},
   "outputs": [
    {
     "data": {
      "text/plain": [
       "('拉萨', '成都', '西安')"
      ]
     },
     "execution_count": 151,
     "metadata": {},
     "output_type": "execute_result"
    }
   ],
   "source": [
    "bfs_city_to_city(\"拉萨\",\"西安\")"
   ]
  },
  {
   "cell_type": "markdown",
   "metadata": {},
   "source": [
    "# DFS"
   ]
  },
  {
   "cell_type": "code",
   "execution_count": 173,
   "metadata": {},
   "outputs": [],
   "source": [
    "def dfs_city_to_city(start_city, end_city):\n",
    "    path_list = [[start_city]]\n",
    "    visited = [start_city]\n",
    "\n",
    "    while path_list:\n",
    "        path = path_list.pop(0)\n",
    "        city = path[-1]\n",
    "        next_city_list = city_connection[city]\n",
    "        for next_city in next_city_list:\n",
    "            if next_city in visited: continue\n",
    "            if next_city == end_city:\n",
    "                return tuple(path + [next_city])\n",
    "            visited.append(next_city)\n",
    "            path_list.insert(0,path + [next_city])"
   ]
  },
  {
   "cell_type": "code",
   "execution_count": 178,
   "metadata": {},
   "outputs": [
    {
     "data": {
      "text/plain": [
       "('北京', '呼和浩特', '银川', '西安', '重庆', '长沙', '福州', '上海')"
      ]
     },
     "execution_count": 178,
     "metadata": {},
     "output_type": "execute_result"
    }
   ],
   "source": [
    "dfs_city_to_city(\"北京\",\"上海\")"
   ]
  },
  {
   "cell_type": "markdown",
   "metadata": {},
   "source": [
    "# Machine Learning"
   ]
  },
  {
   "cell_type": "code",
   "execution_count": 195,
   "metadata": {},
   "outputs": [],
   "source": [
    "from sklearn.datasets import load_boston\n",
    "import random\n",
    "from matplotlib import pyplot as plt"
   ]
  },
  {
   "cell_type": "code",
   "execution_count": 185,
   "metadata": {},
   "outputs": [],
   "source": [
    "datasets = load_boston()"
   ]
  },
  {
   "cell_type": "code",
   "execution_count": 186,
   "metadata": {},
   "outputs": [],
   "source": [
    "x,y = datasets[\"data\"],data[\"target\"]"
   ]
  },
  {
   "cell_type": "code",
   "execution_count": 187,
   "metadata": {},
   "outputs": [
    {
     "data": {
      "text/plain": [
       "(506, 13)"
      ]
     },
     "execution_count": 187,
     "metadata": {},
     "output_type": "execute_result"
    }
   ],
   "source": [
    "x.shape"
   ]
  },
  {
   "cell_type": "code",
   "execution_count": 188,
   "metadata": {},
   "outputs": [
    {
     "data": {
      "text/plain": [
       "array(['CRIM', 'ZN', 'INDUS', 'CHAS', 'NOX', 'RM', 'AGE', 'DIS', 'RAD',\n",
       "       'TAX', 'PTRATIO', 'B', 'LSTAT'], dtype='<U7')"
      ]
     },
     "execution_count": 188,
     "metadata": {},
     "output_type": "execute_result"
    }
   ],
   "source": [
    "datasets.feature_names"
   ]
  },
  {
   "cell_type": "code",
   "execution_count": 192,
   "metadata": {},
   "outputs": [
    {
     "data": {
      "text/plain": [
       "['Boston House Prices dataset',\n",
       " '===========================',\n",
       " '',\n",
       " 'Notes',\n",
       " '------',\n",
       " 'Data Set Characteristics:  ',\n",
       " '',\n",
       " '    :Number of Instances: 506 ',\n",
       " '',\n",
       " '    :Number of Attributes: 13 numeric/categorical predictive',\n",
       " '    ',\n",
       " '    :Median Value (attribute 14) is usually the target',\n",
       " '',\n",
       " '    :Attribute Information (in order):',\n",
       " '        - CRIM     per capita crime rate by town',\n",
       " '        - ZN       proportion of residential land zoned for lots over 25,000 sq.ft.',\n",
       " '        - INDUS    proportion of non-retail business acres per town',\n",
       " '        - CHAS     Charles River dummy variable (= 1 if tract bounds river; 0 otherwise)',\n",
       " '        - NOX      nitric oxides concentration (parts per 10 million)',\n",
       " '        - RM       average number of rooms per dwelling',\n",
       " '        - AGE      proportion of owner-occupied units built prior to 1940',\n",
       " '        - DIS      weighted distances to five Boston employment centres',\n",
       " '        - RAD      index of accessibility to radial highways',\n",
       " '        - TAX      full-value property-tax rate per $10,000',\n",
       " '        - PTRATIO  pupil-teacher ratio by town',\n",
       " '        - B        1000(Bk - 0.63)^2 where Bk is the proportion of blacks by town',\n",
       " '        - LSTAT    % lower status of the population',\n",
       " \"        - MEDV     Median value of owner-occupied homes in $1000's\",\n",
       " '',\n",
       " '    :Missing Attribute Values: None',\n",
       " '',\n",
       " '    :Creator: Harrison, D. and Rubinfeld, D.L.',\n",
       " '',\n",
       " 'This is a copy of UCI ML housing dataset.',\n",
       " 'http://archive.ics.uci.edu/ml/datasets/Housing',\n",
       " '',\n",
       " '',\n",
       " 'This dataset was taken from the StatLib library which is maintained at Carnegie Mellon University.',\n",
       " '',\n",
       " \"The Boston house-price data of Harrison, D. and Rubinfeld, D.L. 'Hedonic\",\n",
       " \"prices and the demand for clean air', J. Environ. Economics & Management,\",\n",
       " \"vol.5, 81-102, 1978.   Used in Belsley, Kuh & Welsch, 'Regression diagnostics\",\n",
       " \"...', Wiley, 1980.   N.B. Various transformations are used in the table on\",\n",
       " 'pages 244-261 of the latter.',\n",
       " '',\n",
       " 'The Boston house-price data has been used in many machine learning papers that address regression',\n",
       " 'problems.   ',\n",
       " '     ',\n",
       " '**References**',\n",
       " '',\n",
       " \"   - Belsley, Kuh & Welsch, 'Regression diagnostics: Identifying Influential Data and Sources of Collinearity', Wiley, 1980. 244-261.\",\n",
       " '   - Quinlan,R. (1993). Combining Instance-Based and Model-Based Learning. In Proceedings on the Tenth International Conference of Machine Learning, 236-243, University of Massachusetts, Amherst. Morgan Kaufmann.',\n",
       " '   - many more! (see http://archive.ics.uci.edu/ml/datasets/Housing)',\n",
       " '']"
      ]
     },
     "execution_count": 192,
     "metadata": {},
     "output_type": "execute_result"
    }
   ],
   "source": [
    "datasets[\"DESCR\"].split(\"\\n\")"
   ]
  },
  {
   "cell_type": "code",
   "execution_count": 205,
   "metadata": {},
   "outputs": [],
   "source": [
    "X_RM = x[:,5]"
   ]
  },
  {
   "cell_type": "code",
   "execution_count": 207,
   "metadata": {
    "collapsed": true
   },
   "outputs": [
    {
     "data": {
      "text/plain": [
       "array([6.575, 6.421, 7.185, 6.998, 7.147, 6.43 , 6.012, 6.172, 5.631,\n",
       "       6.004, 6.377, 6.009, 5.889, 5.949, 6.096, 5.834, 5.935, 5.99 ,\n",
       "       5.456, 5.727, 5.57 , 5.965, 6.142, 5.813, 5.924, 5.599, 5.813,\n",
       "       6.047, 6.495, 6.674, 5.713, 6.072, 5.95 , 5.701, 6.096, 5.933,\n",
       "       5.841, 5.85 , 5.966, 6.595, 7.024, 6.77 , 6.169, 6.211, 6.069,\n",
       "       5.682, 5.786, 6.03 , 5.399, 5.602, 5.963, 6.115, 6.511, 5.998,\n",
       "       5.888, 7.249, 6.383, 6.816, 6.145, 5.927, 5.741, 5.966, 6.456,\n",
       "       6.762, 7.104, 6.29 , 5.787, 5.878, 5.594, 5.885, 6.417, 5.961,\n",
       "       6.065, 6.245, 6.273, 6.286, 6.279, 6.14 , 6.232, 5.874, 6.727,\n",
       "       6.619, 6.302, 6.167, 6.389, 6.63 , 6.015, 6.121, 7.007, 7.079,\n",
       "       6.417, 6.405, 6.442, 6.211, 6.249, 6.625, 6.163, 8.069, 7.82 ,\n",
       "       7.416, 6.727, 6.781, 6.405, 6.137, 6.167, 5.851, 5.836, 6.127,\n",
       "       6.474, 6.229, 6.195, 6.715, 5.913, 6.092, 6.254, 5.928, 6.176,\n",
       "       6.021, 5.872, 5.731, 5.87 , 6.004, 5.961, 5.856, 5.879, 5.986,\n",
       "       5.613, 5.693, 6.431, 5.637, 6.458, 6.326, 6.372, 5.822, 5.757,\n",
       "       6.335, 5.942, 6.454, 5.857, 6.151, 6.174, 5.019, 5.403, 5.468,\n",
       "       4.903, 6.13 , 5.628, 4.926, 5.186, 5.597, 6.122, 5.404, 5.012,\n",
       "       5.709, 6.129, 6.152, 5.272, 6.943, 6.066, 6.51 , 6.25 , 7.489,\n",
       "       7.802, 8.375, 5.854, 6.101, 7.929, 5.877, 6.319, 6.402, 5.875,\n",
       "       5.88 , 5.572, 6.416, 5.859, 6.546, 6.02 , 6.315, 6.86 , 6.98 ,\n",
       "       7.765, 6.144, 7.155, 6.563, 5.604, 6.153, 7.831, 6.782, 6.556,\n",
       "       7.185, 6.951, 6.739, 7.178, 6.8  , 6.604, 7.875, 7.287, 7.107,\n",
       "       7.274, 6.975, 7.135, 6.162, 7.61 , 7.853, 8.034, 5.891, 6.326,\n",
       "       5.783, 6.064, 5.344, 5.96 , 5.404, 5.807, 6.375, 5.412, 6.182,\n",
       "       5.888, 6.642, 5.951, 6.373, 6.951, 6.164, 6.879, 6.618, 8.266,\n",
       "       8.725, 8.04 , 7.163, 7.686, 6.552, 5.981, 7.412, 8.337, 8.247,\n",
       "       6.726, 6.086, 6.631, 7.358, 6.481, 6.606, 6.897, 6.095, 6.358,\n",
       "       6.393, 5.593, 5.605, 6.108, 6.226, 6.433, 6.718, 6.487, 6.438,\n",
       "       6.957, 8.259, 6.108, 5.876, 7.454, 8.704, 7.333, 6.842, 7.203,\n",
       "       7.52 , 8.398, 7.327, 7.206, 5.56 , 7.014, 8.297, 7.47 , 5.92 ,\n",
       "       5.856, 6.24 , 6.538, 7.691, 6.758, 6.854, 7.267, 6.826, 6.482,\n",
       "       6.812, 7.82 , 6.968, 7.645, 7.923, 7.088, 6.453, 6.23 , 6.209,\n",
       "       6.315, 6.565, 6.861, 7.148, 6.63 , 6.127, 6.009, 6.678, 6.549,\n",
       "       5.79 , 6.345, 7.041, 6.871, 6.59 , 6.495, 6.982, 7.236, 6.616,\n",
       "       7.42 , 6.849, 6.635, 5.972, 4.973, 6.122, 6.023, 6.266, 6.567,\n",
       "       5.705, 5.914, 5.782, 6.382, 6.113, 6.426, 6.376, 6.041, 5.708,\n",
       "       6.415, 6.431, 6.312, 6.083, 5.868, 6.333, 6.144, 5.706, 6.031,\n",
       "       6.316, 6.31 , 6.037, 5.869, 5.895, 6.059, 5.985, 5.968, 7.241,\n",
       "       6.54 , 6.696, 6.874, 6.014, 5.898, 6.516, 6.635, 6.939, 6.49 ,\n",
       "       6.579, 5.884, 6.728, 5.663, 5.936, 6.212, 6.395, 6.127, 6.112,\n",
       "       6.398, 6.251, 5.362, 5.803, 8.78 , 3.561, 4.963, 3.863, 4.97 ,\n",
       "       6.683, 7.016, 6.216, 5.875, 4.906, 4.138, 7.313, 6.649, 6.794,\n",
       "       6.38 , 6.223, 6.968, 6.545, 5.536, 5.52 , 4.368, 5.277, 4.652,\n",
       "       5.   , 4.88 , 5.39 , 5.713, 6.051, 5.036, 6.193, 5.887, 6.471,\n",
       "       6.405, 5.747, 5.453, 5.852, 5.987, 6.343, 6.404, 5.349, 5.531,\n",
       "       5.683, 4.138, 5.608, 5.617, 6.852, 5.757, 6.657, 4.628, 5.155,\n",
       "       4.519, 6.434, 6.782, 5.304, 5.957, 6.824, 6.411, 6.006, 5.648,\n",
       "       6.103, 5.565, 5.896, 5.837, 6.202, 6.193, 6.38 , 6.348, 6.833,\n",
       "       6.425, 6.436, 6.208, 6.629, 6.461, 6.152, 5.935, 5.627, 5.818,\n",
       "       6.406, 6.219, 6.485, 5.854, 6.459, 6.341, 6.251, 6.185, 6.417,\n",
       "       6.749, 6.655, 6.297, 7.393, 6.728, 6.525, 5.976, 5.936, 6.301,\n",
       "       6.081, 6.701, 6.376, 6.317, 6.513, 6.209, 5.759, 5.952, 6.003,\n",
       "       5.926, 5.713, 6.167, 6.229, 6.437, 6.98 , 5.427, 6.162, 6.484,\n",
       "       5.304, 6.185, 6.229, 6.242, 6.75 , 7.061, 5.762, 5.871, 6.312,\n",
       "       6.114, 5.905, 5.454, 5.414, 5.093, 5.983, 5.983, 5.707, 5.926,\n",
       "       5.67 , 5.39 , 5.794, 6.019, 5.569, 6.027, 6.593, 6.12 , 6.976,\n",
       "       6.794, 6.03 ])"
      ]
     },
     "execution_count": 207,
     "metadata": {},
     "output_type": "execute_result"
    }
   ],
   "source": [
    "X_RM"
   ]
  },
  {
   "cell_type": "code",
   "execution_count": 208,
   "metadata": {},
   "outputs": [
    {
     "data": {
      "text/plain": [
       "<matplotlib.collections.PathCollection at 0x1a1b7eb470>"
      ]
     },
     "execution_count": 208,
     "metadata": {},
     "output_type": "execute_result"
    },
    {
     "data": {
      "image/png": "[encoded data removed]",
      "text/plain": [
       "<Figure size 432x288 with 1 Axes>"
      ]
     },
     "metadata": {
      "needs_background": "light"
     },
     "output_type": "display_data"
    }
   ],
   "source": [
    "plt.scatter(X_RM,y)"
   ]
  },
  {
   "cell_type": "markdown",
   "metadata": {},
   "source": [
    "# Gradient descent"
   ]
  },
  {
   "cell_type": "markdown",
   "metadata": {},
   "source": [
    "### 假设房屋价格price与rm符合线性关系\n",
    "### $$ y = k * rm + b $$"
   ]
  },
  {
   "cell_type": "code",
   "execution_count": 211,
   "metadata": {},
   "outputs": [],
   "source": [
    "def price(rm,k,b):\n",
    "    return k * rm + b"
   ]
  },
  {
   "cell_type": "markdown",
   "metadata": {},
   "source": [
    "### 线性回归的loss function 使用最小二乘法\n",
    "### $$ loss = \\frac{1}{n} \\sum{(y_i - \\hat{y_i})}^2$$"
   ]
  },
  {
   "cell_type": "code",
   "execution_count": 214,
   "metadata": {},
   "outputs": [],
   "source": [
    "def loss_function(y,y_hat):\n",
    "    return sum((y_i - y_hat_i)**2 for y_i , y_hat_i in zip(list(y),list(y_hat))) / len(list(y))"
   ]
  },
  {
   "cell_type": "markdown",
   "metadata": {},
   "source": [
    "### 将y=k*rm+b代入到loss function中 并求出loss对于k和b的偏导\n",
    "$$ \\frac{\\partial{loss}}{\\partial{k}} = -\\frac{2}{n}\\sum(y_i - \\hat{y_i})x_i$$\n",
    "$$ \\frac{\\partial{loss}}{\\partial{b}} = -\\frac{2}{n}\\sum(y_i - \\hat{y_i})$$"
   ]
  },
  {
   "cell_type": "code",
   "execution_count": 215,
   "metadata": {},
   "outputs": [],
   "source": [
    "def partial_derivative_k(x,y,y_hat):\n",
    "    return sum((y_i - y_hat_i)*x_i for x_i,y_i,y_hat_i in zip(list(x),list(y),list(y_hat)))*(-2) / len(y)"
   ]
  },
  {
   "cell_type": "code",
   "execution_count": 216,
   "metadata": {},
   "outputs": [],
   "source": [
    "def partial_derivative_b(y,y_hat):\n",
    "    return sum((y_i - y_hat_i) for y_i ,y_hat_i in zip(list(y),list(y_hat)))*(-2) / len(y)"
   ]
  },
  {
   "cell_type": "code",
   "execution_count": 227,
   "metadata": {},
   "outputs": [
    {
     "name": "stdout",
     "output_type": "stream",
     "text": [
      "Iteration 0, the loss is 9103.995355321258, parameters k is 23.4609923817857 and b is -30.25995147679113\n",
      "Iteration 1, the loss is 7679.776461992861, parameters k is 22.25714939551543 and b is -30.449253480157264\n",
      "Iteration 2, the loss is 6479.434306228378, parameters k is 21.151967532892993 and b is -30.623045453459692\n",
      "Iteration 3, the loss is 5467.777111012992, parameters k is 20.13736106078414 and b is -30.782598514939288\n",
      "Iteration 4, the loss is 4615.144987919055, parameters k is 19.20590690909529 and b is -30.929079608847434\n",
      "Iteration 5, the loss is 3896.5403648952874, parameters k is 18.350790362487782 and b is -31.063560042983873\n",
      "Iteration 6, the loss is 3290.895104413668, parameters k is 17.565755202906082 and b is -31.187023326544033\n",
      "Iteration 7, the loss is 2780.452825254912, parameters k is 16.845057938155247 and b is -31.300372365618696\n",
      "Iteration 8, the loss is 2350.248318767532, parameters k is 16.183425781657093 and b is -31.404436068989362\n",
      "Iteration 9, the loss is 1987.6687970632504, parameters k is 15.576018075958732 and b is -31.499975412548277\n",
      "Iteration 10, the loss is 1682.0841097699945, parameters k is 15.018390877762108 and b is -31.587689006711326\n",
      "Iteration 11, the loss is 1424.5350879923706, parameters k is 14.50646444537334 and b is -31.66821820755583\n",
      "Iteration 12, the loss is 1207.4708783099825, parameters k is 14.03649339070521 and b is -31.742151809077075\n",
      "Iteration 13, the loss is 1024.527565939893, parameters k is 13.605039277460426 and b is -31.810030350892823\n",
      "Iteration 14, the loss is 870.341596710192, parameters k is 13.208945465019838 and b is -31.872350072911615\n",
      "Iteration 15, the loss is 740.3925277274183, parameters k is 12.845314013989805 and b is -31.929566545897806\n",
      "Iteration 16, the loss is 630.8704964828687, parameters k is 12.511484484446232 and b is -31.982098004495093\n",
      "Iteration 17, the loss is 538.5645228408877, parameters k is 12.20501447176007 and b is -32.03032840709342\n",
      "Iteration 18, the loss is 460.76836913331863, parameters k is 11.923661737601497 and b is -32.074610244925715\n",
      "Iteration 19, the loss is 395.2011983549011, parameters k is 11.66536780539054 and b is -32.11526712094621\n",
      "Iteration 20, the loss is 339.94070430696814, parameters k is 11.428242900175999 and b is -32.152596117357824\n",
      "Iteration 21, the loss is 293.3667531908702, parameters k is 11.210552122760621 and b is -32.1868699691098\n",
      "Iteration 22, the loss is 254.1138843285176, parameters k is 11.010702756920322 and b is -32.21833905926716\n",
      "Iteration 23, the loss is 221.0312774204008, parameters k is 10.827232616855216 and b is -32.247233250850506\n",
      "Iteration 24, the loss is 193.14901265629294, parameters k is 10.658799349620656 and b is -32.27376356854808\n",
      "Iteration 25, the loss is 169.6496344884684, parameters k is 10.504170614273278 and b is -32.29812374260378\n",
      "Iteration 26, the loss is 149.8441853706826, parameters k is 10.362215065881225 and b is -32.32049162617649\n",
      "Iteration 27, the loss is 133.15200681716436, parameters k is 10.231894078436223 and b is -32.34103049654026\n",
      "Iteration 28, the loss is 119.08371558661713, parameters k is 10.112254146111106 and b is -32.359890249645126\n",
      "Iteration 29, the loss is 107.2268558849173, parameters k is 10.002419907269246 and b is -32.377208496778195\n",
      "Iteration 30, the loss is 97.23380693605594, parameters k is 9.90158774018853 and b is -32.39311157134833\n",
      "Iteration 31, the loss is 88.811591394012, parameters k is 9.809019883645215 and b is -32.40771545316015\n",
      "Iteration 32, the loss is 81.71328579734299, parameters k is 9.724039039343001 and b is -32.42112661693956\n",
      "Iteration 33, the loss is 75.7307812371561, parameters k is 9.646023416697878 and b is -32.43344281131867\n",
      "Iteration 34, the loss is 70.68868199484449, parameters k is 9.574402183725656 and b is -32.44475377397937\n",
      "Iteration 35, the loss is 66.43916326910922, parameters k is 9.508651290750205 and b is -32.45514188818755\n",
      "Iteration 36, the loss is 62.8576372304835, parameters k is 9.448289636378012 and b is -32.464682785521326\n",
      "Iteration 37, the loss is 59.83910034021782, parameters k is 9.392875547688782 and b is -32.47344589920294\n",
      "Iteration 38, the loss is 57.29505484377981, parameters k is 9.3420035488906 and b is -32.48149497208256\n",
      "Iteration 39, the loss is 55.15091418293978, parameters k is 9.295301394798694 and b is -32.488888522990415\n",
      "Iteration 40, the loss is 53.343816257998306, parameters k is 9.252427347434237 and b is -32.495680274869315\n",
      "Iteration 41, the loss is 51.820780429113874, parameters k is 9.213067675818442 and b is -32.501919547819675\n",
      "Iteration 42, the loss is 50.53715422346955, parameters k is 9.17693436067001 and b is -32.50765161993271\n",
      "Iteration 43, the loss is 49.45530420865282, parameters k is 9.143762987213208 and b is -32.5129180585517\n",
      "Iteration 44, the loss is 48.543512651113744, parameters k is 9.113310810679998 and b is -32.51775702438484\n",
      "Iteration 45, the loss is 47.775047611801, parameters k is 9.085354980353191 and b is -32.5222035506947\n",
      "Iteration 46, the loss is 47.1273792159263, parameters k is 9.059690909157423 and b is -32.52628979960674\n",
      "Iteration 47, the loss is 46.58151911935951, parameters k is 9.036130776869658 and b is -32.53004529741224\n",
      "Iteration 48, the loss is 46.12146380604941, parameters k is 9.014502155998487 and b is -32.53349715058704\n",
      "Iteration 49, the loss is 45.73372539499692, parameters k is 8.994646750278925 and b is -32.53667024410653\n",
      "Iteration 50, the loss is 45.40693620092148, parameters k is 8.976419236553378 and b is -32.53958742350787\n",
      "Iteration 51, the loss is 45.131515455084035, parameters k is 8.959686201565791 and b is -32.54226966203129\n",
      "Iteration 52, the loss is 44.899388415145324, parameters k is 8.944325165890406 and b is -32.544736214063484\n",
      "Iteration 53, the loss is 44.70374962888969, parameters k is 8.930223687854056 and b is -32.547004756005556\n",
      "Iteration 54, the loss is 44.53886341115006, parameters k is 8.91727854089614 and b is -32.54909151559619\n",
      "Iteration 55, the loss is 44.39989568429434, parameters k is 8.905394958347745 and b is -32.5510113906362\n",
      "Iteration 56, the loss is 44.28277225214978, parameters k is 8.894485940104591 and b is -32.55277805798307\n",
      "Iteration 57, the loss is 44.184059352225205, parameters k is 8.884471616121315 and b is -32.55440407361288\n",
      "Iteration 58, the loss is 44.10086298424513, parameters k is 8.875278662070333 and b is -32.55590096448169\n",
      "Iteration 59, the loss is 44.0307440634981, parameters k is 8.86683976289014 and b is -32.557279312858455\n",
      "Iteration 60, the loss is 43.97164691145531, parameters k is 8.859093120298306 and b is -32.558548833746514\n",
      "Iteration 61, the loss is 43.92183898713741, parameters k is 8.851982000666041 and b is -32.55971844595996\n",
      "Iteration 62, the loss is 43.879860092268, parameters k is 8.84545431994652 and b is -32.560796337375024\n",
      "Iteration 63, the loss is 43.84447956100316, parameters k is 8.839462262620245 and b is -32.561790024833826\n",
      "Iteration 64, the loss is 43.81466017912066, parameters k is 8.833961931869588 and b is -32.56270640913866\n",
      "Iteration 65, the loss is 43.78952777484758, parameters k is 8.828913028423138 and b is -32.563551825539335\n",
      "Iteration 66, the loss is 43.76834558978602, parameters k is 8.82427855572023 and b is -32.564332090082765\n",
      "Iteration 67, the loss is 43.750492678541015, parameters k is 8.820024549238607 and b is -32.565052542164075\n",
      "Iteration 68, the loss is 43.73544570376793, parameters k is 8.81611982800491 and b is -32.56571808359039\n",
      "Iteration 69, the loss is 43.722763592904634, parameters k is 8.812535766470045 and b is -32.566333214443176\n",
      "Iteration 70, the loss is 43.71207460675281, parameters k is 8.809246085080401 and b is -32.56690206600152\n",
      "Iteration 71, the loss is 43.703065440782545, parameters k is 8.806226658012722 and b is -32.567428430967176\n",
      "Iteration 72, the loss is 43.69547203963252, parameters k is 8.803455336665992 and b is -32.56791579121254\n",
      "Iteration 73, the loss is 43.689071855502576, parameters k is 8.80091178761898 and b is -32.56836734325455\n",
      "Iteration 74, the loss is 43.68367732347048, parameters k is 8.7985773438679 and b is -32.56878602164086\n",
      "Iteration 75, the loss is 43.67913036244044, parameters k is 8.796434868255824 and b is -32.56917452041945\n",
      "Iteration 76, the loss is 43.675297740502785, parameters k is 8.794468628094709 and b is -32.56953531284867\n",
      "Iteration 77, the loss is 43.67206716882427, parameters k is 8.792664180062692 and b is -32.569870669491976\n",
      "Iteration 78, the loss is 43.66934400955067, parameters k is 8.791008264534609 and b is -32.57018267482969\n",
      "Iteration 79, the loss is 43.66704850120252, parameters k is 8.789488708572597 and b is -32.57047324250939\n",
      "Iteration 80, the loss is 43.66511342021855, parameters k is 8.788094336867069 and b is -32.570744129346416\n",
      "Iteration 81, the loss is 43.66348211008692, parameters k is 8.78681488997649 and b is -32.57099694817703\n",
      "Iteration 82, the loss is 43.66210682028296, parameters k is 8.785640949267775 and b is -32.57123317965814\n",
      "Iteration 83, the loss is 43.660947306313346, parameters k is 8.784563868008158 and b is -32.57145418309999\n",
      "Iteration 84, the loss is 43.65996964982312, parameters k is 8.783575708104424 and b is -32.57166120641111\n",
      "Iteration 85, the loss is 43.6591452641735, parameters k is 8.782669182026622 and b is -32.571855395228184\n",
      "Iteration 86, the loss is 43.65845005633492, parameters k is 8.78183759949142 and b is -32.572037801297704\n",
      "Iteration 87, the loss is 43.65786372052505, parameters k is 8.781074818514993 and b is -32.57220939017069\n",
      "Iteration 88, the loss is 43.65736914288121, parameters k is 8.780375200477357 and b is -32.572371048266824\n",
      "Iteration 89, the loss is 43.656951899714045, parameters k is 8.779733568869386 and b is -32.57252358935961\n",
      "Iteration 90, the loss is 43.65659983463212, parameters k is 8.779145171420698 and b is -32.57266776053008\n",
      "Iteration 91, the loss is 43.65630270213943, parameters k is 8.778605645331337 and b is -32.572804247632526\n",
      "Iteration 92, the loss is 43.65605186725654, parameters k is 8.778110985352885 and b is -32.57293368031234\n",
      "Iteration 93, the loss is 43.655840052359224, parameters k is 8.777657514485464 and b is -32.57305663661257\n",
      "Iteration 94, the loss is 43.655661123812465, parameters k is 8.777241857076254 and b is -32.573173647202985\n",
      "Iteration 95, the loss is 43.65550991214336, parameters k is 8.776860914122722 and b is -32.57328519926253\n",
      "Iteration 96, the loss is 43.6553820604823, parameters k is 8.776511840599854 and b is -32.57339174004358\n",
      "Iteration 97, the loss is 43.655273896827424, parameters k is 8.776192024645528 and b is -32.57349368014414\n",
      "Iteration 98, the loss is 43.65518232638855, parameters k is 8.775899068451745 and b is -32.57359139651181\n",
      "Iteration 99, the loss is 43.655104740854, parameters k is 8.775630770721902 and b is -32.5736852352016\n",
      "Iteration 100, the loss is 43.65503894191908, parameters k is 8.77538511056579 and b is -32.57377551390774\n",
      "Iteration 101, the loss is 43.6549830768369, parameters k is 8.775160232714446 and b is -32.57386252428794\n",
      "Iteration 102, the loss is 43.654935584098375, parameters k is 8.774954433946743 and b is -32.57394653409722\n",
      "Iteration 103, the loss is 43.654895147652425, parameters k is 8.77476615062836 and b is -32.574027789146854\n",
      "Iteration 104, the loss is 43.65486065832142, parameters k is 8.774593947272004 and b is -32.574106515102756\n",
      "Iteration 105, the loss is 43.654831181282226, parameters k is 8.774436506035178 and b is -32.574182919136476\n",
      "Iteration 106, the loss is 43.654805928659215, parameters k is 8.774292617078636 and b is -32.57425719144091\n",
      "Iteration 107, the loss is 43.65478423642474, parameters k is 8.774161169715029 and b is -32.574329506621766\n",
      "Iteration 108, the loss is 43.65476554493169, parameters k is 8.774041144282949 and b is -32.57440002497501\n",
      "Iteration 109, the loss is 43.654749382505265, parameters k is 8.773931604686931 and b is -32.57446889365964\n",
      "Iteration 110, the loss is 43.65473535161441, parameters k is 8.773831691548844 and b is -32.574536247774276\n",
      "Iteration 111, the loss is 43.65472311721716, parameters k is 8.773740615920548 and b is -32.57460221134559\n",
      "Iteration 112, the loss is 43.65471239693745, parameters k is 8.773657653511835 and b is -32.57466689823572\n",
      "Iteration 113, the loss is 43.654702952787005, parameters k is 8.773582139391413 and b is -32.57473041297525\n",
      "Iteration 114, the loss is 43.65469458418718, parameters k is 8.773513463122171 and b is -32.574792851528024\n",
      "Iteration 115, the loss is 43.654687122089065, parameters k is 8.773451064295125 and b is -32.574854301993206\n",
      "Iteration 116, the loss is 43.65468042401699, parameters k is 8.773394428429393 and b is -32.57491484524983\n",
      "Iteration 117, the loss is 43.65467436989129, parameters k is 8.773343083208163 and b is -32.57497455554852\n",
      "Iteration 118, the loss is 43.65466885850797, parameters k is 8.773296595023162 and b is -32.57503350105473\n",
      "Iteration 119, the loss is 43.654663804571626, parameters k is 8.773254565802311 and b is -32.57509174434744\n",
      "Iteration 120, the loss is 43.65465913619458, parameters k is 8.773216630097371 and b is -32.57514934287699\n",
      "Iteration 121, the loss is 43.6546547927895, parameters k is 8.773182452410268 and b is -32.57520634938541\n",
      "Iteration 122, the loss is 43.65465072329276, parameters k is 8.773151724738538 and b is -32.57526281229227\n",
      "Iteration 123, the loss is 43.65464688466767, parameters k is 8.773124164321938 and b is -32.57531877604896\n",
      "Iteration 124, the loss is 43.65464324064254, parameters k is 8.77309951157373 and b is -32.57537428146385\n",
      "Iteration 125, the loss is 43.65463976064743, parameters k is 8.7730775281815 and b is -32.57542936600089\n",
      "Iteration 126, the loss is 43.65463641891765, parameters k is 8.773057995363637 and b is -32.57548406405369\n",
      "Iteration 127, the loss is 43.65463319373845, parameters k is 8.773040712268688 and b is -32.57553840719715\n",
      "Iteration 128, the loss is 43.65463006680879, parameters k is 8.773025494505903 and b is -32.57559242441846\n",
      "Iteration 129, the loss is 43.65462702270415, parameters k is 8.773012172796204 and b is -32.57564614232917\n",
      "Iteration 130, the loss is 43.65462404842464, parameters k is 8.773000591733707 and b is -32.575699585359914\n",
      "Iteration 131, the loss is 43.65462113301391, parameters k is 8.772990608648763 and b is -32.57575277593911\n",
      "Iteration 132, the loss is 43.65461826723796, parameters k is 8.772982092564154 and b is -32.57580573465707\n",
      "Iteration 133, the loss is 43.654615443314185, parameters k is 8.77297492323685 and b is -32.575858480416635\n",
      "Iteration 134, the loss is 43.654612654683376, parameters k is 8.772968990278287 and b is -32.575911030571476\n",
      "Iteration 135, the loss is 43.65460989581737, parameters k is 8.772964192346755 and b is -32.57596340105306\n",
      "Iteration 136, the loss is 43.65460716205706, parameters k is 8.772960436405967 and b is -32.57601560648719\n",
      "Iteration 137, the loss is 43.65460444947569, parameters k is 8.772957637044382 and b is -32.57606766030102\n",
      "Iteration 138, the loss is 43.65460175476355, parameters k is 8.772955715850332 and b is -32.5761195748213\n",
      "Iteration 139, the loss is 43.6545990751316, parameters k is 8.772954600838345 and b is -32.57617136136453\n",
      "Iteration 140, the loss is 43.6545964082289, parameters k is 8.772954225922492 and b is -32.57622303031979\n",
      "Iteration 141, the loss is 43.65459375207418, parameters k is 8.772954530432887 and b is -32.57627459122472\n",
      "Iteration 142, the loss is 43.65459110499747, parameters k is 8.772955458671825 and b is -32.57632605283531\n",
      "Iteration 143, the loss is 43.65458846559155, parameters k is 8.772956959506283 and b is -32.57637742318997\n",
      "Iteration 144, the loss is 43.65458583267026, parameters k is 8.772958985993823 and b is -32.576428709668306\n",
      "Iteration 145, the loss is 43.65458320523384, parameters k is 8.772961495039157 and b is -32.576479919045155\n",
      "Iteration 146, the loss is 43.65458058243974, parameters k is 8.772964447078856 and b is -32.576531057540116\n",
      "Iteration 147, the loss is 43.65457796357789, parameters k is 8.772967805791895 and b is -32.576582130863066\n",
      "Iteration 148, the loss is 43.65457534804992, parameters k is 8.772971537833925 and b is -32.576633144255936\n",
      "Iteration 149, the loss is 43.65457273535121, parameters k is 8.77297561259332 and b is -32.57668410253106\n",
      "Iteration 150, the loss is 43.65457012505683, parameters k is 8.772980001967221 and b is -32.57673501010638\n",
      "Iteration 151, the loss is 43.65456751680835, parameters k is 8.772984680155924 and b is -32.57678587103777\n",
      "Iteration 152, the loss is 43.654564910303804, parameters k is 8.77298962347413 and b is -32.57683668904871\n",
      "Iteration 153, the loss is 43.6545623052889, parameters k is 8.77299481017766 and b is -32.576887467557526\n",
      "Iteration 154, the loss is 43.65455970154878, parameters k is 8.773000220304375 and b is -32.57693820970239\n",
      "Iteration 155, the loss is 43.65455709890296, parameters k is 8.773005835528119 and b is -32.57698891836431\n",
      "Iteration 156, the loss is 43.65455449719893, parameters k is 8.773011639024654 and b is -32.57703959618815\n",
      "Iteration 157, the loss is 43.65455189630831, parameters k is 8.773017615348564 and b is -32.57709024560206\n",
      "Iteration 158, the loss is 43.654549296122866, parameters k is 8.773023750320258 and b is -32.57714086883516\n",
      "Iteration 159, the loss is 43.654546696551364, parameters k is 8.773030030922225 and b is -32.5771914679339\n",
      "Iteration 160, the loss is 43.65454409751697, parameters k is 8.773036445203804 and b is -32.577242044777016\n",
      "Iteration 161, the loss is 43.65454149895483, parameters k is 8.77304298219374 and b is -32.577292601089276\n",
      "Iteration 162, the loss is 43.65453890081037, parameters k is 8.773049631819928 and b is -32.5773431384541\n",
      "Iteration 163, the loss is 43.65453630303756, parameters k is 8.77305638483572 and b is -32.57739365832513\n",
      "Iteration 164, the loss is 43.6545337055975, parameters k is 8.773063232752266 and b is -32.57744416203688\n",
      "Iteration 165, the loss is 43.65453110845764, parameters k is 8.773070167776424 and b is -32.57749465081452\n",
      "Iteration 166, the loss is 43.65452851159037, parameters k is 8.773077182753735 and b is -32.577545125782784\n",
      "Iteration 167, the loss is 43.65452591497246, parameters k is 8.773084271116078 and b is -32.57759558797425\n",
      "Iteration 168, the loss is 43.654523318584296, parameters k is 8.773091426833624 and b is -32.577646038336866\n",
      "Iteration 169, the loss is 43.65452072240948, parameters k is 8.773098644370714 and b is -32.57769647774089\n",
      "Iteration 170, the loss is 43.65451812643403, parameters k is 8.773105918645363 and b is -32.577746906985276\n",
      "Iteration 171, the loss is 43.65451553064619, parameters k is 8.773113244992079 and b is -32.57779732680348\n",
      "Iteration 172, the loss is 43.654512935036095, parameters k is 8.773120619127727 and b is -32.577847737868865\n",
      "Iteration 173, the loss is 43.65451033959554, parameters k is 8.773128037120198 and b is -32.57789814079962\n",
      "Iteration 174, the loss is 43.6545077443173, parameters k is 8.773135495359634 and b is -32.57794853616325\n",
      "Iteration 175, the loss is 43.65450514919565, parameters k is 8.773142990532026 and b is -32.57799892448077\n",
      "Iteration 176, the loss is 43.65450255422543, parameters k is 8.77315051959496 and b is -32.57804930623049\n",
      "Iteration 177, the loss is 43.65449995940261, parameters k is 8.773158079755364 and b is -32.578099681851526\n",
      "Iteration 178, the loss is 43.65449736472347, parameters k is 8.77316566844907 and b is -32.57815005174701\n",
      "Iteration 179, the loss is 43.654494770185146, parameters k is 8.77317328332206 and b is -32.57820041628703\n",
      "Iteration 180, the loss is 43.65449217578506, parameters k is 8.773180922213236 and b is -32.57825077581136\n",
      "Iteration 181, the loss is 43.654489581521126, parameters k is 8.77318858313861 and b is -32.57830113063192\n",
      "Iteration 182, the loss is 43.65448698739157, parameters k is 8.773196264276796 and b is -32.578351481035064\n",
      "Iteration 183, the loss is 43.65448439339477, parameters k is 8.773203963955675 and b is -32.57840182728369\n",
      "Iteration 184, the loss is 43.6544817995296, parameters k is 8.773211680640168 and b is -32.578452169619155\n",
      "Iteration 185, the loss is 43.65447920579482, parameters k is 8.773219412921005 and b is -32.57850250826303\n",
      "Iteration 186, the loss is 43.65447661218972, parameters k is 8.77322715950441 and b is -32.578552843418734\n",
      "Iteration 187, the loss is 43.65447401871338, parameters k is 8.77323491920264 and b is -32.57860317527302\n",
      "Iteration 188, the loss is 43.654471425365124, parameters k is 8.77324269092529 and b is -32.57865350399732\n",
      "Iteration 189, the loss is 43.65446883214455, parameters k is 8.773250473671323 and b is -32.57870382974905\n",
      "Iteration 190, the loss is 43.654466239051104, parameters k is 8.773258266521742 and b is -32.5787541526727\n",
      "Iteration 191, the loss is 43.65446364608448, parameters k is 8.773266068632864 and b is -32.578804472900934\n",
      "Iteration 192, the loss is 43.65446105324421, parameters k is 8.773273879230151 and b is -32.578854790555546\n",
      "Iteration 193, the loss is 43.654458460530165, parameters k is 8.773281697602544 and b is -32.57890510574834\n",
      "Iteration 194, the loss is 43.65445586794202, parameters k is 8.773289523097255 and b is -32.57895541858198\n",
      "Iteration 195, the loss is 43.65445327547958, parameters k is 8.773297355114998 and b is -32.579005729150694\n",
      "Iteration 196, the loss is 43.65445068314277, parameters k is 8.773305193105601 and b is -32.57905603754101\n",
      "Iteration 197, the loss is 43.654448090931304, parameters k is 8.773313036563984 and b is -32.57910634383235\n",
      "Iteration 198, the loss is 43.654445498845135, parameters k is 8.773320885026457 and b is -32.579156648097644\n",
      "Iteration 199, the loss is 43.65444290688413, parameters k is 8.773328738067335 and b is -32.579206950403844\n"
     ]
    }
   ],
   "source": [
    "k = random.random()*200 - 100\n",
    "b = random.random()*200 - 100\n",
    "\n",
    "learning_rate = 1e-3\n",
    "\n",
    "iteration_num = 200\n",
    "losses = []\n",
    "\n",
    "for i in range(iteration_num):\n",
    "    y_hat = [price(rm,k,b) for rm in X_RM]\n",
    "    \n",
    "    current_loss = loss_function(y,y_hat)\n",
    "    losses.append(current_loss)\n",
    "    \n",
    "    print(\"Iteration {}, the loss is {}, parameters k is {} and b is {}\".format(i,current_loss,k,b))\n",
    "    \n",
    "    k_gradient = partial_derivative_k(X_RM,y,y_hat)\n",
    "    b_gradient = partial_derivative_b(y,y_hat)\n",
    "    \n",
    "    k = k + (-1*k_gradient)*learning_rate\n",
    "    b = b + (-1*b_gradient)*learning_rate\n",
    "best_k = k\n",
    "best_b = b"
   ]
  },
  {
   "cell_type": "code",
   "execution_count": 228,
   "metadata": {},
   "outputs": [
    {
     "data": {
      "text/plain": [
       "[<matplotlib.lines.Line2D at 0x1a1ba194a8>]"
      ]
     },
     "execution_count": 228,
     "metadata": {},
     "output_type": "execute_result"
    },
    {
     "data": {
      "image/png": "[encoded data removed]",
      "text/plain": [
       "<Figure size 432x288 with 1 Axes>"
      ]
     },
     "metadata": {
      "needs_background": "light"
     },
     "output_type": "display_data"
    }
   ],
   "source": [
    "plt.plot(list(range(iteration_num)),losses)"
   ]
  },
  {
   "cell_type": "code",
   "execution_count": 229,
   "metadata": {},
   "outputs": [],
   "source": [
    "price_use_best_parameters = [price(r,best_k,best_b) for r in X_RM]"
   ]
  },
  {
   "cell_type": "code",
   "execution_count": 230,
   "metadata": {},
   "outputs": [
    {
     "data": {
      "text/plain": [
       "<matplotlib.collections.PathCollection at 0x1a1ba796a0>"
      ]
     },
     "execution_count": 230,
     "metadata": {},
     "output_type": "execute_result"
    },
    {
     "data": {
      "image/png": "[encoded data removed]",
      "text/plain": [
       "<Figure size 432x288 with 1 Axes>"
      ]
     },
     "metadata": {
      "needs_background": "light"
     },
     "output_type": "display_data"
    }
   ],
   "source": [
    "plt.scatter(X_RM,y)\n",
    "plt.scatter(X_RM,price_use_best_parameters)"
   ]
  },
  {
   "cell_type": "code",
   "execution_count": null,
   "metadata": {},
   "outputs": [],
   "source": []
  }
 ],
 "metadata": {
  "kernelspec": {
   "display_name": "Python 3",
   "language": "python",
   "name": "python3"
  },
  "language_info": {
   "codemirror_mode": {
    "name": "ipython",
    "version": 3
   },
   "file_extension": ".py",
   "mimetype": "text/x-python",
   "name": "python",
   "nbconvert_exporter": "python",
   "pygments_lexer": "ipython3",
   "version": "3.7.3"
  }
 },
 "nbformat": 4,
 "nbformat_minor": 2
}
