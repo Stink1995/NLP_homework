{
 "cells": [
  {
   "cell_type": "markdown",
   "metadata": {},
   "source": [
    "# Pattern Match"
   ]
  },
  {
   "cell_type": "code",
   "execution_count": 50,
   "metadata": {},
   "outputs": [],
   "source": [
    "# 首先定义pattern和saying\n",
    "pattern = \"I want ?X\".split()\n",
    "saying = \"I want holiday\".split()"
   ]
  },
  {
   "cell_type": "code",
   "execution_count": 53,
   "metadata": {},
   "outputs": [
    {
     "name": "stdout",
     "output_type": "stream",
     "text": [
      "['I', 'want', '?X']\n",
      "['I', 'want', 'holiday']\n"
     ]
    }
   ],
   "source": [
    "print(pattern)\n",
    "print(saying)"
   ]
  },
  {
   "cell_type": "code",
   "execution_count": 66,
   "metadata": {},
   "outputs": [],
   "source": [
    "# 第一个函数pat_match判断saying与pattern的格式是否匹配 并获取saying中与\"?X\"对应的同位置的元素\n",
    "def pat_match(pattern,saying):\n",
    "#   首先要判断pattern的第一个元素是不是“?X”格式 若为True则返回pattern中的\"?X\"以及对应的saying同位置的元素\n",
    "    if is_variable(pattern[0]):\n",
    "        return pattern[0] , saying[0]\n",
    "    else:\n",
    "#       如果pattern的0号元素不是\"?X\"形式，则比较pattern和saying的第一个元素是否相等 用来判断输入的句子是否符合语法规范\n",
    "        if pattern[0] != saying[0]:return False\n",
    "        else:\n",
    "#           若pattern和saying的0号元素相等，则至此第一个元素是符合规范地 继续判断pattern下一个元素 因此采用递归  \n",
    "            return pat_match(pattern[1:],saying[1:])"
   ]
  },
  {
   "cell_type": "code",
   "execution_count": 67,
   "metadata": {},
   "outputs": [],
   "source": [
    "#  用来判断pattern的元素是否是\"?X\"形式\n",
    "def is_variable(pat):\n",
    "    return pat.startswith(\"?\") and all(s.isalpha() for s in pat[1:])"
   ]
  },
  {
   "cell_type": "code",
   "execution_count": 68,
   "metadata": {},
   "outputs": [
    {
     "data": {
      "text/plain": [
       "True"
      ]
     },
     "execution_count": 68,
     "metadata": {},
     "output_type": "execute_result"
    }
   ],
   "source": [
    "#  测试is_variable()函数\n",
    "is_variable(pattern[2])"
   ]
  },
  {
   "cell_type": "code",
   "execution_count": 69,
   "metadata": {},
   "outputs": [
    {
     "data": {
      "text/plain": [
       "('?X', 'holiday')"
      ]
     },
     "execution_count": 69,
     "metadata": {},
     "output_type": "execute_result"
    }
   ],
   "source": [
    "# 测试pat_match() \n",
    "pat_match(pattern,saying)"
   ]
  },
  {
   "cell_type": "code",
   "execution_count": 70,
   "metadata": {},
   "outputs": [
    {
     "data": {
      "text/plain": [
       "('?X', 'mai')"
      ]
     },
     "execution_count": 70,
     "metadata": {},
     "output_type": "execute_result"
    }
   ],
   "source": [
    "pat_match(\"stink love ?X\".split() , \"stink love mai\".split())"
   ]
  },
  {
   "cell_type": "markdown",
   "metadata": {},
   "source": [
    "# 如果pattern中具有两个变量"
   ]
  },
  {
   "cell_type": "code",
   "execution_count": 72,
   "metadata": {},
   "outputs": [],
   "source": [
    "# 第一个函数pat_match判断saying与pattern的格式是否匹配 并获取saying中与\"?X\"对应的同位置的元素\n",
    "def pat_match(pattern,saying):\n",
    "    \n",
    "    if not pattern or not saying:return []\n",
    "    \n",
    "#   首先要判断pattern的第一个元素是不是“?X”格式 若为True则返回pattern中的\"?X\"以及对应的saying同位置的元素\n",
    "    if is_variable(pattern[0]):\n",
    "#       当pattern中含有多个变量的时候，将匹配到的第一组pattern和saying元素以元祖的形式储存在list中\n",
    "#       然后递归将pattern与saying中剩下的元素也代入pat_match中进行判断 以次类推\n",
    "#       符合标准的元素也储存在同一个列表中\n",
    "        return [(pattern[0] , saying[0])] + pat_match(pattern[1:],saying[1:])\n",
    "    else:\n",
    "#       如果pattern的0号元素不是\"?X\"形式，则比较pattern和saying的第一个元素是否相等 用来判断输入的句子是否符合语法规范\n",
    "        if pattern[0] != saying[0]:return []\n",
    "        else:\n",
    "#           若pattern和saying的0号元素相等，则至此第一个元素是符合规范地 继续判断pattern下一个元素 因此采用递归  \n",
    "            return pat_match(pattern[1:],saying[1:])"
   ]
  },
  {
   "cell_type": "code",
   "execution_count": 75,
   "metadata": {},
   "outputs": [
    {
     "data": {
      "text/plain": [
       "[('?X', '3'), ('?Y', '2')]"
      ]
     },
     "execution_count": 75,
     "metadata": {},
     "output_type": "execute_result"
    }
   ],
   "source": [
    "#  测试pat_match \n",
    "pat_match(\"?X greater than ?Y \".split() , \"3 greater than 2 \".split())"
   ]
  },
  {
   "cell_type": "code",
   "execution_count": 76,
   "metadata": {},
   "outputs": [],
   "source": [
    "def get_keywords_dict(pattern,saying):\n",
    "    key_words_list = pat_match(pattern , saying)\n",
    "#   将pat_match返回的结果转换成dict 方便之后取数\n",
    "#   字典生成式\n",
    "    key_words_dict = {k:v for k , v in key_words_list}\n",
    "    return key_words_dict"
   ]
  },
  {
   "cell_type": "code",
   "execution_count": 77,
   "metadata": {},
   "outputs": [
    {
     "data": {
      "text/plain": [
       "{'?X': '3', '?Y': '2'}"
      ]
     },
     "execution_count": 77,
     "metadata": {},
     "output_type": "execute_result"
    }
   ],
   "source": [
    "# 测试get_keywords_dict\n",
    "get_keywords_dict(\"?X greater than ?Y \".split() , \"3 greater than 2 \".split())"
   ]
  },
  {
   "cell_type": "code",
   "execution_count": 82,
   "metadata": {},
   "outputs": [],
   "source": [
    "# 将关键词key_words 填补到response模板中对应位置\n",
    "def get_response_list(response_rule,keywords):\n",
    "    if not response_rule: return []\n",
    "    return [keywords.get(response_rule[0],response_rule[0])] + get_response_list(response_rule[1:],keywords)"
   ]
  },
  {
   "cell_type": "code",
   "execution_count": 190,
   "metadata": {},
   "outputs": [],
   "source": [
    "defined_patterns = {\n",
    "    \"I need ?X\":[\"Image you will get ?X soon\",\"Why do you need ?X ?\"],\n",
    "    \"My ?X told me something\":[\"Talk about more about your ?X\",\"How do you think about your ?X ?\"]\n",
    "}"
   ]
  },
  {
   "cell_type": "code",
   "execution_count": 22,
   "metadata": {},
   "outputs": [],
   "source": [
    "import random"
   ]
  },
  {
   "cell_type": "code",
   "execution_count": 84,
   "metadata": {},
   "outputs": [],
   "source": [
    "# 然后把key与输入的句子对应起来  找到对应的规则\n",
    "def get_response(saying,rules):\n",
    "#   首先获取defined_patterns的key作为saying语法规则\n",
    "    for p in rules.keys():\n",
    "        pattern = p.split()\n",
    "        p_saying = saying.split()\n",
    "        \n",
    "#       将saying与对应的语法规则相匹配  \n",
    "        if not pat_match(pattern,p_saying):continue\n",
    "        \n",
    "        else:\n",
    "#           得到关键词key_words\n",
    "            key_words = get_keywords_dict(pattern,p_saying)\n",
    "#           从defined_patterns中随机选择一个value作为response的语法规则\n",
    "            response_rule = random.choice(rules[p])\n",
    "            res_list = response_rule.split()\n",
    "#           按照语法规则回答\n",
    "            response_words_list = get_response_list(res_list,key_words)\n",
    "#           将得到的list中的元素合并成一个完整的句子\n",
    "            return \" \".join(response_words_list)"
   ]
  },
  {
   "cell_type": "code",
   "execution_count": 199,
   "metadata": {},
   "outputs": [
    {
     "data": {
      "text/plain": [
       "'Image you will get ps4 soon'"
      ]
     },
     "execution_count": 199,
     "metadata": {},
     "output_type": "execute_result"
    }
   ],
   "source": [
    "get_response('I need ps4',defined_patterns)"
   ]
  },
  {
   "cell_type": "code",
   "execution_count": 200,
   "metadata": {},
   "outputs": [
    {
     "data": {
      "text/plain": [
       "'Talk about more about your mother'"
      ]
     },
     "execution_count": 200,
     "metadata": {},
     "output_type": "execute_result"
    }
   ],
   "source": [
    "get_response(\"My mother told me something\",defined_patterns)"
   ]
  },
  {
   "cell_type": "markdown",
   "metadata": {},
   "source": [
    "# Segment Match"
   ]
  },
  {
   "cell_type": "code",
   "execution_count": 1,
   "metadata": {},
   "outputs": [],
   "source": [
    "# 判断pattern是否以\"?*\"开头 然后pattern\"?*\"之后的元素是否全部为字母\n",
    "def is_pattern_segment(pattern):\n",
    "    return pattern.startswith('?*') and all(a.isalpha() for a in pattern[2:])"
   ]
  },
  {
   "cell_type": "code",
   "execution_count": 2,
   "metadata": {},
   "outputs": [],
   "source": [
    "#  用来判断pattern的元素是否是\"?X\"形式\n",
    "def is_variable(pat):\n",
    "    return pat.startswith(\"?\") and all(s.isalpha() for s in pat[1:])"
   ]
  },
  {
   "cell_type": "code",
   "execution_count": 3,
   "metadata": {},
   "outputs": [
    {
     "data": {
      "text/plain": [
       "True"
      ]
     },
     "execution_count": 3,
     "metadata": {},
     "output_type": "execute_result"
    }
   ],
   "source": [
    "# 测试is_pattern_segment()\n",
    "is_pattern_segment(\"?*stink\")\n",
    "# is_pattern_segment(\"?*stink2\")"
   ]
  },
  {
   "cell_type": "code",
   "execution_count": 4,
   "metadata": {},
   "outputs": [],
   "source": [
    "from collections import defaultdict"
   ]
  },
  {
   "cell_type": "code",
   "execution_count": 5,
   "metadata": {},
   "outputs": [],
   "source": [
    "pattern = \"?*P is very good and ?*X\".split()\n",
    "saying = \"My dog is very good and my cat is very cute\".split()"
   ]
  },
  {
   "cell_type": "code",
   "execution_count": 6,
   "metadata": {},
   "outputs": [
    {
     "name": "stdout",
     "output_type": "stream",
     "text": [
      "['?*P', 'is', 'very', 'good', 'and', '?*X']\n",
      "['My', 'dog', 'is', 'very', 'good', 'and', 'my', 'cat', 'is', 'very', 'cute']\n"
     ]
    }
   ],
   "source": [
    "print(pattern)\n",
    "print(saying)"
   ]
  },
  {
   "cell_type": "code",
   "execution_count": 7,
   "metadata": {},
   "outputs": [],
   "source": [
    "fail = [True , None]\n",
    "\n",
    "def pat_match_seg(pattern,saying):\n",
    "#   若pattern or saying 为false 则返回 []\n",
    "    if not pattern or not saying:return []\n",
    "    \n",
    "    pat = pattern[0]\n",
    "#   判断pattern第0号元素是否是\"?X\"格式 \n",
    "#   若是则将pattern和saying的第0号元素匹配起来放入list中 然后截取剩下的部分作为新的输入递归代入pat_match_seq()中\n",
    "    if is_variable(pat):\n",
    "        return [(pat,saying[0])] + pat_match_seg(pattern[1:],saying[1:]) \n",
    "#   判断pattern第0号元素是否是\"?*X\"格式\n",
    "#   若是则定义一个新函数segment_match用来处理\"?*P\"格式对应的saying中的元素\n",
    "    elif is_pattern_segment(pat):\n",
    "        match,index = segment_match(pattern,saying)\n",
    "        return [match] + pat_match_seg(pattern[1:],saying[index:])\n",
    "    elif pat == saying[0]:\n",
    "        return pat_match_seg(pattern[1:],saying[1:])\n",
    "    else:\n",
    "        return fail"
   ]
  },
  {
   "cell_type": "code",
   "execution_count": 8,
   "metadata": {},
   "outputs": [],
   "source": [
    "def segment_match(pattern,saying):\n",
    "    seg_pat,rest = pattern[0],pattern[1:]\n",
    "#   将第0号元素的\"?*\"替换成\"?\"\n",
    "    seg_pat = seg_pat.replace('?*','?')\n",
    "#   若pattern就只是一个\"?*P\" 则rest为false 返回替换后的\"?P\"以及所有的saying和saying 的长度\n",
    "#   表示这句话可以随便怎么输入\n",
    "    if not rest:return (seg_pat,saying),len(saying)\n",
    "#   遍历saying中每一个元素 并且给他们赋予index  \n",
    "    for i,token in enumerate(saying):\n",
    "#       判断rest的0号元素是否与saying的第i元素token相等\n",
    "#       定义一个新函数is_match作为结束条件  用来判断rest和saying中相等元素之后的元素是否也一致\n",
    "        if rest[0] == token and is_match(rest[1:],saying[(i+1):]): \n",
    "            return (seg_pat,saying[:i]),i\n",
    "#   如果一直到最后seg_pat和rest中的元素都不符合上述判断条件  则用替换后的seg_pat匹配上整个saying  \n",
    "    return (seg_pat,saying),len(saying)"
   ]
  },
  {
   "cell_type": "code",
   "execution_count": 9,
   "metadata": {},
   "outputs": [],
   "source": [
    "def is_match(rest,saying):\n",
    "#   若rest 和 saying均为false 则表示已经结束  返回True  \n",
    "    if not rest and not saying:\n",
    "        return True\n",
    "#   若rest中出现不是字母的元素也代表结束 返回True  \n",
    "    if not all(a.isalpha() for a in rest[0]):\n",
    "        return True\n",
    "#   若rest中的元素与saying中的元素不相等  则应该继续测试下一个元素  不能结束该sub_list 返回False  \n",
    "    if rest[0] != saying[0]:\n",
    "        return False\n",
    "#   若 rest[0] == saying[0] 则继续迭代判断rest和saying的下一个元素\n",
    "    return is_match(rest[1:],saying[1:])"
   ]
  },
  {
   "cell_type": "code",
   "execution_count": 10,
   "metadata": {},
   "outputs": [
    {
     "data": {
      "text/plain": [
       "[('?P', ['My', 'dog']), ('?X', ['my', 'cat', 'is', 'very', 'cute'])]"
      ]
     },
     "execution_count": 10,
     "metadata": {},
     "output_type": "execute_result"
    }
   ],
   "source": [
    "pat_match_seg(\"?*P is very good and ?*X\".split(),\"My dog is very good and my cat is very cute\".split())"
   ]
  },
  {
   "cell_type": "code",
   "execution_count": 11,
   "metadata": {},
   "outputs": [
    {
     "data": {
      "text/plain": [
       "[('?P', 'wanju'), ('?X', ['mai', 'is', 'so', 'beautiful'])]"
      ]
     },
     "execution_count": 11,
     "metadata": {},
     "output_type": "execute_result"
    }
   ],
   "source": [
    "pat_match_seg(\"?P is my favorite girl and ?*X\".split(),\"wanju is my favorite girl and mai is so beautiful\".split())"
   ]
  },
  {
   "cell_type": "code",
   "execution_count": 12,
   "metadata": {},
   "outputs": [],
   "source": [
    "response_pair = {\n",
    "    'I need ?X': [\"Why do you neeed ?X\"],\n",
    "    \"I dont like my ?X\": [\"What bad things did ?X do for you?\"]\n",
    "}"
   ]
  },
  {
   "cell_type": "code",
   "execution_count": 13,
   "metadata": {},
   "outputs": [
    {
     "data": {
      "text/plain": [
       "[('?X', ['an', 'iphone'])]"
      ]
     },
     "execution_count": 13,
     "metadata": {},
     "output_type": "execute_result"
    }
   ],
   "source": [
    "pat_match_seg('I need ?*X'.split(),\"I need an iphone\".split())"
   ]
  },
  {
   "cell_type": "code",
   "execution_count": 14,
   "metadata": {},
   "outputs": [
    {
     "data": {
      "text/plain": [
       "[('?X', ['wanju', 'and', 'mai']), ('?Y', ['beautiful', 'and', 'good'])]"
      ]
     },
     "execution_count": 14,
     "metadata": {},
     "output_type": "execute_result"
    }
   ],
   "source": [
    "pat_match_seg(\"?*X is so ?*Y\".split(),\"wanju and mai is so beautiful and good\".split())"
   ]
  },
  {
   "cell_type": "code",
   "execution_count": 15,
   "metadata": {},
   "outputs": [],
   "source": [
    "def get_keywords_dict_seg(pattern,saying):\n",
    "    key_words_list = pat_match_seg(pattern , saying)\n",
    "#   将pat_match_seg返回的结果转换成dict 方便之后取数\n",
    "#   字典生成式\n",
    "    key_words_dict = {k:\" \".join(v) if isinstance(v,list) else v for k,v in key_words_list}\n",
    "    return key_words_dict"
   ]
  },
  {
   "cell_type": "code",
   "execution_count": 16,
   "metadata": {},
   "outputs": [
    {
     "data": {
      "text/plain": [
       "{'?X': 'mai', '?Y': 'my name is stink'}"
      ]
     },
     "execution_count": 16,
     "metadata": {},
     "output_type": "execute_result"
    }
   ],
   "source": [
    "get_keywords_dict_seg(\"?*X hello ?*Y\".split(),\"mai hello my name is stink\".split())"
   ]
  },
  {
   "cell_type": "code",
   "execution_count": 18,
   "metadata": {},
   "outputs": [],
   "source": [
    "# 将关键词key_words 填补到response模板中对应位置\n",
    "def get_response_list_seg(response_rule,keywords):\n",
    "    if not response_rule: return []\n",
    "    return [keywords.get(response_rule[0],response_rule[0])] + get_response_list_seg(response_rule[1:],keywords)"
   ]
  },
  {
   "cell_type": "code",
   "execution_count": 19,
   "metadata": {},
   "outputs": [],
   "source": [
    "# 然后把key与输入的句子对应起来  找到对应的规则\n",
    "def get_response_seg(saying,rules):\n",
    "#   首先获取defined_patterns的key作为saying语法规则\n",
    "    for p in rules.keys():\n",
    "        pattern = p.split()\n",
    "        p_saying = saying.split()\n",
    "        \n",
    "#       将saying与对应的语法规则相匹配  \n",
    "        if not pat_match_seg(pattern,p_saying):continue\n",
    "        \n",
    "        else:\n",
    "#           得到关键词key_words\n",
    "            key_words = get_keywords_dict_seg(pattern,p_saying)\n",
    "#           从defined_patterns中随机选择一个value作为response的语法规则\n",
    "            response_rule = random.choice(rules[p])\n",
    "            res_list = response_rule.split()\n",
    "#           按照语法规则回答\n",
    "            response_words_list = get_response_list_seg(res_list,key_words)\n",
    "#           将得到的list中的元素合并成一个完整的句子\n",
    "            return \" \".join(response_words_list)"
   ]
  },
  {
   "cell_type": "markdown",
   "metadata": {},
   "source": [
    "# 支持中文版本"
   ]
  },
  {
   "cell_type": "code",
   "execution_count": 74,
   "metadata": {},
   "outputs": [],
   "source": [
    "import jieba\n",
    "import random"
   ]
  },
  {
   "cell_type": "code",
   "execution_count": 75,
   "metadata": {},
   "outputs": [],
   "source": [
    "def cut(file):\n",
    "    return list(jieba.cut(file))"
   ]
  },
  {
   "cell_type": "code",
   "execution_count": 76,
   "metadata": {},
   "outputs": [],
   "source": [
    "def get_pattern(pattern):\n",
    "    p_list = cut(pattern)\n",
    "    for index , word in enumerate(p_list):\n",
    "        if word == \"*\":\n",
    "            p_list[index] = \"?\" + \"*\" + p_list[index+1]\n",
    "            p_list[index-1] = \"\"\n",
    "            p_list[index+1] = \"\"\n",
    "    return [ p for p in p_list if p != \"\"]"
   ]
  },
  {
   "cell_type": "code",
   "execution_count": 79,
   "metadata": {},
   "outputs": [],
   "source": [
    "def get_saying(saying):\n",
    "    saying_list = cut(saying)\n",
    "    for index ,word in enumerate(saying_list):\n",
    "        if word == \"?\" and saying_list[index+1]:\n",
    "            saying_list[index] = \"?\" + saying_list[index+1]\n",
    "            saying_list[index+1] = \"\"\n",
    "    return [s for s in saying_list if s != \"\"]"
   ]
  },
  {
   "cell_type": "code",
   "execution_count": 91,
   "metadata": {},
   "outputs": [],
   "source": [
    "def get_response_chinese(saying, rules):\n",
    "    #   首先逐一遍历语法的key\n",
    "    for p in rules.keys():\n",
    "        pattern = get_pattern(p)\n",
    "        p_saying = cut(saying)\n",
    "\n",
    "        if not pat_match_seg_cn(pattern, p_saying)[0][1]:continue\n",
    "\n",
    "        else:\n",
    "            key_words = get_keywords_dict_seg_cn(pattern, p_saying)\n",
    "            response_rule = random.choice(rules[p])\n",
    "            res_list = get_saying(response_rule)\n",
    "\n",
    "            response_words_list = get_response_list_seg(res_list, key_words)\n",
    "\n",
    "            return \"\".join(response_words_list)"
   ]
  },
  {
   "cell_type": "code",
   "execution_count": 83,
   "metadata": {},
   "outputs": [],
   "source": [
    "fail = [True , None]\n",
    "\n",
    "def pat_match_seg_cn(pattern,saying):\n",
    "\n",
    "    if not pattern or not saying:return []\n",
    "\n",
    "    pat = pattern[0]\n",
    "    \n",
    "    if is_pattern_segment(pat):\n",
    "        match,index = segment_match_cn(pattern,saying)\n",
    "        return [match] + pat_match_seg_cn(pattern[1:],saying[index:])\n",
    "    elif pat == saying[0]:\n",
    "        return pat_match_seg_cn(pattern[1:],saying[1:])\n",
    "    else:\n",
    "        return fail"
   ]
  },
  {
   "cell_type": "code",
   "execution_count": 84,
   "metadata": {},
   "outputs": [],
   "source": [
    "# 判断pattern是否以\"?*\"开头 然后pattern\"?*\"之后的元素是否全部为字母\n",
    "def is_pattern_segment(pattern):\n",
    "    return pattern.startswith('?*') and all(a.isalpha() for a in pattern[2:])"
   ]
  },
  {
   "cell_type": "code",
   "execution_count": 99,
   "metadata": {},
   "outputs": [],
   "source": [
    "def segment_match_cn(pattern, saying):\n",
    "    seg_pat, rest = pattern[0], pattern[1:]\n",
    "    seg_pat = seg_pat.replace('?*', '?')\n",
    "    \n",
    "    if not rest: return (seg_pat, saying), len(saying)\n",
    "    \n",
    "    for i, token in enumerate(saying):\n",
    "        if rest[0] == token and is_match_chinese(rest[1:], saying[(i + 1):]):\n",
    "            return (seg_pat, saying[:i]), i\n",
    "    return (seg_pat,[]),0"
   ]
  },
  {
   "cell_type": "code",
   "execution_count": 97,
   "metadata": {},
   "outputs": [],
   "source": [
    "def is_match_chinese(rest,saying):\n",
    "    if not rest or not saying:\n",
    "        return True\n",
    "    elif is_pattern_segment(rest[0]) :\n",
    "        return True\n",
    "    elif rest[0] != saying[0]:\n",
    "        return False\n",
    "    else:\n",
    "        return is_match_chinese(rest[1:],saying[1:])"
   ]
  },
  {
   "cell_type": "code",
   "execution_count": 87,
   "metadata": {},
   "outputs": [],
   "source": [
    "# 将关键词key_words 填补到response模板中对应位置\n",
    "def get_response_list_seg(response_rule,keywords):\n",
    "    if not response_rule: return []\n",
    "    return [keywords.get(response_rule[0],response_rule[0])] + get_response_list_seg(response_rule[1:],keywords)"
   ]
  },
  {
   "cell_type": "code",
   "execution_count": 88,
   "metadata": {},
   "outputs": [],
   "source": [
    "def get_keywords_dict_seg_cn(pattern,saying):\n",
    "    key_words_list = pat_match_seg_cn(pattern , saying)\n",
    "#   将pat_match_seg返回的结果转换成dict 方便之后取数\n",
    "#   字典生成式\n",
    "    key_words_dict = {k:\"\".join(v) if isinstance(v,list) else v for k,v in key_words_list}\n",
    "    return key_words_dict"
   ]
  },
  {
   "cell_type": "code",
   "execution_count": 94,
   "metadata": {},
   "outputs": [],
   "source": [
    "shenlong_rules = {\n",
    "    \"?*p神龙\":[\"是你在召唤我吗\",\"我可以实现你的三个愿望\",\"你想让我为你做些什么\"],\n",
    "    \"?*P让我成为?*X\":[\"成为?X,明白\",\"成为?X,没有问题\",\"好了,现在你已经成为?X了\",\"说出你的第二个愿望吧\"],\n",
    "    \"?*P怎么?*X\":[\"你在怀疑我\",\"要过一会儿才有效\",\"赶快说出你的下一个愿望吧\"],\n",
    "    \"?*P我想?*X\":[\"抱歉,?X我做不到\",\"?X这个愿望有点困难\",\"?X不行,换一个\"],\n",
    "    \"?*P你?*X啊?\":[\"我生气了,死吧\",\"你成功惹怒了我,下地狱去吧\",\"你在质疑我?第一个愿望回收\"],\n",
    "    \"?*P是我太?*X\":[\"赶快说出你的最后一个愿望吧\",\"这并不能平息我的怒火\",\"现在道歉已经晚了\",\"我原谅你的无知\"],\n",
    "    \"?*P神龙大人\":[\"愚蠢的地球人,死吧\",\"在阴间好好悔过吧\",\"神龙烈焰波,已经死透了吧\"],\n",
    "    \"?*P我要?*X\":[\"?X我满足你\",\"现在你已经拥有?X了\",\"?X真是一个低俗的愿望\",\"好了,我已经帮你实现了\"],\n",
    "    \"?*P万分感谢\":[\"我走了\",\"想再见到我必须再次集结七颗龙珠,再见\",\"希望下一次不要再见到你\"],\n",
    "    \"?*P天下第一\":[\"end\"]\n",
    "}"
   ]
  },
  {
   "cell_type": "code",
   "execution_count": 95,
   "metadata": {},
   "outputs": [
    {
     "data": {
      "text/plain": [
       "'我可以实现你的三个愿望'"
      ]
     },
     "execution_count": 95,
     "metadata": {},
     "output_type": "execute_result"
    }
   ],
   "source": [
    "get_response_chinese(\"出来吧神龙\",shenlong_rules)"
   ]
  },
  {
   "cell_type": "code",
   "execution_count": 101,
   "metadata": {},
   "outputs": [
    {
     "data": {
      "text/plain": [
       "'成为世界上最帅的男人,明白'"
      ]
     },
     "execution_count": 101,
     "metadata": {},
     "output_type": "execute_result"
    }
   ],
   "source": [
    "get_response_chinese(\"神龙让我成为世界上最帅的男人\",shenlong_rules)"
   ]
  },
  {
   "cell_type": "code",
   "execution_count": 105,
   "metadata": {},
   "outputs": [
    {
     "data": {
      "text/plain": [
       "'要过一会儿才有效'"
      ]
     },
     "execution_count": 105,
     "metadata": {},
     "output_type": "execute_result"
    }
   ],
   "source": [
    "get_response_chinese(\"我怎么感觉没啥效果呢\",shenlong_rules)"
   ]
  },
  {
   "cell_type": "code",
   "execution_count": 146,
   "metadata": {},
   "outputs": [
    {
     "data": {
      "text/plain": [
       "'娶白石麻衣这个愿望有点困难'"
      ]
     },
     "execution_count": 146,
     "metadata": {},
     "output_type": "execute_result"
    }
   ],
   "source": [
    "get_response_chinese(\"第二个愿望我想娶白石麻衣\",shenlong_rules)"
   ]
  },
  {
   "cell_type": "code",
   "execution_count": 112,
   "metadata": {},
   "outputs": [
    {
     "data": {
      "text/plain": [
       "'你在质疑我?第一个愿望回收'"
      ]
     },
     "execution_count": 112,
     "metadata": {},
     "output_type": "execute_result"
    }
   ],
   "source": [
    "get_response_chinese(\"大哥你行不行啊?\",shenlong_rules)"
   ]
  },
  {
   "cell_type": "code",
   "execution_count": 113,
   "metadata": {},
   "outputs": [
    {
     "data": {
      "text/plain": [
       "'赶快说出你的最后一个愿望吧'"
      ]
     },
     "execution_count": 113,
     "metadata": {},
     "output_type": "execute_result"
    }
   ],
   "source": [
    "get_response_chinese(\"对不起是我太膨胀了\",shenlong_rules)"
   ]
  },
  {
   "cell_type": "code",
   "execution_count": 142,
   "metadata": {},
   "outputs": [
    {
     "data": {
      "text/plain": [
       "'无尽的金钱真是一个低俗的愿望'"
      ]
     },
     "execution_count": 142,
     "metadata": {},
     "output_type": "execute_result"
    }
   ],
   "source": [
    "get_response_chinese(\"最后我要无尽的金钱\",shenlong_rules)"
   ]
  },
  {
   "cell_type": "code",
   "execution_count": 143,
   "metadata": {},
   "outputs": [
    {
     "data": {
      "text/plain": [
       "'希望下一次不要再见到你'"
      ]
     },
     "execution_count": 143,
     "metadata": {},
     "output_type": "execute_result"
    }
   ],
   "source": [
    "get_response_chinese(\"神龙万分感谢\",shenlong_rules)"
   ]
  },
  {
   "cell_type": "code",
   "execution_count": 144,
   "metadata": {},
   "outputs": [
    {
     "data": {
      "text/plain": [
       "'end'"
      ]
     },
     "execution_count": 144,
     "metadata": {},
     "output_type": "execute_result"
    }
   ],
   "source": [
    "get_response_chinese(\"白石麻衣天下第一\",shenlong_rules)"
   ]
  },
  {
   "cell_type": "code",
   "execution_count": null,
   "metadata": {},
   "outputs": [],
   "source": []
  }
 ],
 "metadata": {
  "kernelspec": {
   "display_name": "Python 3",
   "language": "python",
   "name": "python3"
  },
  "language_info": {
   "codemirror_mode": {
    "name": "ipython",
    "version": 3
   },
   "file_extension": ".py",
   "mimetype": "text/x-python",
   "name": "python",
   "nbconvert_exporter": "python",
   "pygments_lexer": "ipython3",
   "version": "3.7.3"
  }
 },
 "nbformat": 4,
 "nbformat_minor": 2
}
