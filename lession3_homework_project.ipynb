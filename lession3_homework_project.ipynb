{
 "cells": [
  {
   "cell_type": "markdown",
   "metadata": {},
   "source": [
    "### 决策树"
   ]
  },
  {
   "cell_type": "code",
   "execution_count": 207,
   "metadata": {},
   "outputs": [],
   "source": [
    "import numpy as np\n",
    "import pandas as pd\n",
    "from collections import Counter\n",
    "from scipy import stats"
   ]
  },
  {
   "cell_type": "code",
   "execution_count": 131,
   "metadata": {},
   "outputs": [],
   "source": [
    "mock_data = {\n",
    "    'gender':['F', 'F', 'F', 'F', 'M', 'M', 'M'],\n",
    "    'income': ['+10', '-10', '+10', '+10', '+10', '+10', '-10'],\n",
    "    'family_number': [1, 1, 2, 1, 1, 1, 2],\n",
    "    'bought': [1, 1, 1, 0, 0, 0, 1],\n",
    "}"
   ]
  },
  {
   "cell_type": "code",
   "execution_count": 132,
   "metadata": {},
   "outputs": [
    {
     "data": {
      "text/plain": [
       "{'gender': ['F', 'F', 'F', 'F', 'M', 'M', 'M'],\n",
       " 'income': ['+10', '-10', '+10', '+10', '+10', '+10', '-10'],\n",
       " 'family_number': [1, 1, 2, 1, 1, 1, 2],\n",
       " 'bought': [1, 1, 1, 0, 0, 0, 1]}"
      ]
     },
     "execution_count": 132,
     "metadata": {},
     "output_type": "execute_result"
    }
   ],
   "source": [
    "mock_data"
   ]
  },
  {
   "cell_type": "code",
   "execution_count": 133,
   "metadata": {},
   "outputs": [],
   "source": [
    "# 计算信息熵\n",
    "def get_entropy(elements):\n",
    "    counter = Counter(elements)\n",
    "    probs = [counter[c] / len(elements) for c in set(elements)]\n",
    "    ret = - sum(p * np.log2(p) for p in probs)\n",
    "    return ret"
   ]
  },
  {
   "cell_type": "code",
   "execution_count": 134,
   "metadata": {},
   "outputs": [
    {
     "data": {
      "text/plain": [
       "0.9852281360342515"
      ]
     },
     "execution_count": 134,
     "metadata": {},
     "output_type": "execute_result"
    }
   ],
   "source": [
    "get_entropy(['F','F','F','F','M','M','M'])"
   ]
  },
  {
   "cell_type": "code",
   "execution_count": 135,
   "metadata": {},
   "outputs": [
    {
     "data": {
      "text/plain": [
       "0.863120568566631"
      ]
     },
     "execution_count": 135,
     "metadata": {},
     "output_type": "execute_result"
    }
   ],
   "source": [
    "get_entropy(['+10','-10','+10','+10','+10','+10','-10'])"
   ]
  },
  {
   "cell_type": "code",
   "execution_count": 136,
   "metadata": {},
   "outputs": [
    {
     "data": {
      "text/plain": [
       "0.863120568566631"
      ]
     },
     "execution_count": 136,
     "metadata": {},
     "output_type": "execute_result"
    }
   ],
   "source": [
    "get_entropy(['1','1','2','1','1','1','2'])"
   ]
  },
  {
   "cell_type": "code",
   "execution_count": 137,
   "metadata": {},
   "outputs": [],
   "source": [
    "datasets = pd.DataFrame.from_dict(mock_data)"
   ]
  },
  {
   "cell_type": "code",
   "execution_count": 138,
   "metadata": {
    "collapsed": true
   },
   "outputs": [
    {
     "data": {
      "text/html": [
       "<div>\n",
       "<style scoped>\n",
       "    .dataframe tbody tr th:only-of-type {\n",
       "        vertical-align: middle;\n",
       "    }\n",
       "\n",
       "    .dataframe tbody tr th {\n",
       "        vertical-align: top;\n",
       "    }\n",
       "\n",
       "    .dataframe thead th {\n",
       "        text-align: right;\n",
       "    }\n",
       "</style>\n",
       "<table border=\"1\" class=\"dataframe\">\n",
       "  <thead>\n",
       "    <tr style=\"text-align: right;\">\n",
       "      <th></th>\n",
       "      <th>gender</th>\n",
       "      <th>income</th>\n",
       "      <th>family_number</th>\n",
       "      <th>bought</th>\n",
       "    </tr>\n",
       "  </thead>\n",
       "  <tbody>\n",
       "    <tr>\n",
       "      <th>0</th>\n",
       "      <td>F</td>\n",
       "      <td>+10</td>\n",
       "      <td>1</td>\n",
       "      <td>1</td>\n",
       "    </tr>\n",
       "    <tr>\n",
       "      <th>1</th>\n",
       "      <td>F</td>\n",
       "      <td>-10</td>\n",
       "      <td>1</td>\n",
       "      <td>1</td>\n",
       "    </tr>\n",
       "    <tr>\n",
       "      <th>2</th>\n",
       "      <td>F</td>\n",
       "      <td>+10</td>\n",
       "      <td>2</td>\n",
       "      <td>1</td>\n",
       "    </tr>\n",
       "    <tr>\n",
       "      <th>3</th>\n",
       "      <td>F</td>\n",
       "      <td>+10</td>\n",
       "      <td>1</td>\n",
       "      <td>0</td>\n",
       "    </tr>\n",
       "    <tr>\n",
       "      <th>4</th>\n",
       "      <td>M</td>\n",
       "      <td>+10</td>\n",
       "      <td>1</td>\n",
       "      <td>0</td>\n",
       "    </tr>\n",
       "    <tr>\n",
       "      <th>5</th>\n",
       "      <td>M</td>\n",
       "      <td>+10</td>\n",
       "      <td>1</td>\n",
       "      <td>0</td>\n",
       "    </tr>\n",
       "    <tr>\n",
       "      <th>6</th>\n",
       "      <td>M</td>\n",
       "      <td>-10</td>\n",
       "      <td>2</td>\n",
       "      <td>1</td>\n",
       "    </tr>\n",
       "  </tbody>\n",
       "</table>\n",
       "</div>"
      ],
      "text/plain": [
       "  gender income  family_number  bought\n",
       "0      F    +10              1       1\n",
       "1      F    -10              1       1\n",
       "2      F    +10              2       1\n",
       "3      F    +10              1       0\n",
       "4      M    +10              1       0\n",
       "5      M    +10              1       0\n",
       "6      M    -10              2       1"
      ]
     },
     "execution_count": 138,
     "metadata": {},
     "output_type": "execute_result"
    }
   ],
   "source": [
    "datasets"
   ]
  },
  {
   "cell_type": "code",
   "execution_count": 152,
   "metadata": {},
   "outputs": [],
   "source": [
    "def find_sub_spliter(train_data:pd.DataFrame,target:str):\n",
    "    x_fileds = set(train_data.columns.tolist()) - {target}\n",
    "#     print(x_fileds)\n",
    "    \n",
    "    spliter = None\n",
    "    max_entropy_gain = float(0)\n",
    "    \n",
    "    factor = list(train_data[target]) \n",
    "    father_entropy = get_entropy(factor)   # 得到父节点的信息熵\n",
    "#     print(father_entropy)\n",
    "    \n",
    "    for x in x_fileds:\n",
    "        values = set(train_data[x])      \n",
    "#         print(values)\n",
    "        \n",
    "        for v in values:\n",
    "            sub_spliter_1 = train_data[train_data[x] == v][target].tolist()\n",
    "            son_entory_1 = get_entropy(sub_spliter_1)\n",
    "            v1_proportion = len(sub_spliter_1) / len(factor)\n",
    "            sub_spliter_2 = train_data[train_data[x] != v][target].tolist()\n",
    "            son_entory_2 = get_entropy(sub_spliter_2)\n",
    "            v2_proportion = len(sub_spliter_2) / len(factor)\n",
    "\n",
    "            v_entory = v1_proportion * son_entory_1 + v2_proportion * son_entory_2  # 子节点增加权重的信息熵\n",
    "\n",
    "            entropy_gain = father_entropy - v_entory    # 信息增益   ID3决策树\n",
    "#             print(\"{}信息增益为:{}\".format(x,entropy_gain))\n",
    "\n",
    "        if entropy_gain >= max_entropy_gain:\n",
    "            max_entropy_gain = entropy_gain\n",
    "            spliter = x\n",
    "#             print(spliter)\n",
    "                \n",
    "    print(\"splier is:{}\".format(spliter))\n",
    "    print(\"the max entropy gain is:{}\".format(max_entropy_gain))\n",
    "    \n",
    "    return spliter"
   ]
  },
  {
   "cell_type": "code",
   "execution_count": 153,
   "metadata": {},
   "outputs": [],
   "source": [
    "def createTree(train_data:pd.DataFrame,target:str):\n",
    "    # 选择最优的节点 和 feature\n",
    "    bestlabel = find_sub_spliter(train_data,target)\n",
    "    \n",
    "    if bestlabel == None:\n",
    "        return stats.mode(list(train_data[target]))[0][0]\n",
    "    # 定义树模型\n",
    "    myTree = {bestlabel:{}}\n",
    "    #得到bestlabel所包含的所有属性\n",
    "    tags = set(list(train_data[bestlabel]))\n",
    "    \n",
    "    for tag in tags:\n",
    "        # 取出数据集中的类别  用于判断是否停止划分\n",
    "        class_list = list(train_data[train_data[bestlabel]==tag][target])\n",
    "        if class_list.count(class_list[0]) == len(class_list):\n",
    "            myTree[bestlabel][tag] = class_list[0]\n",
    "        else:\n",
    "            myTree[bestlabel][tag]=createTree(train_data[train_data[bestlabel] == tag].drop([bestlabel],axis=1),target)\n",
    "    return myTree"
   ]
  },
  {
   "cell_type": "code",
   "execution_count": 156,
   "metadata": {},
   "outputs": [
    {
     "name": "stdout",
     "output_type": "stream",
     "text": [
      "splier is:family_number\n",
      "the max entropy gain is:0.2916919971380597\n",
      "splier is:gender\n",
      "the max entropy gain is:0.4199730940219749\n",
      "splier is:income\n",
      "the max entropy gain is:0.2516291673878229\n",
      "splier is:None\n",
      "the max entropy gain is:0.0\n",
      "决策树model:{'family_number': {1: {'gender': {'M': 0, 'F': {'income': {'+10': 0, '-10': 1}}}}, 2: 1}}\n"
     ]
    }
   ],
   "source": [
    "print(\"决策树model:{}\".format(createTree(datasets,'bought')))"
   ]
  },
  {
   "cell_type": "code",
   "execution_count": 157,
   "metadata": {},
   "outputs": [
    {
     "name": "stdout",
     "output_type": "stream",
     "text": [
      "splier is:family_number\n",
      "the max entropy gain is:0.2916919971380597\n",
      "splier is:gender\n",
      "the max entropy gain is:0.4199730940219749\n",
      "splier is:income\n",
      "the max entropy gain is:0.2516291673878229\n",
      "splier is:None\n",
      "the max entropy gain is:0.0\n"
     ]
    }
   ],
   "source": [
    "decision_tree_model = createTree(datasets,'bought')"
   ]
  },
  {
   "cell_type": "code",
   "execution_count": 195,
   "metadata": {},
   "outputs": [],
   "source": [
    "def classify(testdata,model):\n",
    "    # 决策树每次只找一个最优属性，所以每一层只有一个label\n",
    "    first_label = list(model.keys())[0]   \n",
    "    first_judge_dict = list(model.values())[0] \n",
    "    test_fm = testdata[first_label] \n",
    "    judge_result = first_judge_dict[test_fm] \n",
    "    if isinstance(judge_result,dict):\n",
    "        return classify(testdata,judge_result)\n",
    "    else:\n",
    "        return judge_result"
   ]
  },
  {
   "cell_type": "code",
   "execution_count": 203,
   "metadata": {},
   "outputs": [],
   "source": [
    "test_data_1 = {\n",
    "    'gender':'M',\n",
    "    'income':'-10',\n",
    "    'family_number':1\n",
    "}"
   ]
  },
  {
   "cell_type": "code",
   "execution_count": 204,
   "metadata": {},
   "outputs": [
    {
     "name": "stdout",
     "output_type": "stream",
     "text": [
      "测试数据的类别是:0\n"
     ]
    }
   ],
   "source": [
    "print(\"测试数据的类别是:{}\".format(classify(test_data_1,decision_tree_model)))"
   ]
  },
  {
   "cell_type": "code",
   "execution_count": 205,
   "metadata": {},
   "outputs": [],
   "source": [
    "test_data_2 = {\n",
    "    'gender':'F',\n",
    "    'income':'-10',\n",
    "    'family_number':1\n",
    "}"
   ]
  },
  {
   "cell_type": "code",
   "execution_count": 206,
   "metadata": {},
   "outputs": [
    {
     "name": "stdout",
     "output_type": "stream",
     "text": [
      "测试数据的类别是:1\n"
     ]
    }
   ],
   "source": [
    "print(\"测试数据的类别是:{}\".format(classify(test_data_2,decision_tree_model)))"
   ]
  },
  {
   "cell_type": "markdown",
   "metadata": {},
   "source": [
    "### 线性回归"
   ]
  },
  {
   "cell_type": "code",
   "execution_count": 278,
   "metadata": {},
   "outputs": [],
   "source": [
    "from sklearn.datasets import load_boston\n",
    "import random\n",
    "from matplotlib import pyplot as plt"
   ]
  },
  {
   "cell_type": "code",
   "execution_count": 279,
   "metadata": {},
   "outputs": [],
   "source": [
    "datasets = load_boston()"
   ]
  },
  {
   "cell_type": "code",
   "execution_count": 280,
   "metadata": {},
   "outputs": [],
   "source": [
    "X,y = datasets['data'],datasets['target']"
   ]
  },
  {
   "cell_type": "code",
   "execution_count": 281,
   "metadata": {},
   "outputs": [],
   "source": [
    "label = datasets['feature_names']"
   ]
  },
  {
   "cell_type": "code",
   "execution_count": 282,
   "metadata": {
    "collapsed": true
   },
   "outputs": [
    {
     "data": {
      "text/plain": [
       "['Boston House Prices dataset',\n",
       " '===========================',\n",
       " '',\n",
       " 'Notes',\n",
       " '------',\n",
       " 'Data Set Characteristics:  ',\n",
       " '',\n",
       " '    :Number of Instances: 506 ',\n",
       " '',\n",
       " '    :Number of Attributes: 13 numeric/categorical predictive',\n",
       " '    ',\n",
       " '    :Median Value (attribute 14) is usually the target',\n",
       " '',\n",
       " '    :Attribute Information (in order):',\n",
       " '        - CRIM     per capita crime rate by town',\n",
       " '        - ZN       proportion of residential land zoned for lots over 25,000 sq.ft.',\n",
       " '        - INDUS    proportion of non-retail business acres per town',\n",
       " '        - CHAS     Charles River dummy variable (= 1 if tract bounds river; 0 otherwise)',\n",
       " '        - NOX      nitric oxides concentration (parts per 10 million)',\n",
       " '        - RM       average number of rooms per dwelling',\n",
       " '        - AGE      proportion of owner-occupied units built prior to 1940',\n",
       " '        - DIS      weighted distances to five Boston employment centres',\n",
       " '        - RAD      index of accessibility to radial highways',\n",
       " '        - TAX      full-value property-tax rate per $10,000',\n",
       " '        - PTRATIO  pupil-teacher ratio by town',\n",
       " '        - B        1000(Bk - 0.63)^2 where Bk is the proportion of blacks by town',\n",
       " '        - LSTAT    % lower status of the population',\n",
       " \"        - MEDV     Median value of owner-occupied homes in $1000's\",\n",
       " '',\n",
       " '    :Missing Attribute Values: None',\n",
       " '',\n",
       " '    :Creator: Harrison, D. and Rubinfeld, D.L.',\n",
       " '',\n",
       " 'This is a copy of UCI ML housing dataset.',\n",
       " 'http://archive.ics.uci.edu/ml/datasets/Housing',\n",
       " '',\n",
       " '',\n",
       " 'This dataset was taken from the StatLib library which is maintained at Carnegie Mellon University.',\n",
       " '',\n",
       " \"The Boston house-price data of Harrison, D. and Rubinfeld, D.L. 'Hedonic\",\n",
       " \"prices and the demand for clean air', J. Environ. Economics & Management,\",\n",
       " \"vol.5, 81-102, 1978.   Used in Belsley, Kuh & Welsch, 'Regression diagnostics\",\n",
       " \"...', Wiley, 1980.   N.B. Various transformations are used in the table on\",\n",
       " 'pages 244-261 of the latter.',\n",
       " '',\n",
       " 'The Boston house-price data has been used in many machine learning papers that address regression',\n",
       " 'problems.   ',\n",
       " '     ',\n",
       " '**References**',\n",
       " '',\n",
       " \"   - Belsley, Kuh & Welsch, 'Regression diagnostics: Identifying Influential Data and Sources of Collinearity', Wiley, 1980. 244-261.\",\n",
       " '   - Quinlan,R. (1993). Combining Instance-Based and Model-Based Learning. In Proceedings on the Tenth International Conference of Machine Learning, 236-243, University of Massachusetts, Amherst. Morgan Kaufmann.',\n",
       " '   - many more! (see http://archive.ics.uci.edu/ml/datasets/Housing)',\n",
       " '']"
      ]
     },
     "execution_count": 282,
     "metadata": {},
     "output_type": "execute_result"
    }
   ],
   "source": [
    "datasets[\"DESCR\"].split(\"\\n\")"
   ]
  },
  {
   "cell_type": "code",
   "execution_count": 283,
   "metadata": {},
   "outputs": [],
   "source": [
    "X_RM = X[:,5]"
   ]
  },
  {
   "cell_type": "code",
   "execution_count": 284,
   "metadata": {},
   "outputs": [
    {
     "data": {
      "text/plain": [
       "<matplotlib.collections.PathCollection at 0x1a2409e5f8>"
      ]
     },
     "execution_count": 284,
     "metadata": {},
     "output_type": "execute_result"
    },
    {
     "data": {
      "image/png": "[encoded data removed]",
      "text/plain": [
       "<Figure size 432x288 with 1 Axes>"
      ]
     },
     "metadata": {
      "needs_background": "light"
     },
     "output_type": "display_data"
    }
   ],
   "source": [
    "plt.scatter(X_RM,y)"
   ]
  },
  {
   "cell_type": "markdown",
   "metadata": {},
   "source": [
    "### 假设房价price与rm符合以下线性关系\n",
    "### $$ y = k * rm + b $$"
   ]
  },
  {
   "cell_type": "code",
   "execution_count": 285,
   "metadata": {},
   "outputs": [],
   "source": [
    "def price(rm,k,b):\n",
    "    return k * rm + b"
   ]
  },
  {
   "cell_type": "markdown",
   "metadata": {},
   "source": [
    "### 使用绝对值损失函数\n",
    "### $$ loss = \\frac{1}{n} \\sum{|(y_i - \\hat{y_i})|}$$"
   ]
  },
  {
   "cell_type": "code",
   "execution_count": 286,
   "metadata": {},
   "outputs": [],
   "source": [
    "def loss_function(y,y_hat):\n",
    "    return sum(abs(y_i - y_hat_i) for y_i,y_hat_i in zip(list(y),list(y_hat))) / len(list(y))"
   ]
  },
  {
   "cell_type": "code",
   "execution_count": 287,
   "metadata": {},
   "outputs": [],
   "source": [
    "def partial_derivative_k(x,y,y_hat):\n",
    "    result = []\n",
    "    for x_i,y_i,y_hat_i in zip(list(x),list(y),list(y_hat)):\n",
    "        if (y_i - y_hat_i) > 0:\n",
    "            result.append(-x_i)\n",
    "        else:\n",
    "            result.append(x_i)\n",
    "    return sum(result) / len(list(y))"
   ]
  },
  {
   "cell_type": "code",
   "execution_count": 288,
   "metadata": {},
   "outputs": [],
   "source": [
    "def partial_derivative_b(x,y,y_hat):\n",
    "    result = []\n",
    "    for x_i,y_i,y_hat_i in zip(list(x),list(y),list(y_hat)):\n",
    "        if (y_i - y_hat_i) > 0:\n",
    "            result.append(-1)\n",
    "        else:\n",
    "            result.append(1)\n",
    "    return sum(result) / len(list(y))"
   ]
  },
  {
   "cell_type": "code",
   "execution_count": 290,
   "metadata": {},
   "outputs": [],
   "source": [
    "k = random.random()*200 - 100\n",
    "b = random.random()*200 - 100\n",
    "\n",
    "learning_rate = 1e-3\n",
    "\n",
    "iteration_num = 20000\n",
    "losses = []\n",
    "\n",
    "for i in range(iteration_num):\n",
    "    y_hat = [price(rm,k,b) for rm in X_RM]\n",
    "    \n",
    "    current_loss = loss_function(list(y),y_hat)\n",
    "    losses.append(current_loss)\n",
    "    \n",
    "#     print(\"Iteration {}, the loss is {}, parameters k is {} and b is {}\".format(i,current_loss,k,b))\n",
    "    \n",
    "    k_gradient = partial_derivative_k(X_RM,y,y_hat)\n",
    "    b_gradient = partial_derivative_b(X_RM,y,y_hat)\n",
    "    \n",
    "    k = k + (-1)*k_gradient*learning_rate\n",
    "    b = b + (-1)*b_gradient*learning_rate\n",
    "    \n",
    "best_k = k\n",
    "best_b = b"
   ]
  },
  {
   "cell_type": "code",
   "execution_count": 291,
   "metadata": {},
   "outputs": [
    {
     "data": {
      "text/plain": [
       "[<matplotlib.lines.Line2D at 0x1a242877b8>]"
      ]
     },
     "execution_count": 291,
     "metadata": {},
     "output_type": "execute_result"
    },
    {
     "data": {
      "image/png": "[encoded data removed]",
      "text/plain": [
       "<Figure size 432x288 with 1 Axes>"
      ]
     },
     "metadata": {
      "needs_background": "light"
     },
     "output_type": "display_data"
    }
   ],
   "source": [
    "# iteration_num = 20000  从lossfunction的趋势图来看  迭代到12000次左右达到收敛\n",
    "plt.plot(list(range(iteration_num)),losses)"
   ]
  },
  {
   "cell_type": "code",
   "execution_count": 292,
   "metadata": {},
   "outputs": [],
   "source": [
    "price_use_best_parameters = [price(r,best_k,best_b) for r in X_RM]"
   ]
  },
  {
   "cell_type": "code",
   "execution_count": 293,
   "metadata": {},
   "outputs": [
    {
     "data": {
      "text/plain": [
       "<matplotlib.collections.PathCollection at 0x1a24203cf8>"
      ]
     },
     "execution_count": 293,
     "metadata": {},
     "output_type": "execute_result"
    },
    {
     "data": {
      "image/png": "[encoded data removed]",
      "text/plain": [
       "<Figure size 432x288 with 1 Axes>"
      ]
     },
     "metadata": {
      "needs_background": "light"
     },
     "output_type": "display_data"
    }
   ],
   "source": [
    "plt.scatter(X_RM,y)\n",
    "plt.scatter(X_RM,price_use_best_parameters)"
   ]
  },
  {
   "cell_type": "code",
   "execution_count": null,
   "metadata": {},
   "outputs": [],
   "source": []
  }
 ],
 "metadata": {
  "kernelspec": {
   "display_name": "Python 3",
   "language": "python",
   "name": "python3"
  },
  "language_info": {
   "codemirror_mode": {
    "name": "ipython",
    "version": 3
   },
   "file_extension": ".py",
   "mimetype": "text/x-python",
   "name": "python",
   "nbconvert_exporter": "python",
   "pygments_lexer": "ipython3",
   "version": "3.7.3"
  }
 },
 "nbformat": 4,
 "nbformat_minor": 2
}
