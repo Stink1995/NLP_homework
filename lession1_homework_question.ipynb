{
 "cells": [
  {
   "cell_type": "markdown",
   "metadata": {},
   "source": [
    "# 0. Can you come up out 3 sceneraies which use AI methods?"
   ]
  },
  {
   "cell_type": "code",
   "execution_count": 4,
   "metadata": {},
   "outputs": [],
   "source": [
    "#     1）对话机器人 2）语音识别 3）文本分类"
   ]
  },
  {
   "cell_type": "markdown",
   "metadata": {},
   "source": [
    "# 1. How do we use Github; Why do we use Jupyter and Pycharm;"
   ]
  },
  {
   "cell_type": "code",
   "execution_count": 5,
   "metadata": {},
   "outputs": [],
   "source": [
    "# 在GitHub上下载课程代码，并上传自己的homework\n",
    "# Jupyter：\n",
    "#     交互性比较，可视化效果好，便于展示，能够一边写代码一边进行markdown，方便做笔记\n",
    "# Pycharm：\n",
    "#     会自动检测代码错误，防止出错；\n",
    "#     可以对方法，函数进行重构\n",
    "#     比较方便进行测试\n",
    "#     能够使用pycharm进行远程开发\n",
    "#     可以设置自己的代码主题，比较好看"
   ]
  },
  {
   "cell_type": "markdown",
   "metadata": {},
   "source": [
    "# 2. What's the Probability Model?"
   ]
  },
  {
   "cell_type": "code",
   "execution_count": 6,
   "metadata": {},
   "outputs": [],
   "source": [
    "# Probability Model 包含两个元素 sample space 和 probability law :\n",
    "#     sample space:一次实验的所有可能输出结果\n",
    "#     probability law:一件事情发生的可能性大小"
   ]
  },
  {
   "cell_type": "markdown",
   "metadata": {},
   "source": [
    "# 3. Can you came up with some sceneraies at which we could use Probability Model?"
   ]
  },
  {
   "cell_type": "code",
   "execution_count": 7,
   "metadata": {
    "scrolled": true
   },
   "outputs": [
    {
     "data": {
      "text/plain": [
       "1.0"
      ]
     },
     "execution_count": 7,
     "metadata": {},
     "output_type": "execute_result"
    }
   ],
   "source": [
    "# 1)图像识别\n",
    "# 2)语音识别\n",
    "# 3)文本检测"
   ]
  },
  {
   "cell_type": "markdown",
   "metadata": {},
   "source": [
    "# 4. Why do we use probability and what's the difficult points for programming based on parsing and pattern match?"
   ]
  },
  {
   "cell_type": "code",
   "execution_count": 8,
   "metadata": {},
   "outputs": [
    {
     "data": {
      "text/plain": [
       "1.0"
      ]
     },
     "execution_count": 8,
     "metadata": {},
     "output_type": "execute_result"
    }
   ],
   "source": [
    "# 基于模式解析和匹配地工程难点就在于只能匹配特定的一种情况，不具有很好的泛化性，而基于概率模型就很好地解决了这一难点"
   ]
  },
  {
   "cell_type": "markdown",
   "metadata": {},
   "source": [
    "# 5. What's the Language Model;"
   ]
  },
  {
   "cell_type": "code",
   "execution_count": 9,
   "metadata": {},
   "outputs": [],
   "source": [
    "# 一个单词在语言序列上的概率分布"
   ]
  },
  {
   "cell_type": "markdown",
   "metadata": {},
   "source": [
    "# 6. Can you came up with some sceneraies at which we could use Language Model?"
   ]
  },
  {
   "cell_type": "code",
   "execution_count": 10,
   "metadata": {},
   "outputs": [],
   "source": [
    "# 1)语音识别\n",
    "# 2)机器翻译\n",
    "# 3)词性标注\n",
    "# 4)句法分析"
   ]
  },
  {
   "cell_type": "markdown",
   "metadata": {},
   "source": [
    "# 7. What's the 1-gram language model;"
   ]
  },
  {
   "cell_type": "code",
   "execution_count": 11,
   "metadata": {},
   "outputs": [],
   "source": [
    "# 是一种仅考虑当前词本身出现的概率，而不考虑当前词的上下文环境的模型。\n",
    "# 表达形式为 ：\n",
    "#     P(w1,w2,...,wm)=P(w1)∗P(w2)∗...∗P(wm)\n",
    "# 也就是一个句子出现的概率也就是句子中每个单词出现的概率的乘积"
   ]
  },
  {
   "cell_type": "markdown",
   "metadata": {},
   "source": [
    "# 8. What's the disadvantages and advantages of 1-gram language model;"
   ]
  },
  {
   "cell_type": "code",
   "execution_count": 12,
   "metadata": {},
   "outputs": [],
   "source": [
    "# disadvantage：在一个句子中每个单词之间并不是相互独立地，造成结果不准确\n",
    "# advantage：模型简单，在只需要粗略估算时比较方便，也能得到不错的结果"
   ]
  },
  {
   "cell_type": "markdown",
   "metadata": {},
   "source": [
    "# 9. What't the 2-gram models;"
   ]
  },
  {
   "cell_type": "code",
   "execution_count": 13,
   "metadata": {},
   "outputs": [],
   "source": [
    "# 可以理解成当前词在一句话中出现的概率与他的前一个词存在一定的联系，\n",
    "# 表达形式如下:"
   ]
  },
  {
   "cell_type": "markdown",
   "metadata": {},
   "source": [
    "$$ Pr(sentence)  = Pr( w_1 \\cdot w_2 \\cdots w_n) = \\prod \\frac{count(w_i,w_{i+1})} {count(w_i)} $$"
   ]
  },
  {
   "cell_type": "code",
   "execution_count": null,
   "metadata": {},
   "outputs": [],
   "source": []
  }
 ],
 "metadata": {
  "kernelspec": {
   "display_name": "Python 3",
   "language": "python",
   "name": "python3"
  },
  "language_info": {
   "codemirror_mode": {
    "name": "ipython",
    "version": 3
   },
   "file_extension": ".py",
   "mimetype": "text/x-python",
   "name": "python",
   "nbconvert_exporter": "python",
   "pygments_lexer": "ipython3",
   "version": "3.7.0"
  }
 },
 "nbformat": 4,
 "nbformat_minor": 2
}
