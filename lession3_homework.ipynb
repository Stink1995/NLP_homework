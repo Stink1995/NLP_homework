{
 "cells": [
  {
   "cell_type": "code",
   "execution_count": 88,
   "metadata": {},
   "outputs": [],
   "source": [
    "import numpy as np\n",
    "from matplotlib import pyplot as plt\n",
    "%matplotlib inline"
   ]
  },
  {
   "cell_type": "code",
   "execution_count": 89,
   "metadata": {},
   "outputs": [],
   "source": [
    "# 生成[0,1)的浮点数 20行2列\n",
    "random_data = np.random.random((30,2)) "
   ]
  },
  {
   "cell_type": "code",
   "execution_count": 90,
   "metadata": {
    "collapsed": true
   },
   "outputs": [
    {
     "data": {
      "text/plain": [
       "array([[0.12479865, 0.39043986],\n",
       "       [0.68725913, 0.08078786],\n",
       "       [0.35385422, 0.85168677],\n",
       "       [0.31701611, 0.89041988],\n",
       "       [0.81093089, 0.63013257],\n",
       "       [0.3214928 , 0.15891833],\n",
       "       [0.78172086, 0.13175257],\n",
       "       [0.5304776 , 0.68226268],\n",
       "       [0.07326039, 0.10491344],\n",
       "       [0.62267289, 0.68050821],\n",
       "       [0.98007681, 0.72514126],\n",
       "       [0.49551862, 0.58327423],\n",
       "       [0.72971113, 0.35760692],\n",
       "       [0.18685067, 0.65201457],\n",
       "       [0.2804007 , 0.24464065],\n",
       "       [0.06364984, 0.81836315],\n",
       "       [0.60268548, 0.10087049],\n",
       "       [0.87348255, 0.02112855],\n",
       "       [0.84540412, 0.89464931],\n",
       "       [0.97770558, 0.70235835],\n",
       "       [0.17534482, 0.25958481],\n",
       "       [0.3831914 , 0.74305705],\n",
       "       [0.51005351, 0.00203311],\n",
       "       [0.32281438, 0.10495062],\n",
       "       [0.56375309, 0.33998435],\n",
       "       [0.64054554, 0.70903666],\n",
       "       [0.38530156, 0.99221055],\n",
       "       [0.29824731, 0.9408813 ],\n",
       "       [0.07165223, 0.23611424],\n",
       "       [0.42255306, 0.64333354]])"
      ]
     },
     "execution_count": 90,
     "metadata": {},
     "output_type": "execute_result"
    }
   ],
   "source": [
    "random_data"
   ]
  },
  {
   "cell_type": "code",
   "execution_count": 93,
   "metadata": {},
   "outputs": [],
   "source": [
    "X_train = random_data[:,0]"
   ]
  },
  {
   "cell_type": "code",
   "execution_count": 94,
   "metadata": {},
   "outputs": [],
   "source": [
    "X_test = random_data[:,1]"
   ]
  },
  {
   "cell_type": "markdown",
   "metadata": {},
   "source": [
    "### 线性回归"
   ]
  },
  {
   "cell_type": "code",
   "execution_count": 95,
   "metadata": {},
   "outputs": [],
   "source": [
    "def assuming_function(x):\n",
    "    # 在我们的日常生活中是常见的\n",
    "    # 体重 -> 高血压的概率\n",
    "    # 收入 -> 买阿玛尼的概率\n",
    "    # 其实都是一种潜在的函数关系 + 一个随机变化\n",
    "    return 13.4 * x + 5 + np.random.randint(-5, 5)    "
   ]
  },
  {
   "cell_type": "code",
   "execution_count": 96,
   "metadata": {},
   "outputs": [],
   "source": [
    "y = [assuming_function(x) for x in X]"
   ]
  },
  {
   "cell_type": "code",
   "execution_count": 98,
   "metadata": {},
   "outputs": [
    {
     "data": {
      "text/plain": [
       "Text(0,0.5,'买阿玛尼的概率')"
      ]
     },
     "execution_count": 98,
     "metadata": {},
     "output_type": "execute_result"
    },
    {
     "data": {
      "image/png": "[encoded data removed]",
      "text/plain": [
       "<Figure size 432x288 with 1 Axes>"
      ]
     },
     "metadata": {
      "needs_background": "light"
     },
     "output_type": "display_data"
    }
   ],
   "source": [
    "plt.scatter(X,y)\n",
    "plt.title(\"高血压的概率与买阿玛尼概率的关系\")\n",
    "plt.xlabel(\"高血压的概率\")\n",
    "plt.ylabel(\"买阿玛尼的概率\")"
   ]
  },
  {
   "cell_type": "code",
   "execution_count": 99,
   "metadata": {},
   "outputs": [],
   "source": [
    "y = np.array(y)"
   ]
  },
  {
   "cell_type": "code",
   "execution_count": 100,
   "metadata": {},
   "outputs": [],
   "source": [
    "from sklearn.linear_model import LinearRegression"
   ]
  },
  {
   "cell_type": "code",
   "execution_count": 109,
   "metadata": {},
   "outputs": [],
   "source": [
    "reg = LinearRegression().fit(X_train.reshape(-1,1),y)"
   ]
  },
  {
   "cell_type": "code",
   "execution_count": 111,
   "metadata": {},
   "outputs": [
    {
     "data": {
      "text/plain": [
       "0.6902116839222776"
      ]
     },
     "execution_count": 111,
     "metadata": {},
     "output_type": "execute_result"
    }
   ],
   "source": [
    "reg.score(X_train.reshape(-1,1),y)"
   ]
  },
  {
   "cell_type": "code",
   "execution_count": 113,
   "metadata": {},
   "outputs": [
    {
     "data": {
      "text/plain": [
       "array([14.38977235])"
      ]
     },
     "execution_count": 113,
     "metadata": {},
     "output_type": "execute_result"
    }
   ],
   "source": [
    "# 打印模型的系数k\n",
    "reg.coef_"
   ]
  },
  {
   "cell_type": "code",
   "execution_count": 115,
   "metadata": {},
   "outputs": [
    {
     "data": {
      "text/plain": [
       "4.49050612619949"
      ]
     },
     "execution_count": 115,
     "metadata": {},
     "output_type": "execute_result"
    }
   ],
   "source": [
    "# 打印模型偏差 b\n",
    "reg.intercept_"
   ]
  },
  {
   "cell_type": "code",
   "execution_count": 116,
   "metadata": {},
   "outputs": [],
   "source": [
    "def predict_function(x):\n",
    "    return reg.coef_ * x + reg.intercept_"
   ]
  },
  {
   "cell_type": "code",
   "execution_count": 120,
   "metadata": {},
   "outputs": [
    {
     "data": {
      "text/plain": [
       "[<matplotlib.lines.Line2D at 0x1a17fbce48>]"
      ]
     },
     "execution_count": 120,
     "metadata": {},
     "output_type": "execute_result"
    },
    {
     "data": {
      "image/png": "[encoded data removed]",
      "text/plain": [
       "<Figure size 432x288 with 1 Axes>"
      ]
     },
     "metadata": {
      "needs_background": "light"
     },
     "output_type": "display_data"
    }
   ],
   "source": [
    "plt.scatter(X_train, y)\n",
    "plt.plot(X_train,predict_function(X_train), color='red')"
   ]
  },
  {
   "cell_type": "code",
   "execution_count": 122,
   "metadata": {},
   "outputs": [],
   "source": [
    "# 使用新数据X_test 预测\n",
    "y_test = predict_function(X_test)"
   ]
  },
  {
   "cell_type": "code",
   "execution_count": 123,
   "metadata": {
    "collapsed": true
   },
   "outputs": [
    {
     "data": {
      "text/plain": [
       "array([10.10884678,  5.65302501, 16.74608484, 17.30344548, 13.55797032,\n",
       "        6.77730477,  6.38639555, 14.30811081,  6.00018661, 14.2828644 ,\n",
       "       14.92512382, 12.88368949,  9.63638836, 13.87284738,  8.01082939,\n",
       "       16.2665656 ,  5.94200947,  4.7945411 , 17.3643061 , 14.59728283,\n",
       "        8.2258725 , 15.18292795,  4.51976211,  6.0007217 ,  9.3828035 ,\n",
       "       14.69338222, 18.76819009, 18.02957387,  7.88813635, 13.74792928])"
      ]
     },
     "execution_count": 123,
     "metadata": {},
     "output_type": "execute_result"
    }
   ],
   "source": [
    "y_test"
   ]
  },
  {
   "cell_type": "markdown",
   "metadata": {},
   "source": [
    "### KNN"
   ]
  },
  {
   "cell_type": "code",
   "execution_count": 125,
   "metadata": {},
   "outputs": [],
   "source": [
    "from scipy.spatial.distance import cosine"
   ]
  },
  {
   "cell_type": "code",
   "execution_count": 127,
   "metadata": {},
   "outputs": [],
   "source": [
    "def get_data(x,y):\n",
    "    return [(xi,yi) for xi , yi in zip(x,y)]"
   ]
  },
  {
   "cell_type": "code",
   "execution_count": 128,
   "metadata": {},
   "outputs": [],
   "source": [
    "def get_distance(x1,x2):\n",
    "    return cosine(x1,x2)"
   ]
  },
  {
   "cell_type": "code",
   "execution_count": 132,
   "metadata": {},
   "outputs": [],
   "source": [
    "def knn_predict(x,k=5):\n",
    "    most_k_similars = sorted(get_data(X_train,y),key = lambda xi : get_distance(xi[0],x))[:k]\n",
    "    sum_k = 0\n",
    "    for t in most_k_similars:  # 求均值\n",
    "        sum_k += t[1]\n",
    "    return sum_k / k"
   ]
  },
  {
   "cell_type": "code",
   "execution_count": 134,
   "metadata": {},
   "outputs": [
    {
     "data": {
      "text/plain": [
       "11.547542117610362"
      ]
     },
     "execution_count": 134,
     "metadata": {},
     "output_type": "execute_result"
    }
   ],
   "source": [
    "knn_predict(0.53245)"
   ]
  },
  {
   "cell_type": "code",
   "execution_count": 136,
   "metadata": {},
   "outputs": [
    {
     "data": {
      "text/plain": [
       "12.422349696749073"
      ]
     },
     "execution_count": 136,
     "metadata": {},
     "output_type": "execute_result"
    }
   ],
   "source": [
    "knn_predict(0.888)"
   ]
  },
  {
   "cell_type": "code",
   "execution_count": 137,
   "metadata": {},
   "outputs": [
    {
     "data": {
      "text/plain": [
       "9.960968293887248"
      ]
     },
     "execution_count": 137,
     "metadata": {},
     "output_type": "execute_result"
    }
   ],
   "source": [
    "knn_predict(0.2134234)"
   ]
  },
  {
   "cell_type": "markdown",
   "metadata": {},
   "source": [
    "### Decision Tree"
   ]
  },
  {
   "cell_type": "code",
   "execution_count": 192,
   "metadata": {},
   "outputs": [],
   "source": [
    "from collections import Counter\n",
    "import pandas as pd"
   ]
  },
  {
   "cell_type": "code",
   "execution_count": 193,
   "metadata": {},
   "outputs": [
    {
     "data": {
      "text/plain": [
       "Counter({1: 4, 2: 2, 3: 3})"
      ]
     },
     "execution_count": 193,
     "metadata": {},
     "output_type": "execute_result"
    }
   ],
   "source": [
    "Counter([1,1,1,1,2,2,3,3,3])"
   ]
  },
  {
   "cell_type": "code",
   "execution_count": 194,
   "metadata": {},
   "outputs": [],
   "source": [
    "def entropy(elements):\n",
    "    counter = Counter(elements)\n",
    "    probs = [counter[c] / len(elements) for c in set(elements)]\n",
    "    return - sum(p * np.log(p) for p in probs)"
   ]
  },
  {
   "cell_type": "code",
   "execution_count": 195,
   "metadata": {},
   "outputs": [
    {
     "data": {
      "text/plain": [
       "1.0608569471580214"
      ]
     },
     "execution_count": 195,
     "metadata": {},
     "output_type": "execute_result"
    }
   ],
   "source": [
    "entropy([1,1,1,1,2,2,3,3,3])"
   ]
  },
  {
   "cell_type": "code",
   "execution_count": 196,
   "metadata": {},
   "outputs": [
    {
     "data": {
      "text/plain": [
       "1.464816384890813"
      ]
     },
     "execution_count": 196,
     "metadata": {},
     "output_type": "execute_result"
    }
   ],
   "source": [
    "entropy([1,1,1,2,3,4,5,5,5])"
   ]
  },
  {
   "cell_type": "code",
   "execution_count": 168,
   "metadata": {},
   "outputs": [],
   "source": [
    "mock_data = {\n",
    "    'gender':['F', 'F', 'F', 'F', 'M', 'M', 'M'],\n",
    "    'income': ['+10', '-10', '+10', '+10', '+10', '+10', '-10'],\n",
    "    'family_number': [1, 1, 2, 1, 1, 1, 2],\n",
    "    'bought': [1, 1, 1, 0, 0, 0, 1],\n",
    "}"
   ]
  },
  {
   "cell_type": "code",
   "execution_count": 171,
   "metadata": {},
   "outputs": [],
   "source": [
    "datasets = pd.DataFrame.from_dict(mock_data)"
   ]
  },
  {
   "cell_type": "code",
   "execution_count": 216,
   "metadata": {},
   "outputs": [
    {
     "data": {
      "text/html": [
       "<div>\n",
       "<style scoped>\n",
       "    .dataframe tbody tr th:only-of-type {\n",
       "        vertical-align: middle;\n",
       "    }\n",
       "\n",
       "    .dataframe tbody tr th {\n",
       "        vertical-align: top;\n",
       "    }\n",
       "\n",
       "    .dataframe thead th {\n",
       "        text-align: right;\n",
       "    }\n",
       "</style>\n",
       "<table border=\"1\" class=\"dataframe\">\n",
       "  <thead>\n",
       "    <tr style=\"text-align: right;\">\n",
       "      <th></th>\n",
       "      <th>gender</th>\n",
       "      <th>income</th>\n",
       "      <th>family_number</th>\n",
       "      <th>bought</th>\n",
       "    </tr>\n",
       "  </thead>\n",
       "  <tbody>\n",
       "    <tr>\n",
       "      <th>0</th>\n",
       "      <td>F</td>\n",
       "      <td>+10</td>\n",
       "      <td>1</td>\n",
       "      <td>1</td>\n",
       "    </tr>\n",
       "    <tr>\n",
       "      <th>1</th>\n",
       "      <td>F</td>\n",
       "      <td>-10</td>\n",
       "      <td>1</td>\n",
       "      <td>1</td>\n",
       "    </tr>\n",
       "    <tr>\n",
       "      <th>2</th>\n",
       "      <td>F</td>\n",
       "      <td>+10</td>\n",
       "      <td>2</td>\n",
       "      <td>1</td>\n",
       "    </tr>\n",
       "    <tr>\n",
       "      <th>3</th>\n",
       "      <td>F</td>\n",
       "      <td>+10</td>\n",
       "      <td>1</td>\n",
       "      <td>0</td>\n",
       "    </tr>\n",
       "    <tr>\n",
       "      <th>4</th>\n",
       "      <td>M</td>\n",
       "      <td>+10</td>\n",
       "      <td>1</td>\n",
       "      <td>0</td>\n",
       "    </tr>\n",
       "    <tr>\n",
       "      <th>5</th>\n",
       "      <td>M</td>\n",
       "      <td>+10</td>\n",
       "      <td>1</td>\n",
       "      <td>0</td>\n",
       "    </tr>\n",
       "    <tr>\n",
       "      <th>6</th>\n",
       "      <td>M</td>\n",
       "      <td>-10</td>\n",
       "      <td>2</td>\n",
       "      <td>1</td>\n",
       "    </tr>\n",
       "  </tbody>\n",
       "</table>\n",
       "</div>"
      ],
      "text/plain": [
       "  gender income  family_number  bought\n",
       "0      F    +10              1       1\n",
       "1      F    -10              1       1\n",
       "2      F    +10              2       1\n",
       "3      F    +10              1       0\n",
       "4      M    +10              1       0\n",
       "5      M    +10              1       0\n",
       "6      M    -10              2       1"
      ]
     },
     "execution_count": 216,
     "metadata": {},
     "output_type": "execute_result"
    }
   ],
   "source": [
    "datasets"
   ]
  },
  {
   "cell_type": "code",
   "execution_count": 221,
   "metadata": {},
   "outputs": [],
   "source": [
    "def find_min_spliter(traing_data:pd.DataFrame,target:str) :\n",
    "    x_fields = set(traing_data.columns.tolist()) - {target}\n",
    "    \n",
    "    spliter = None\n",
    "    min_entropy = float(\"inf\")\n",
    "    \n",
    "    for x in x_fields:\n",
    "        values = set(traing_data[x])\n",
    "        for v in values:\n",
    "            sub_spliter_1 = traing_data[traing_data[x] == v][target].tolist()\n",
    "            entroy_1 = entropy(sub_spliter_1)\n",
    "            sub_spilter_2 = traing_data[traing_data[x] != v][target].tolist()\n",
    "            entroy_2 = entropy(sub_spilter_2)\n",
    "            \n",
    "            entropy_v = entroy_1 + entroy_2\n",
    "            print(\"{}混乱度为:{}\".format(x,entropy_v))\n",
    "            \n",
    "            if entropy_v <= min_entropy:\n",
    "                min_entropy = entropy_v\n",
    "                spliter = (x,v)\n",
    "    \n",
    "    print(\"spliter is:{}\".format(spliter))\n",
    "    print(\"the min entropy is:{}\".format(min_entropy))\n",
    "    \n",
    "    return spliter"
   ]
  },
  {
   "cell_type": "code",
   "execution_count": 222,
   "metadata": {},
   "outputs": [
    {
     "name": "stdout",
     "output_type": "stream",
     "text": [
      "gender混乱度为:1.198849312913621\n",
      "gender混乱度为:1.198849312913621\n",
      "income混乱度为:0.6730116670092565\n",
      "income混乱度为:0.6730116670092565\n",
      "family_number混乱度为:0.6730116670092565\n",
      "family_number混乱度为:0.6730116670092565\n",
      "spliter is:('family_number', 2)\n",
      "the min entropy is:0.6730116670092565\n"
     ]
    },
    {
     "data": {
      "text/plain": [
       "('family_number', 2)"
      ]
     },
     "execution_count": 222,
     "metadata": {},
     "output_type": "execute_result"
    }
   ],
   "source": [
    "find_min_spliter(datasets,\"bought\")"
   ]
  },
  {
   "cell_type": "code",
   "execution_count": 223,
   "metadata": {},
   "outputs": [
    {
     "data": {
      "text/html": [
       "<div>\n",
       "<style scoped>\n",
       "    .dataframe tbody tr th:only-of-type {\n",
       "        vertical-align: middle;\n",
       "    }\n",
       "\n",
       "    .dataframe tbody tr th {\n",
       "        vertical-align: top;\n",
       "    }\n",
       "\n",
       "    .dataframe thead th {\n",
       "        text-align: right;\n",
       "    }\n",
       "</style>\n",
       "<table border=\"1\" class=\"dataframe\">\n",
       "  <thead>\n",
       "    <tr style=\"text-align: right;\">\n",
       "      <th></th>\n",
       "      <th>gender</th>\n",
       "      <th>income</th>\n",
       "      <th>family_number</th>\n",
       "      <th>bought</th>\n",
       "    </tr>\n",
       "  </thead>\n",
       "  <tbody>\n",
       "    <tr>\n",
       "      <th>2</th>\n",
       "      <td>F</td>\n",
       "      <td>+10</td>\n",
       "      <td>2</td>\n",
       "      <td>1</td>\n",
       "    </tr>\n",
       "    <tr>\n",
       "      <th>6</th>\n",
       "      <td>M</td>\n",
       "      <td>-10</td>\n",
       "      <td>2</td>\n",
       "      <td>1</td>\n",
       "    </tr>\n",
       "  </tbody>\n",
       "</table>\n",
       "</div>"
      ],
      "text/plain": [
       "  gender income  family_number  bought\n",
       "2      F    +10              2       1\n",
       "6      M    -10              2       1"
      ]
     },
     "execution_count": 223,
     "metadata": {},
     "output_type": "execute_result"
    }
   ],
   "source": [
    "datasets[datasets['family_number'] == 2]"
   ]
  },
  {
   "cell_type": "code",
   "execution_count": 224,
   "metadata": {},
   "outputs": [
    {
     "data": {
      "text/html": [
       "<div>\n",
       "<style scoped>\n",
       "    .dataframe tbody tr th:only-of-type {\n",
       "        vertical-align: middle;\n",
       "    }\n",
       "\n",
       "    .dataframe tbody tr th {\n",
       "        vertical-align: top;\n",
       "    }\n",
       "\n",
       "    .dataframe thead th {\n",
       "        text-align: right;\n",
       "    }\n",
       "</style>\n",
       "<table border=\"1\" class=\"dataframe\">\n",
       "  <thead>\n",
       "    <tr style=\"text-align: right;\">\n",
       "      <th></th>\n",
       "      <th>gender</th>\n",
       "      <th>income</th>\n",
       "      <th>family_number</th>\n",
       "      <th>bought</th>\n",
       "    </tr>\n",
       "  </thead>\n",
       "  <tbody>\n",
       "    <tr>\n",
       "      <th>0</th>\n",
       "      <td>F</td>\n",
       "      <td>+10</td>\n",
       "      <td>1</td>\n",
       "      <td>1</td>\n",
       "    </tr>\n",
       "    <tr>\n",
       "      <th>1</th>\n",
       "      <td>F</td>\n",
       "      <td>-10</td>\n",
       "      <td>1</td>\n",
       "      <td>1</td>\n",
       "    </tr>\n",
       "    <tr>\n",
       "      <th>3</th>\n",
       "      <td>F</td>\n",
       "      <td>+10</td>\n",
       "      <td>1</td>\n",
       "      <td>0</td>\n",
       "    </tr>\n",
       "    <tr>\n",
       "      <th>4</th>\n",
       "      <td>M</td>\n",
       "      <td>+10</td>\n",
       "      <td>1</td>\n",
       "      <td>0</td>\n",
       "    </tr>\n",
       "    <tr>\n",
       "      <th>5</th>\n",
       "      <td>M</td>\n",
       "      <td>+10</td>\n",
       "      <td>1</td>\n",
       "      <td>0</td>\n",
       "    </tr>\n",
       "  </tbody>\n",
       "</table>\n",
       "</div>"
      ],
      "text/plain": [
       "  gender income  family_number  bought\n",
       "0      F    +10              1       1\n",
       "1      F    -10              1       1\n",
       "3      F    +10              1       0\n",
       "4      M    +10              1       0\n",
       "5      M    +10              1       0"
      ]
     },
     "execution_count": 224,
     "metadata": {},
     "output_type": "execute_result"
    }
   ],
   "source": [
    "datasets[datasets['family_number'] == 1]"
   ]
  },
  {
   "cell_type": "code",
   "execution_count": 226,
   "metadata": {},
   "outputs": [
    {
     "name": "stdout",
     "output_type": "stream",
     "text": [
      "gender混乱度为:0.6365141682948128\n",
      "gender混乱度为:0.6365141682948128\n",
      "income混乱度为:0.5623351446188083\n",
      "income混乱度为:0.5623351446188083\n",
      "family_number混乱度为:0.6730116670092565\n",
      "spliter is:('income', '-10')\n",
      "the min entropy is:0.5623351446188083\n"
     ]
    },
    {
     "data": {
      "text/plain": [
       "('income', '-10')"
      ]
     },
     "execution_count": 226,
     "metadata": {},
     "output_type": "execute_result"
    }
   ],
   "source": [
    "find_min_spliter(datasets[datasets['family_number'] == 1], 'bought')"
   ]
  },
  {
   "cell_type": "code",
   "execution_count": 229,
   "metadata": {},
   "outputs": [],
   "source": [
    "sub_df = datasets[datasets['family_number'] == 1]"
   ]
  },
  {
   "cell_type": "code",
   "execution_count": 232,
   "metadata": {},
   "outputs": [
    {
     "data": {
      "text/html": [
       "<div>\n",
       "<style scoped>\n",
       "    .dataframe tbody tr th:only-of-type {\n",
       "        vertical-align: middle;\n",
       "    }\n",
       "\n",
       "    .dataframe tbody tr th {\n",
       "        vertical-align: top;\n",
       "    }\n",
       "\n",
       "    .dataframe thead th {\n",
       "        text-align: right;\n",
       "    }\n",
       "</style>\n",
       "<table border=\"1\" class=\"dataframe\">\n",
       "  <thead>\n",
       "    <tr style=\"text-align: right;\">\n",
       "      <th></th>\n",
       "      <th>gender</th>\n",
       "      <th>income</th>\n",
       "      <th>family_number</th>\n",
       "      <th>bought</th>\n",
       "    </tr>\n",
       "  </thead>\n",
       "  <tbody>\n",
       "    <tr>\n",
       "      <th>0</th>\n",
       "      <td>F</td>\n",
       "      <td>+10</td>\n",
       "      <td>1</td>\n",
       "      <td>1</td>\n",
       "    </tr>\n",
       "    <tr>\n",
       "      <th>3</th>\n",
       "      <td>F</td>\n",
       "      <td>+10</td>\n",
       "      <td>1</td>\n",
       "      <td>0</td>\n",
       "    </tr>\n",
       "    <tr>\n",
       "      <th>4</th>\n",
       "      <td>M</td>\n",
       "      <td>+10</td>\n",
       "      <td>1</td>\n",
       "      <td>0</td>\n",
       "    </tr>\n",
       "    <tr>\n",
       "      <th>5</th>\n",
       "      <td>M</td>\n",
       "      <td>+10</td>\n",
       "      <td>1</td>\n",
       "      <td>0</td>\n",
       "    </tr>\n",
       "  </tbody>\n",
       "</table>\n",
       "</div>"
      ],
      "text/plain": [
       "  gender income  family_number  bought\n",
       "0      F    +10              1       1\n",
       "3      F    +10              1       0\n",
       "4      M    +10              1       0\n",
       "5      M    +10              1       0"
      ]
     },
     "execution_count": 232,
     "metadata": {},
     "output_type": "execute_result"
    }
   ],
   "source": [
    "sub_df[sub_df['income'] == '+10']"
   ]
  },
  {
   "cell_type": "code",
   "execution_count": 233,
   "metadata": {},
   "outputs": [
    {
     "data": {
      "text/html": [
       "<div>\n",
       "<style scoped>\n",
       "    .dataframe tbody tr th:only-of-type {\n",
       "        vertical-align: middle;\n",
       "    }\n",
       "\n",
       "    .dataframe tbody tr th {\n",
       "        vertical-align: top;\n",
       "    }\n",
       "\n",
       "    .dataframe thead th {\n",
       "        text-align: right;\n",
       "    }\n",
       "</style>\n",
       "<table border=\"1\" class=\"dataframe\">\n",
       "  <thead>\n",
       "    <tr style=\"text-align: right;\">\n",
       "      <th></th>\n",
       "      <th>gender</th>\n",
       "      <th>income</th>\n",
       "      <th>family_number</th>\n",
       "      <th>bought</th>\n",
       "    </tr>\n",
       "  </thead>\n",
       "  <tbody>\n",
       "    <tr>\n",
       "      <th>1</th>\n",
       "      <td>F</td>\n",
       "      <td>-10</td>\n",
       "      <td>1</td>\n",
       "      <td>1</td>\n",
       "    </tr>\n",
       "  </tbody>\n",
       "</table>\n",
       "</div>"
      ],
      "text/plain": [
       "  gender income  family_number  bought\n",
       "1      F    -10              1       1"
      ]
     },
     "execution_count": 233,
     "metadata": {},
     "output_type": "execute_result"
    }
   ],
   "source": [
    "sub_df[sub_df['income'] != '+10']"
   ]
  },
  {
   "cell_type": "code",
   "execution_count": 234,
   "metadata": {},
   "outputs": [
    {
     "name": "stdout",
     "output_type": "stream",
     "text": [
      "gender混乱度为:0.6931471805599453\n",
      "gender混乱度为:0.6931471805599453\n",
      "income混乱度为:0.5623351446188083\n",
      "family_number混乱度为:0.5623351446188083\n",
      "spliter is:('family_number', 1)\n",
      "the min entropy is:0.5623351446188083\n"
     ]
    },
    {
     "data": {
      "text/plain": [
       "('family_number', 1)"
      ]
     },
     "execution_count": 234,
     "metadata": {},
     "output_type": "execute_result"
    }
   ],
   "source": [
    "find_min_spliter(sub_df[sub_df['income'] == '+10'],\"bought\")"
   ]
  },
  {
   "cell_type": "markdown",
   "metadata": {},
   "source": [
    "### k-means"
   ]
  },
  {
   "cell_type": "code",
   "execution_count": 275,
   "metadata": {},
   "outputs": [],
   "source": [
    "from sklearn.cluster import KMeans"
   ]
  },
  {
   "cell_type": "code",
   "execution_count": 276,
   "metadata": {},
   "outputs": [],
   "source": [
    "X = [np.random.randint(0,100) for _ in range(100)]\n",
    "y = [np.random.randint(0,100) for _ in range(100)]"
   ]
  },
  {
   "cell_type": "code",
   "execution_count": 277,
   "metadata": {},
   "outputs": [
    {
     "data": {
      "text/plain": [
       "<matplotlib.collections.PathCollection at 0x1a1a2cef28>"
      ]
     },
     "execution_count": 277,
     "metadata": {},
     "output_type": "execute_result"
    },
    {
     "data": {
      "image/png": "[encoded data removed]",
      "text/plain": [
       "<Figure size 432x288 with 1 Axes>"
      ]
     },
     "metadata": {
      "needs_background": "light"
     },
     "output_type": "display_data"
    }
   ],
   "source": [
    "plt.scatter(X,y)"
   ]
  },
  {
   "cell_type": "code",
   "execution_count": 278,
   "metadata": {},
   "outputs": [],
   "source": [
    "train_data = [[x,y] for x,y in zip(X,y)]"
   ]
  },
  {
   "cell_type": "code",
   "execution_count": 279,
   "metadata": {
    "collapsed": true
   },
   "outputs": [
    {
     "data": {
      "text/plain": [
       "[[92, 67],\n",
       " [76, 46],\n",
       " [30, 1],\n",
       " [61, 52],\n",
       " [44, 90],\n",
       " [82, 83],\n",
       " [67, 70],\n",
       " [51, 14],\n",
       " [48, 72],\n",
       " [97, 13],\n",
       " [84, 28],\n",
       " [63, 46],\n",
       " [79, 28],\n",
       " [75, 14],\n",
       " [76, 29],\n",
       " [40, 5],\n",
       " [40, 42],\n",
       " [56, 60],\n",
       " [30, 54],\n",
       " [40, 49],\n",
       " [54, 25],\n",
       " [52, 83],\n",
       " [38, 24],\n",
       " [71, 4],\n",
       " [60, 77],\n",
       " [50, 39],\n",
       " [15, 41],\n",
       " [74, 29],\n",
       " [35, 93],\n",
       " [14, 71],\n",
       " [88, 86],\n",
       " [76, 79],\n",
       " [10, 49],\n",
       " [25, 74],\n",
       " [91, 33],\n",
       " [69, 35],\n",
       " [29, 93],\n",
       " [73, 53],\n",
       " [90, 52],\n",
       " [61, 25],\n",
       " [97, 18],\n",
       " [76, 80],\n",
       " [99, 40],\n",
       " [48, 76],\n",
       " [69, 62],\n",
       " [5, 36],\n",
       " [26, 30],\n",
       " [0, 0],\n",
       " [35, 68],\n",
       " [27, 15],\n",
       " [38, 99],\n",
       " [85, 69],\n",
       " [33, 73],\n",
       " [66, 0],\n",
       " [96, 88],\n",
       " [44, 53],\n",
       " [8, 51],\n",
       " [61, 20],\n",
       " [72, 68],\n",
       " [52, 21],\n",
       " [22, 55],\n",
       " [3, 46],\n",
       " [1, 89],\n",
       " [17, 64],\n",
       " [50, 55],\n",
       " [50, 3],\n",
       " [47, 38],\n",
       " [89, 4],\n",
       " [95, 89],\n",
       " [42, 44],\n",
       " [45, 6],\n",
       " [43, 90],\n",
       " [76, 54],\n",
       " [73, 85],\n",
       " [14, 11],\n",
       " [44, 21],\n",
       " [34, 89],\n",
       " [70, 95],\n",
       " [38, 33],\n",
       " [51, 66],\n",
       " [97, 70],\n",
       " [69, 12],\n",
       " [32, 70],\n",
       " [70, 5],\n",
       " [6, 53],\n",
       " [9, 17],\n",
       " [57, 10],\n",
       " [61, 34],\n",
       " [95, 21],\n",
       " [69, 21],\n",
       " [32, 70],\n",
       " [59, 84],\n",
       " [73, 63],\n",
       " [72, 6],\n",
       " [21, 48],\n",
       " [16, 48],\n",
       " [58, 88],\n",
       " [12, 3],\n",
       " [36, 38],\n",
       " [42, 23]]"
      ]
     },
     "execution_count": 279,
     "metadata": {},
     "output_type": "execute_result"
    }
   ],
   "source": [
    "train_data"
   ]
  },
  {
   "cell_type": "code",
   "execution_count": 280,
   "metadata": {},
   "outputs": [],
   "source": [
    "cluster = KMeans(n_clusters=6,max_iter=800)"
   ]
  },
  {
   "cell_type": "code",
   "execution_count": 281,
   "metadata": {},
   "outputs": [
    {
     "data": {
      "text/plain": [
       "KMeans(algorithm='auto', copy_x=True, init='k-means++', max_iter=800,\n",
       "    n_clusters=6, n_init=10, n_jobs=1, precompute_distances='auto',\n",
       "    random_state=None, tol=0.0001, verbose=0)"
      ]
     },
     "execution_count": 281,
     "metadata": {},
     "output_type": "execute_result"
    }
   ],
   "source": [
    "cluster.fit(train_data)"
   ]
  },
  {
   "cell_type": "code",
   "execution_count": 282,
   "metadata": {},
   "outputs": [
    {
     "data": {
      "text/plain": [
       "array([[12.92307692, 54.23076923],\n",
       "       [78.47368421, 17.63157895],\n",
       "       [52.22222222, 40.83333333],\n",
       "       [80.55555556, 72.94444444],\n",
       "       [30.57142857, 12.35714286],\n",
       "       [42.        , 80.83333333]])"
      ]
     },
     "execution_count": 282,
     "metadata": {},
     "output_type": "execute_result"
    }
   ],
   "source": [
    "cluster.cluster_centers_"
   ]
  },
  {
   "cell_type": "code",
   "execution_count": 283,
   "metadata": {},
   "outputs": [
    {
     "data": {
      "text/plain": [
       "array([3, 2, 4, 2, 5, 3, 3, 4, 5, 1, 1, 2, 1, 1, 1, 4, 2, 2, 0, 2, 2, 5,\n",
       "       4, 1, 5, 2, 0, 1, 5, 0, 3, 3, 0, 5, 1, 2, 5, 3, 3, 2, 1, 3, 1, 5,\n",
       "       3, 0, 4, 4, 5, 4, 5, 3, 5, 1, 3, 2, 0, 1, 3, 2, 0, 0, 0, 0, 2, 4,\n",
       "       2, 1, 3, 2, 4, 5, 3, 3, 4, 4, 5, 3, 2, 5, 3, 1, 5, 1, 0, 4, 1, 2,\n",
       "       1, 1, 5, 5, 3, 1, 0, 0, 5, 4, 2, 4], dtype=int32)"
      ]
     },
     "execution_count": 283,
     "metadata": {},
     "output_type": "execute_result"
    }
   ],
   "source": [
    "cluster.labels_"
   ]
  },
  {
   "cell_type": "code",
   "execution_count": 284,
   "metadata": {},
   "outputs": [],
   "source": [
    "from collections import defaultdict"
   ]
  },
  {
   "cell_type": "code",
   "execution_count": 285,
   "metadata": {},
   "outputs": [],
   "source": [
    "centers = defaultdict(list)"
   ]
  },
  {
   "cell_type": "code",
   "execution_count": 286,
   "metadata": {},
   "outputs": [],
   "source": [
    "for label,location in zip(cluster.labels_,train_data):\n",
    "    centers[label].append(location)"
   ]
  },
  {
   "cell_type": "code",
   "execution_count": 287,
   "metadata": {
    "collapsed": true
   },
   "outputs": [
    {
     "data": {
      "text/plain": [
       "defaultdict(list,\n",
       "            {3: [[92, 67],\n",
       "              [82, 83],\n",
       "              [67, 70],\n",
       "              [88, 86],\n",
       "              [76, 79],\n",
       "              [73, 53],\n",
       "              [90, 52],\n",
       "              [76, 80],\n",
       "              [69, 62],\n",
       "              [85, 69],\n",
       "              [96, 88],\n",
       "              [72, 68],\n",
       "              [95, 89],\n",
       "              [76, 54],\n",
       "              [73, 85],\n",
       "              [70, 95],\n",
       "              [97, 70],\n",
       "              [73, 63]],\n",
       "             2: [[76, 46],\n",
       "              [61, 52],\n",
       "              [63, 46],\n",
       "              [40, 42],\n",
       "              [56, 60],\n",
       "              [40, 49],\n",
       "              [54, 25],\n",
       "              [50, 39],\n",
       "              [69, 35],\n",
       "              [61, 25],\n",
       "              [44, 53],\n",
       "              [52, 21],\n",
       "              [50, 55],\n",
       "              [47, 38],\n",
       "              [42, 44],\n",
       "              [38, 33],\n",
       "              [61, 34],\n",
       "              [36, 38]],\n",
       "             4: [[30, 1],\n",
       "              [51, 14],\n",
       "              [40, 5],\n",
       "              [38, 24],\n",
       "              [26, 30],\n",
       "              [0, 0],\n",
       "              [27, 15],\n",
       "              [50, 3],\n",
       "              [45, 6],\n",
       "              [14, 11],\n",
       "              [44, 21],\n",
       "              [9, 17],\n",
       "              [12, 3],\n",
       "              [42, 23]],\n",
       "             5: [[44, 90],\n",
       "              [48, 72],\n",
       "              [52, 83],\n",
       "              [60, 77],\n",
       "              [35, 93],\n",
       "              [25, 74],\n",
       "              [29, 93],\n",
       "              [48, 76],\n",
       "              [35, 68],\n",
       "              [38, 99],\n",
       "              [33, 73],\n",
       "              [43, 90],\n",
       "              [34, 89],\n",
       "              [51, 66],\n",
       "              [32, 70],\n",
       "              [32, 70],\n",
       "              [59, 84],\n",
       "              [58, 88]],\n",
       "             1: [[97, 13],\n",
       "              [84, 28],\n",
       "              [79, 28],\n",
       "              [75, 14],\n",
       "              [76, 29],\n",
       "              [71, 4],\n",
       "              [74, 29],\n",
       "              [91, 33],\n",
       "              [97, 18],\n",
       "              [99, 40],\n",
       "              [66, 0],\n",
       "              [61, 20],\n",
       "              [89, 4],\n",
       "              [69, 12],\n",
       "              [70, 5],\n",
       "              [57, 10],\n",
       "              [95, 21],\n",
       "              [69, 21],\n",
       "              [72, 6]],\n",
       "             0: [[30, 54],\n",
       "              [15, 41],\n",
       "              [14, 71],\n",
       "              [10, 49],\n",
       "              [5, 36],\n",
       "              [8, 51],\n",
       "              [22, 55],\n",
       "              [3, 46],\n",
       "              [1, 89],\n",
       "              [17, 64],\n",
       "              [6, 53],\n",
       "              [21, 48],\n",
       "              [16, 48]]})"
      ]
     },
     "execution_count": 287,
     "metadata": {},
     "output_type": "execute_result"
    }
   ],
   "source": [
    "centers"
   ]
  },
  {
   "cell_type": "code",
   "execution_count": 289,
   "metadata": {},
   "outputs": [
    {
     "data": {
      "image/png": "[encoded data removed]",
      "text/plain": [
       "<Figure size 432x288 with 1 Axes>"
      ]
     },
     "metadata": {
      "needs_background": "light"
     },
     "output_type": "display_data"
    }
   ],
   "source": [
    "color = ['red', 'green', 'grey', 'black', 'yellow', 'orange']\n",
    "\n",
    "for i , c in enumerate(centers):\n",
    "    for location in centers[c]:\n",
    "        plt.scatter(*location,c=color[i])  # 实参前面加上*表示拆包打散\n",
    "        \n",
    "for center in cluster.cluster_centers_:\n",
    "    plt.scatter(*center,s=100)"
   ]
  },
  {
   "cell_type": "code",
   "execution_count": null,
   "metadata": {},
   "outputs": [],
   "source": []
  }
 ],
 "metadata": {
  "kernelspec": {
   "display_name": "Python 3",
   "language": "python",
   "name": "python3"
  },
  "language_info": {
   "codemirror_mode": {
    "name": "ipython",
    "version": 3
   },
   "file_extension": ".py",
   "mimetype": "text/x-python",
   "name": "python",
   "nbconvert_exporter": "python",
   "pygments_lexer": "ipython3",
   "version": "3.7.3"
  }
 },
 "nbformat": 4,
 "nbformat_minor": 2
}
